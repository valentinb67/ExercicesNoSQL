{
 "cells": [
  {
   "attachments": {},
   "cell_type": "markdown",
   "metadata": {},
   "source": [
    "<a name=\"Exercise\"></a>\n",
    "## Exercise\n",
    "\n",
    "## SQLITE\n",
    "\n",
    "**1**: Read all the data from bc.csv, how many rows is there ? Columns ? \n",
    "\n",
    "**2**: Insert the bc.csv in the sqlite format.\n",
    "\n",
    "**3**: In the same db create a new table called tomatch with two variables id_ and rdm_float. \n",
    "\n",
    "**4**: In the table tomatch insert observations where the id_ starts from 50k, ends at 10000000 and is only even numbers. rdm_float is a random float for each observation.\n",
    "\n",
    "**5**: Do an Inner join between the two tables and compute the different aggregate functions on a column of your choice.\n",
    "\n",
    "**6**: How many observations have a radius_mean greater than 15 ? From them how many have a texture_mean greater than 20 ?\n",
    "\n",
    "**7**: For each category in diagnosis do the mean of a variable and round it to get only 2 numbers after the comma. Compute the difference between the mean of both groups\n",
    "\n",
    "**8**: Change the name of the column \"diagnosis\" to \"label\"\n",
    "\n",
    "**9**: Add a column named \"day\" of type DATE.\n",
    "\n",
    "**10**: Change the type of the column \"area_mean\" to int (hint, not possible on sqlite, create a new column)\n",
    "\n",
    "**11**: create a new table called tomatch2 exactly the same way as tomatch except you increment id_ by 10.\n",
    "\n",
    "**12**: Do an inner join of bc, tomatch and tomatch2 where the radius_mean is greater than 15, and the rdm_float is greater than 0.50 in tomatch AND tomatch2. \n",
    "\n",
    "## MySQL\n",
    "\n",
    "**1**: How many orders were placed in total?\n",
    "\n",
    "**2**: What is the total sales amount?\n",
    "\n",
    "**3**: What is the average profit per order?\n",
    "\n",
    "**4**: Which customer has placed the most orders?\n",
    "\n",
    "**5**: What is the total profit for each product category?\n",
    "\n",
    "**6**: What is the average discount percentage?\n",
    "\n",
    "**7**: Which region has the highest total sales?\n",
    "\n",
    "**8**: How many orders were shipped using each shipping mode?\n",
    "\n",
    "**9**: What is the total quantity ordered for each product sub-category?\n",
    "\n",
    "**10**: Which product has the highest profit margin?\n",
    "\n",
    "**11**: What is the total sales amount for each year?\n",
    "\n",
    "**12**: Which customer segment has the highest average sales?\n",
    "\n",
    "## PostgreSQL\n",
    "\n",
    "**1**: What is the average age of the customers?\n",
    "\n",
    "**2**: How many customers have defaulted on loans?\n",
    "\n",
    "**3**: What is the maximum balance in the account?\n",
    "\n",
    "**4**: How many customers have a housing loan?\n",
    "\n",
    "**5**: What is the education level of the youngest customer?\n",
    "\n",
    "**6**: What is the marital status of the oldest customer?\n",
    "\n",
    "**7**: What is the distribution of the months in which customers were last contacted?\n",
    "\n",
    "**8**: What is the average duration of contact for customers who have a personal loan?\n",
    "\n",
    "**9**: How many customers were previously contacted, and what was the average duration of their last contact?\n",
    "\n",
    "**10**: What is the distribution of job types among customers?\n",
    "\n",
    "**11**: How many customers have been contacted more than once in the current campaign?\n",
    "\n",
    "**12**: What is the success rate of previous marketing campaigns (poutcome) among customers"
   ]
  },
  {
   "cell_type": "markdown",
   "metadata": {},
   "source": [
    "SQLite:"
   ]
  },
  {
   "cell_type": "code",
   "execution_count": 1,
   "metadata": {},
   "outputs": [
    {
     "name": "stdout",
     "output_type": "stream",
     "text": [
      "Ce DF contient 569 lignes et 33 colonnes\n"
     ]
    },
    {
     "data": {
      "text/html": [
       "<div>\n",
       "<style scoped>\n",
       "    .dataframe tbody tr th:only-of-type {\n",
       "        vertical-align: middle;\n",
       "    }\n",
       "\n",
       "    .dataframe tbody tr th {\n",
       "        vertical-align: top;\n",
       "    }\n",
       "\n",
       "    .dataframe thead th {\n",
       "        text-align: right;\n",
       "    }\n",
       "</style>\n",
       "<table border=\"1\" class=\"dataframe\">\n",
       "  <thead>\n",
       "    <tr style=\"text-align: right;\">\n",
       "      <th></th>\n",
       "      <th>id</th>\n",
       "      <th>diagnosis</th>\n",
       "      <th>radius_mean</th>\n",
       "      <th>texture_mean</th>\n",
       "      <th>perimeter_mean</th>\n",
       "      <th>area_mean</th>\n",
       "      <th>smoothness_mean</th>\n",
       "      <th>compactness_mean</th>\n",
       "      <th>concavity_mean</th>\n",
       "      <th>concave points_mean</th>\n",
       "      <th>...</th>\n",
       "      <th>texture_worst</th>\n",
       "      <th>perimeter_worst</th>\n",
       "      <th>area_worst</th>\n",
       "      <th>smoothness_worst</th>\n",
       "      <th>compactness_worst</th>\n",
       "      <th>concavity_worst</th>\n",
       "      <th>concave points_worst</th>\n",
       "      <th>symmetry_worst</th>\n",
       "      <th>fractal_dimension_worst</th>\n",
       "      <th>Unnamed: 32</th>\n",
       "    </tr>\n",
       "  </thead>\n",
       "  <tbody>\n",
       "    <tr>\n",
       "      <th>0</th>\n",
       "      <td>842302</td>\n",
       "      <td>M</td>\n",
       "      <td>17.99</td>\n",
       "      <td>10.38</td>\n",
       "      <td>122.80</td>\n",
       "      <td>1001.0</td>\n",
       "      <td>0.11840</td>\n",
       "      <td>0.27760</td>\n",
       "      <td>0.30010</td>\n",
       "      <td>0.14710</td>\n",
       "      <td>...</td>\n",
       "      <td>17.33</td>\n",
       "      <td>184.60</td>\n",
       "      <td>2019.0</td>\n",
       "      <td>0.16220</td>\n",
       "      <td>0.66560</td>\n",
       "      <td>0.7119</td>\n",
       "      <td>0.2654</td>\n",
       "      <td>0.4601</td>\n",
       "      <td>0.11890</td>\n",
       "      <td>NaN</td>\n",
       "    </tr>\n",
       "    <tr>\n",
       "      <th>1</th>\n",
       "      <td>842517</td>\n",
       "      <td>M</td>\n",
       "      <td>20.57</td>\n",
       "      <td>17.77</td>\n",
       "      <td>132.90</td>\n",
       "      <td>1326.0</td>\n",
       "      <td>0.08474</td>\n",
       "      <td>0.07864</td>\n",
       "      <td>0.08690</td>\n",
       "      <td>0.07017</td>\n",
       "      <td>...</td>\n",
       "      <td>23.41</td>\n",
       "      <td>158.80</td>\n",
       "      <td>1956.0</td>\n",
       "      <td>0.12380</td>\n",
       "      <td>0.18660</td>\n",
       "      <td>0.2416</td>\n",
       "      <td>0.1860</td>\n",
       "      <td>0.2750</td>\n",
       "      <td>0.08902</td>\n",
       "      <td>NaN</td>\n",
       "    </tr>\n",
       "    <tr>\n",
       "      <th>2</th>\n",
       "      <td>84300903</td>\n",
       "      <td>M</td>\n",
       "      <td>19.69</td>\n",
       "      <td>21.25</td>\n",
       "      <td>130.00</td>\n",
       "      <td>1203.0</td>\n",
       "      <td>0.10960</td>\n",
       "      <td>0.15990</td>\n",
       "      <td>0.19740</td>\n",
       "      <td>0.12790</td>\n",
       "      <td>...</td>\n",
       "      <td>25.53</td>\n",
       "      <td>152.50</td>\n",
       "      <td>1709.0</td>\n",
       "      <td>0.14440</td>\n",
       "      <td>0.42450</td>\n",
       "      <td>0.4504</td>\n",
       "      <td>0.2430</td>\n",
       "      <td>0.3613</td>\n",
       "      <td>0.08758</td>\n",
       "      <td>NaN</td>\n",
       "    </tr>\n",
       "    <tr>\n",
       "      <th>3</th>\n",
       "      <td>84348301</td>\n",
       "      <td>M</td>\n",
       "      <td>11.42</td>\n",
       "      <td>20.38</td>\n",
       "      <td>77.58</td>\n",
       "      <td>386.1</td>\n",
       "      <td>0.14250</td>\n",
       "      <td>0.28390</td>\n",
       "      <td>0.24140</td>\n",
       "      <td>0.10520</td>\n",
       "      <td>...</td>\n",
       "      <td>26.50</td>\n",
       "      <td>98.87</td>\n",
       "      <td>567.7</td>\n",
       "      <td>0.20980</td>\n",
       "      <td>0.86630</td>\n",
       "      <td>0.6869</td>\n",
       "      <td>0.2575</td>\n",
       "      <td>0.6638</td>\n",
       "      <td>0.17300</td>\n",
       "      <td>NaN</td>\n",
       "    </tr>\n",
       "    <tr>\n",
       "      <th>4</th>\n",
       "      <td>84358402</td>\n",
       "      <td>M</td>\n",
       "      <td>20.29</td>\n",
       "      <td>14.34</td>\n",
       "      <td>135.10</td>\n",
       "      <td>1297.0</td>\n",
       "      <td>0.10030</td>\n",
       "      <td>0.13280</td>\n",
       "      <td>0.19800</td>\n",
       "      <td>0.10430</td>\n",
       "      <td>...</td>\n",
       "      <td>16.67</td>\n",
       "      <td>152.20</td>\n",
       "      <td>1575.0</td>\n",
       "      <td>0.13740</td>\n",
       "      <td>0.20500</td>\n",
       "      <td>0.4000</td>\n",
       "      <td>0.1625</td>\n",
       "      <td>0.2364</td>\n",
       "      <td>0.07678</td>\n",
       "      <td>NaN</td>\n",
       "    </tr>\n",
       "    <tr>\n",
       "      <th>...</th>\n",
       "      <td>...</td>\n",
       "      <td>...</td>\n",
       "      <td>...</td>\n",
       "      <td>...</td>\n",
       "      <td>...</td>\n",
       "      <td>...</td>\n",
       "      <td>...</td>\n",
       "      <td>...</td>\n",
       "      <td>...</td>\n",
       "      <td>...</td>\n",
       "      <td>...</td>\n",
       "      <td>...</td>\n",
       "      <td>...</td>\n",
       "      <td>...</td>\n",
       "      <td>...</td>\n",
       "      <td>...</td>\n",
       "      <td>...</td>\n",
       "      <td>...</td>\n",
       "      <td>...</td>\n",
       "      <td>...</td>\n",
       "      <td>...</td>\n",
       "    </tr>\n",
       "    <tr>\n",
       "      <th>564</th>\n",
       "      <td>926424</td>\n",
       "      <td>M</td>\n",
       "      <td>21.56</td>\n",
       "      <td>22.39</td>\n",
       "      <td>142.00</td>\n",
       "      <td>1479.0</td>\n",
       "      <td>0.11100</td>\n",
       "      <td>0.11590</td>\n",
       "      <td>0.24390</td>\n",
       "      <td>0.13890</td>\n",
       "      <td>...</td>\n",
       "      <td>26.40</td>\n",
       "      <td>166.10</td>\n",
       "      <td>2027.0</td>\n",
       "      <td>0.14100</td>\n",
       "      <td>0.21130</td>\n",
       "      <td>0.4107</td>\n",
       "      <td>0.2216</td>\n",
       "      <td>0.2060</td>\n",
       "      <td>0.07115</td>\n",
       "      <td>NaN</td>\n",
       "    </tr>\n",
       "    <tr>\n",
       "      <th>565</th>\n",
       "      <td>926682</td>\n",
       "      <td>M</td>\n",
       "      <td>20.13</td>\n",
       "      <td>28.25</td>\n",
       "      <td>131.20</td>\n",
       "      <td>1261.0</td>\n",
       "      <td>0.09780</td>\n",
       "      <td>0.10340</td>\n",
       "      <td>0.14400</td>\n",
       "      <td>0.09791</td>\n",
       "      <td>...</td>\n",
       "      <td>38.25</td>\n",
       "      <td>155.00</td>\n",
       "      <td>1731.0</td>\n",
       "      <td>0.11660</td>\n",
       "      <td>0.19220</td>\n",
       "      <td>0.3215</td>\n",
       "      <td>0.1628</td>\n",
       "      <td>0.2572</td>\n",
       "      <td>0.06637</td>\n",
       "      <td>NaN</td>\n",
       "    </tr>\n",
       "    <tr>\n",
       "      <th>566</th>\n",
       "      <td>926954</td>\n",
       "      <td>M</td>\n",
       "      <td>16.60</td>\n",
       "      <td>28.08</td>\n",
       "      <td>108.30</td>\n",
       "      <td>858.1</td>\n",
       "      <td>0.08455</td>\n",
       "      <td>0.10230</td>\n",
       "      <td>0.09251</td>\n",
       "      <td>0.05302</td>\n",
       "      <td>...</td>\n",
       "      <td>34.12</td>\n",
       "      <td>126.70</td>\n",
       "      <td>1124.0</td>\n",
       "      <td>0.11390</td>\n",
       "      <td>0.30940</td>\n",
       "      <td>0.3403</td>\n",
       "      <td>0.1418</td>\n",
       "      <td>0.2218</td>\n",
       "      <td>0.07820</td>\n",
       "      <td>NaN</td>\n",
       "    </tr>\n",
       "    <tr>\n",
       "      <th>567</th>\n",
       "      <td>927241</td>\n",
       "      <td>M</td>\n",
       "      <td>20.60</td>\n",
       "      <td>29.33</td>\n",
       "      <td>140.10</td>\n",
       "      <td>1265.0</td>\n",
       "      <td>0.11780</td>\n",
       "      <td>0.27700</td>\n",
       "      <td>0.35140</td>\n",
       "      <td>0.15200</td>\n",
       "      <td>...</td>\n",
       "      <td>39.42</td>\n",
       "      <td>184.60</td>\n",
       "      <td>1821.0</td>\n",
       "      <td>0.16500</td>\n",
       "      <td>0.86810</td>\n",
       "      <td>0.9387</td>\n",
       "      <td>0.2650</td>\n",
       "      <td>0.4087</td>\n",
       "      <td>0.12400</td>\n",
       "      <td>NaN</td>\n",
       "    </tr>\n",
       "    <tr>\n",
       "      <th>568</th>\n",
       "      <td>92751</td>\n",
       "      <td>B</td>\n",
       "      <td>7.76</td>\n",
       "      <td>24.54</td>\n",
       "      <td>47.92</td>\n",
       "      <td>181.0</td>\n",
       "      <td>0.05263</td>\n",
       "      <td>0.04362</td>\n",
       "      <td>0.00000</td>\n",
       "      <td>0.00000</td>\n",
       "      <td>...</td>\n",
       "      <td>30.37</td>\n",
       "      <td>59.16</td>\n",
       "      <td>268.6</td>\n",
       "      <td>0.08996</td>\n",
       "      <td>0.06444</td>\n",
       "      <td>0.0000</td>\n",
       "      <td>0.0000</td>\n",
       "      <td>0.2871</td>\n",
       "      <td>0.07039</td>\n",
       "      <td>NaN</td>\n",
       "    </tr>\n",
       "  </tbody>\n",
       "</table>\n",
       "<p>569 rows × 33 columns</p>\n",
       "</div>"
      ],
      "text/plain": [
       "           id diagnosis  radius_mean  texture_mean  perimeter_mean  area_mean  \\\n",
       "0      842302         M        17.99         10.38          122.80     1001.0   \n",
       "1      842517         M        20.57         17.77          132.90     1326.0   \n",
       "2    84300903         M        19.69         21.25          130.00     1203.0   \n",
       "3    84348301         M        11.42         20.38           77.58      386.1   \n",
       "4    84358402         M        20.29         14.34          135.10     1297.0   \n",
       "..        ...       ...          ...           ...             ...        ...   \n",
       "564    926424         M        21.56         22.39          142.00     1479.0   \n",
       "565    926682         M        20.13         28.25          131.20     1261.0   \n",
       "566    926954         M        16.60         28.08          108.30      858.1   \n",
       "567    927241         M        20.60         29.33          140.10     1265.0   \n",
       "568     92751         B         7.76         24.54           47.92      181.0   \n",
       "\n",
       "     smoothness_mean  compactness_mean  concavity_mean  concave points_mean  \\\n",
       "0            0.11840           0.27760         0.30010              0.14710   \n",
       "1            0.08474           0.07864         0.08690              0.07017   \n",
       "2            0.10960           0.15990         0.19740              0.12790   \n",
       "3            0.14250           0.28390         0.24140              0.10520   \n",
       "4            0.10030           0.13280         0.19800              0.10430   \n",
       "..               ...               ...             ...                  ...   \n",
       "564          0.11100           0.11590         0.24390              0.13890   \n",
       "565          0.09780           0.10340         0.14400              0.09791   \n",
       "566          0.08455           0.10230         0.09251              0.05302   \n",
       "567          0.11780           0.27700         0.35140              0.15200   \n",
       "568          0.05263           0.04362         0.00000              0.00000   \n",
       "\n",
       "     ...  texture_worst  perimeter_worst  area_worst  smoothness_worst  \\\n",
       "0    ...          17.33           184.60      2019.0           0.16220   \n",
       "1    ...          23.41           158.80      1956.0           0.12380   \n",
       "2    ...          25.53           152.50      1709.0           0.14440   \n",
       "3    ...          26.50            98.87       567.7           0.20980   \n",
       "4    ...          16.67           152.20      1575.0           0.13740   \n",
       "..   ...            ...              ...         ...               ...   \n",
       "564  ...          26.40           166.10      2027.0           0.14100   \n",
       "565  ...          38.25           155.00      1731.0           0.11660   \n",
       "566  ...          34.12           126.70      1124.0           0.11390   \n",
       "567  ...          39.42           184.60      1821.0           0.16500   \n",
       "568  ...          30.37            59.16       268.6           0.08996   \n",
       "\n",
       "     compactness_worst  concavity_worst  concave points_worst  symmetry_worst  \\\n",
       "0              0.66560           0.7119                0.2654          0.4601   \n",
       "1              0.18660           0.2416                0.1860          0.2750   \n",
       "2              0.42450           0.4504                0.2430          0.3613   \n",
       "3              0.86630           0.6869                0.2575          0.6638   \n",
       "4              0.20500           0.4000                0.1625          0.2364   \n",
       "..                 ...              ...                   ...             ...   \n",
       "564            0.21130           0.4107                0.2216          0.2060   \n",
       "565            0.19220           0.3215                0.1628          0.2572   \n",
       "566            0.30940           0.3403                0.1418          0.2218   \n",
       "567            0.86810           0.9387                0.2650          0.4087   \n",
       "568            0.06444           0.0000                0.0000          0.2871   \n",
       "\n",
       "     fractal_dimension_worst  Unnamed: 32  \n",
       "0                    0.11890          NaN  \n",
       "1                    0.08902          NaN  \n",
       "2                    0.08758          NaN  \n",
       "3                    0.17300          NaN  \n",
       "4                    0.07678          NaN  \n",
       "..                       ...          ...  \n",
       "564                  0.07115          NaN  \n",
       "565                  0.06637          NaN  \n",
       "566                  0.07820          NaN  \n",
       "567                  0.12400          NaN  \n",
       "568                  0.07039          NaN  \n",
       "\n",
       "[569 rows x 33 columns]"
      ]
     },
     "execution_count": 1,
     "metadata": {},
     "output_type": "execute_result"
    }
   ],
   "source": [
    "\n",
    "#1: Read all the data from bc.csv, how many rows is there ? Columns ? \n",
    "\n",
    "import pandas as pd\n",
    "\n",
    "df =pd.read_csv(\"/Users/valen/Desktop/data/Chap1/bc.csv\")\n",
    "li, col = df.shape\n",
    "print(\"Ce DF contient\", li,\"lignes et\", col,\"colonnes\")\n",
    "df"
   ]
  },
  {
   "cell_type": "code",
   "execution_count": 2,
   "metadata": {},
   "outputs": [],
   "source": [
    "#2: Insert the bc.csv in the sqlite format.\n",
    "import sqlite3\n",
    "\n",
    "conn = sqlite3.connect('/Users/valen/Desktop/SAS/BC.db')\n",
    "c = conn.cursor()"
   ]
  },
  {
   "cell_type": "code",
   "execution_count": 3,
   "metadata": {},
   "outputs": [],
   "source": [
    "#3: In the same db create a new table called tomatch with two variables id_ and rdm_float. \n",
    "c.execute(\"\"\"CREATE TABLE tomatch3 (\n",
    "          id INT PRIMARY KEY,\n",
    "          rdm_float VARCHAR(100)\n",
    ") \"\"\")\n",
    "\n",
    "conn.commit()"
   ]
  },
  {
   "cell_type": "code",
   "execution_count": 4,
   "metadata": {},
   "outputs": [
    {
     "name": "stderr",
     "output_type": "stream",
     "text": [
      "  0%|          | 0/9950000 [00:00<?, ?it/s]"
     ]
    },
    {
     "name": "stderr",
     "output_type": "stream",
     "text": [
      "100%|██████████| 9950000/9950000 [00:21<00:00, 455416.85it/s]\n"
     ]
    }
   ],
   "source": [
    "#4: In the table tomatch insert observations where the id_ starts from 50k, ends at 10000000 and is only even numbers. rdm_float is a random float for each observation.\n",
    "import tqdm\n",
    "import random as rd\n",
    "\n",
    "query = \"\"\"INSERT INTO tomatch3(id, rdm_float) VALUES (?,?)\"\"\"\n",
    "\n",
    "list_of_insertion = []\n",
    "for i in tqdm.tqdm(range(50000,10000000,1)):\n",
    "    values = (i,rd.random())\n",
    "    list_of_insertion.append(values)\n",
    "    if len(list_of_insertion) == 10000:\n",
    "        c.executemany(query, list_of_insertion)\n",
    "        list_of_insertion = []\n",
    "conn.commit()"
   ]
  },
  {
   "cell_type": "code",
   "execution_count": 5,
   "metadata": {},
   "outputs": [
    {
     "name": "stdout",
     "output_type": "stream",
     "text": [
      "{'bc_rows': 569, 'tomatch3_rows': 9950000}\n"
     ]
    }
   ],
   "source": [
    "conn = sqlite3.connect('/Users/valen/Desktop/SAS/BC.db')\n",
    "c = conn.cursor()\n",
    "\n",
    "# Dictionary to hold results\n",
    "results = {}\n",
    "\n",
    "# Fetch count of rows in each table\n",
    "c.execute(\"SELECT COUNT(*) FROM bc\")\n",
    "results['bc_rows'] = c.fetchone()[0]\n",
    "c.execute(\"SELECT COUNT(*) FROM tomatch3\")\n",
    "results['tomatch3_rows'] = c.fetchone()[0]\n",
    "\n",
    "conn.close()\n",
    "print(results)"
   ]
  },
  {
   "cell_type": "code",
   "execution_count": 8,
   "metadata": {},
   "outputs": [
    {
     "ename": "ProgrammingError",
     "evalue": "Cannot operate on a closed database.",
     "output_type": "error",
     "traceback": [
      "\u001b[1;31m---------------------------------------------------------------------------\u001b[0m",
      "\u001b[1;31mProgrammingError\u001b[0m                          Traceback (most recent call last)",
      "Cell \u001b[1;32mIn[8], line 3\u001b[0m\n\u001b[0;32m      1\u001b[0m \u001b[38;5;66;03m#**5**: Do an Inner join between the two tables and compute the different aggregate functions on a column of your choice.\u001b[39;00m\n\u001b[0;32m      2\u001b[0m \u001b[38;5;66;03m# Execute the corrected SQL query\u001b[39;00m\n\u001b[1;32m----> 3\u001b[0m \u001b[43mc\u001b[49m\u001b[38;5;241;43m.\u001b[39;49m\u001b[43mexecute\u001b[49m\u001b[43m(\u001b[49m\u001b[38;5;124;43m\"\"\"\u001b[39;49m\n\u001b[0;32m      4\u001b[0m \u001b[38;5;124;43mCREATE TABLE IF NOT EXISTS NN AS\u001b[39;49m\n\u001b[0;32m      5\u001b[0m \u001b[38;5;124;43mSELECT \u001b[39;49m\n\u001b[0;32m      6\u001b[0m \u001b[38;5;124;43m    AVG(bc.texture_worst) AS average_value,\u001b[39;49m\n\u001b[0;32m      7\u001b[0m \u001b[38;5;124;43m    COUNT(bc.texture_worst) AS count_value,\u001b[39;49m\n\u001b[0;32m      8\u001b[0m \u001b[38;5;124;43m    MAX(bc.texture_worst) AS max_value,\u001b[39;49m\n\u001b[0;32m      9\u001b[0m \u001b[38;5;124;43m    MIN(bc.texture_worst) AS min_value \u001b[39;49m\n\u001b[0;32m     10\u001b[0m \u001b[38;5;124;43mFROM \u001b[39;49m\n\u001b[0;32m     11\u001b[0m \u001b[38;5;124;43m    bc\u001b[39;49m\n\u001b[0;32m     12\u001b[0m \u001b[38;5;124;43mINNER JOIN \u001b[39;49m\n\u001b[0;32m     13\u001b[0m \u001b[38;5;124;43m    tomatch3 ON bc.id = tomatch3.id\u001b[39;49m\n\u001b[0;32m     14\u001b[0m \u001b[38;5;124;43m\"\"\"\u001b[39;49m\u001b[43m)\u001b[49m\n\u001b[0;32m     16\u001b[0m \u001b[38;5;66;03m# Commit changes if needed (depends on your DBMS)\u001b[39;00m\n\u001b[0;32m     17\u001b[0m conn\u001b[38;5;241m.\u001b[39mcommit()\n",
      "\u001b[1;31mProgrammingError\u001b[0m: Cannot operate on a closed database."
     ]
    }
   ],
   "source": [
    "#**5**: Do an Inner join between the two tables and compute the different aggregate functions on a column of your choice.\n",
    "# Execute the corrected SQL query\n",
    "c.execute(\"\"\"\n",
    "CREATE TABLE IF NOT EXISTS Newtomatch\n",
    "SELECT \n",
    "    AVG(bc.texture_worst) AS average_value,\n",
    "    COUNT(bc.texture_worst) AS count_value,\n",
    "    MAX(bc.texture_worst) AS max_value,\n",
    "    MIN(bc.texture_worst) AS min_value \n",
    "FROM \n",
    "    bc\n",
    "INNER JOIN \n",
    "    tomatch3 ON bc.id = tomatch3.id\n",
    "\"\"\")\n",
    "\n",
    "# Commit changes if needed (depends on your DBMS)\n",
    "conn.commit()\n",
    "\n",
    "# Try fetching data to see if the table was created\n",
    "c.execute(\"SELECT * FROM Newtomatch\")\n",
    "print(c.fetchall())\n",
    "\n",
    "# Don't forget to close your connection when done\n",
    "conn.close()"
   ]
  },
  {
   "cell_type": "code",
   "execution_count": 9,
   "metadata": {},
   "outputs": [
    {
     "data": {
      "text/plain": [
       "<sqlite3.Cursor at 0x257f9457140>"
      ]
     },
     "execution_count": 9,
     "metadata": {},
     "output_type": "execute_result"
    }
   ],
   "source": [
    "c.execute(\"SELECT * FROM Newtomatch\")"
   ]
  },
  {
   "cell_type": "code",
   "execution_count": 8,
   "metadata": {},
   "outputs": [
    {
     "ename": "OperationalError",
     "evalue": "no such column: radius_mean",
     "output_type": "error",
     "traceback": [
      "\u001b[1;31m---------------------------------------------------------------------------\u001b[0m",
      "\u001b[1;31mOperationalError\u001b[0m                          Traceback (most recent call last)",
      "Cell \u001b[1;32mIn[8], line 3\u001b[0m\n\u001b[0;32m      1\u001b[0m \u001b[38;5;66;03m#**6**: How many observations have a radius_mean greater than 15 ? From them how many have a texture_mean greater than 20 ?\u001b[39;00m\n\u001b[1;32m----> 3\u001b[0m \u001b[43mc\u001b[49m\u001b[38;5;241;43m.\u001b[39;49m\u001b[43mexecute\u001b[49m\u001b[43m(\u001b[49m\u001b[38;5;124;43m\"\"\"\u001b[39;49m\n\u001b[0;32m      4\u001b[0m \u001b[38;5;124;43mSELECT COUNT(*) \u001b[39;49m\n\u001b[0;32m      5\u001b[0m \u001b[38;5;124;43mFROM Newtomatch WHERE radius_mean > 15\u001b[39;49m\n\u001b[0;32m      6\u001b[0m \u001b[38;5;124;43m\"\"\"\u001b[39;49m\u001b[43m)\u001b[49m\n\u001b[0;32m      7\u001b[0m total_radius_greater_15 \u001b[38;5;241m=\u001b[39m c\u001b[38;5;241m.\u001b[39mfetchone()[\u001b[38;5;241m0\u001b[39m]\n\u001b[0;32m      9\u001b[0m c\u001b[38;5;241m.\u001b[39mexecute(\u001b[38;5;124m\"\"\"\u001b[39m\n\u001b[0;32m     10\u001b[0m \u001b[38;5;124mSELECT COUNT(*) \u001b[39m\n\u001b[0;32m     11\u001b[0m \u001b[38;5;124mFROM Newtomatch WHERE radius_mean > 15 AND texture_mean > 20\u001b[39m\n\u001b[0;32m     12\u001b[0m \u001b[38;5;124m\"\"\"\u001b[39m)\n",
      "\u001b[1;31mOperationalError\u001b[0m: no such column: radius_mean"
     ]
    }
   ],
   "source": [
    "#**6**: How many observations have a radius_mean greater than 15 ? From them how many have a texture_mean greater than 20 ?\n",
    "\n",
    "c.execute(\"\"\"\n",
    "SELECT COUNT(*) \n",
    "FROM Newtomatch WHERE radius_mean > 15\n",
    "\"\"\")\n",
    "total_radius_greater_15 = c.fetchone()[0]\n",
    "\n",
    "c.execute(\"\"\"\n",
    "SELECT COUNT(*) \n",
    "FROM Newtomatch WHERE radius_mean > 15 AND texture_mean > 20\n",
    "\"\"\")\n",
    "total_radius_and_texture = c.fetchone()[0]\n",
    "\n",
    "print(f\"total_radius_greater_15 : {total_radius_greater_15}\")\n",
    "print(f\"total_radius_and_texture: {total_radius_and_texture}\")"
   ]
  },
  {
   "cell_type": "code",
   "execution_count": 13,
   "metadata": {},
   "outputs": [
    {
     "name": "stdout",
     "output_type": "stream",
     "text": [
      "Mean Radius for B: 12.15\n",
      "Mean Radius for M: 17.46\n",
      "Difference between means: 5.31\n"
     ]
    }
   ],
   "source": [
    "#**7**: For each category in diagnosis do the mean of a variable and round it to get only 2 numbers after the comma. Compute the difference between the mean of both groups\n",
    "c.execute(\"\"\"\n",
    "SELECT diagnosis,\n",
    "    ROUND(AVG(radius_mean), 2) AS average_radius\n",
    "FROM bc GROUP BY diagnosis\n",
    "\"\"\")\n",
    "results = c.fetchall()\n",
    "\n",
    "if len(results) == 2:  \n",
    "    difference = abs(results[0][1] - results[1][1])\n",
    "    print(f\"Mean Radius for {results[0][0]}: {results[0][1]}\")\n",
    "    print(f\"Mean Radius for {results[1][0]}: {results[1][1]}\")\n",
    "    print(f\"Difference between means: {difference:.2f}\")\n",
    "else:\n",
    "    print(\"Unexpected number of diagnosis categories.\")"
   ]
  },
  {
   "cell_type": "code",
   "execution_count": 14,
   "metadata": {},
   "outputs": [],
   "source": [
    "#**8**: Change the name of the column \"diagnosis\" to \"label\"\n",
    "c.execute(\"\"\"\n",
    "ALTER TABLE bc\n",
    "RENAME COLUMN diagnosis TO label\n",
    "\"\"\")\n",
    "conn.commit()"
   ]
  },
  {
   "cell_type": "code",
   "execution_count": 16,
   "metadata": {},
   "outputs": [
    {
     "ename": "OperationalError",
     "evalue": "duplicate column name: day",
     "output_type": "error",
     "traceback": [
      "\u001b[1;31m---------------------------------------------------------------------------\u001b[0m",
      "\u001b[1;31mOperationalError\u001b[0m                          Traceback (most recent call last)",
      "Cell \u001b[1;32mIn[16], line 2\u001b[0m\n\u001b[0;32m      1\u001b[0m \u001b[38;5;66;03m#**9**: Add a column named \"day\" of type DATE.\u001b[39;00m\n\u001b[1;32m----> 2\u001b[0m c\u001b[38;5;241m.\u001b[39mexecute(\u001b[38;5;124m\"\"\"\u001b[39m\n\u001b[0;32m      3\u001b[0m \u001b[38;5;124mALTER TABLE bc\u001b[39m\n\u001b[0;32m      4\u001b[0m \u001b[38;5;124mADD COLUMN day DATE\u001b[39m\n\u001b[0;32m      5\u001b[0m \u001b[38;5;124m\"\"\"\u001b[39m)\n\u001b[0;32m      6\u001b[0m conn\u001b[38;5;241m.\u001b[39mcommit()\n",
      "\u001b[1;31mOperationalError\u001b[0m: duplicate column name: day"
     ]
    }
   ],
   "source": [
    "#**9**: Add a column named \"day\" of type DATE.\n",
    "c.execute(\"\"\"\n",
    "ALTER TABLE bc\n",
    "ADD COLUMN day DATE\n",
    "\"\"\")\n",
    "conn.commit()"
   ]
  },
  {
   "cell_type": "code",
   "execution_count": 18,
   "metadata": {},
   "outputs": [],
   "source": [
    "#**10**: Change the type of the column \"area_mean\" to int (hint,if not possible on sqlite, create a new column)\n",
    "c.execute(\"\"\"\n",
    "ALTER TABLE bc\n",
    "ADD COLUMN area_mean_int INTEGER\n",
    "\"\"\")\n",
    "conn.commit()\n",
    "c.execute(\"\"\"\n",
    "UPDATE bc\n",
    "SET area_mean_int = CAST(area_mean AS INTEGER)\n",
    "\"\"\")\n",
    "conn.commit()"
   ]
  },
  {
   "cell_type": "code",
   "execution_count": 22,
   "metadata": {},
   "outputs": [],
   "source": [
    "#**11**: create a new table called tomatch6 exactly the same way as tomatch3 except you increment id_ by 10.\n",
    "c.execute(\"\"\"\n",
    "CREATE TABLE tomatch6 (\n",
    "    id INTEGER PRIMARY KEY,\n",
    "    rdm_float VARCHAR(100)\n",
    ")\n",
    "\"\"\")\n",
    "\n",
    "conn.commit()\n",
    "last_id = 10 \n",
    "increment = 10 \n",
    "\n",
    "c.execute(\"SELECT MAX(id) FROM tomatch6\")\n",
    "result = c.fetchone()\n",
    "if result[0] is not None:\n",
    "    last_id = result[0] + increment\n",
    "\n",
    "c.execute(\"INSERT INTO tomatch6 (id, rdm_float) VALUES (?, ?)\", (last_id, 'Example value'))\n",
    "conn.commit()"
   ]
  },
  {
   "cell_type": "code",
   "execution_count": 10,
   "metadata": {},
   "outputs": [],
   "source": [
    "#**12**: Do an inner join of bc, tomatch3 and tomatch6 where the radius_mean is greater than 15, and the rdm_float is greater than 0.50 in tomatch3 AND tomatch6.\n",
    "\n",
    "c.execute(\"\"\"\n",
    "CREATE TABLE test AS\n",
    "SELECT\n",
    "    bc.*, tomatch3.rdm_float AS rdm_float3, tomatch6.rdm_float AS rdm_float6\n",
    "FROM \n",
    "    bc\n",
    "INNER JOIN \n",
    "    tomatch3 ON bc.id = tomatch3.id\n",
    "INNER JOIN \n",
    "    tomatch6 ON bc.id = tomatch6.id\n",
    "WHERE \n",
    "    bc.radius_mean > 15 AND \n",
    "    tomatch3.rdm_float > 0.50 AND \n",
    "    tomatch6.rdm_float > 0.50\n",
    "\"\"\")\n",
    "results = c.fetchall()"
   ]
  },
  {
   "cell_type": "markdown",
   "metadata": {},
   "source": [
    "MySQL"
   ]
  },
  {
   "cell_type": "markdown",
   "metadata": {},
   "source": [
    "**1**: How many orders were placed in total?"
   ]
  },
  {
   "cell_type": "code",
   "execution_count": 26,
   "metadata": {},
   "outputs": [
    {
     "data": {
      "text/plain": [
       "175"
      ]
     },
     "execution_count": 26,
     "metadata": {},
     "output_type": "execute_result"
    }
   ],
   "source": [
    "import mysql.connector\n",
    "\n",
    "mydb = mysql.connector.connect(\n",
    "    host=\"localhost\",\n",
    "    user=\"root\",\n",
    "    password=\"root\",\n",
    "    database=\"m1_ds2e\"\n",
    ")\n",
    "\n",
    "c = mydb.cursor()\n",
    "c.execute(\"\"\"SELECT COUNT(`Order ID`) AS total_commandes\n",
    "             FROM sample_superstore\"\"\")\n",
    "\n",
    "c.fetchone()[0] \n",
    "\n"
   ]
  },
  {
   "cell_type": "markdown",
   "metadata": {},
   "source": [
    "**2**: What is the total sales amount?"
   ]
  },
  {
   "cell_type": "code",
   "execution_count": 27,
   "metadata": {},
   "outputs": [
    {
     "data": {
      "text/plain": [
       "130555.31000000006"
      ]
     },
     "execution_count": 27,
     "metadata": {},
     "output_type": "execute_result"
    }
   ],
   "source": [
    "c.execute(\"\"\"SELECT SUM(`Sales`) AS total_sales\n",
    "             FROM sample_superstore\"\"\")\n",
    "\n",
    "c.fetchone()[0]"
   ]
  },
  {
   "cell_type": "markdown",
   "metadata": {},
   "source": [
    "**3**: What is the average profit per order?"
   ]
  },
  {
   "cell_type": "code",
   "execution_count": 30,
   "metadata": {},
   "outputs": [
    {
     "data": {
      "text/plain": [
       "[(88525, 1.32),\n",
       " (88522, 4.56),\n",
       " (88523, 306.6841),\n",
       " (88524, 1388.0523),\n",
       " (88526, 1001.4453),\n",
       " (90193, 4390.3665),\n",
       " (90197, -141.26),\n",
       " (90194, 1045.4673),\n",
       " (90200, 406.7419),\n",
       " (90198, 72.9928),\n",
       " (90199, -252.67759875000002),\n",
       " (90195, 142.7955),\n",
       " (90192, -53.8096),\n",
       " (90196, 23.12),\n",
       " (86838, 185.425125),\n",
       " (86845, -44.54),\n",
       " (86837, -59.82),\n",
       " (86839, 261.8757),\n",
       " (86840, -1.17),\n",
       " (86841, -24.03),\n",
       " (86842, 23.2668),\n",
       " (86843, -174.2696),\n",
       " (86836, 327.68155),\n",
       " (86844, 3.4595),\n",
       " (90033, -6.82),\n",
       " (90034, -96.33),\n",
       " (90031, 314.4813),\n",
       " (90035, 164.48680000000002),\n",
       " (90038, -17.49),\n",
       " (90039, 139.54835),\n",
       " (90032, -114.6399),\n",
       " (90036, -491.73199999999997),\n",
       " (90037, -41.82),\n",
       " (41793, 384.38),\n",
       " (42949, -66.06495),\n",
       " (55269, -41.82),\n",
       " (9895, -6.82),\n",
       " (17860, -96.33),\n",
       " (26887, 172.27274999999997),\n",
       " (50533, -491.73199999999997),\n",
       " (18596, 174.845),\n",
       " (87655, 571.89495),\n",
       " (87660, 83.24),\n",
       " (87669, 353.77216),\n",
       " (87651, -16.802),\n",
       " (87656, 1489.8411),\n",
       " (87662, -23.415),\n",
       " (87663, -88.102),\n",
       " (87657, -10.58),\n",
       " (87666, 677.50343),\n",
       " (87658, 420.984),\n",
       " (87667, 19.4097),\n",
       " (87670, -24.118176000000002),\n",
       " (87652, 8.89400000000001),\n",
       " (87659, 149.84715),\n",
       " (87661, 33.4144),\n",
       " (87668, 847.943712),\n",
       " (87653, -2.2072),\n",
       " (87665, 28.81),\n",
       " (87654, -120.52304),\n",
       " (87664, -1.6864),\n",
       " (89206, -43.3316),\n",
       " (89199, 144.69),\n",
       " (89200, -35.8788),\n",
       " (89202, 209.997),\n",
       " (89203, 2568.096),\n",
       " (89207, 345.0),\n",
       " (89201, -30.062800000000003),\n",
       " (89205, -75.12168),\n",
       " (89208, -88.57148),\n",
       " (91256, 803.39986),\n",
       " (91257, 165.501),\n",
       " (88682, -3.3599999999999994),\n",
       " (88684, -15.464),\n",
       " (88683, -71.44),\n",
       " (91455, 24.1868),\n",
       " (91458, 43.271712),\n",
       " (91454, 25.91382),\n",
       " (91456, -17.58),\n",
       " (91457, -336.38464),\n",
       " (91578, 338.6244),\n",
       " (91579, -35.906),\n",
       " (87712, -4.359171999999999),\n",
       " (87713, 60.8097),\n",
       " (87714, 4.772579999999998),\n",
       " (87715, 229.0593),\n",
       " (87710, -12.82),\n",
       " (87711, 7.27),\n",
       " (87716, 391.7199),\n",
       " (87717, -45.1),\n",
       " (87718, 526.608),\n",
       " (87719, -24.08),\n",
       " (88426, 47.588),\n",
       " (88427, 378.1614),\n",
       " (88428, 3.328),\n",
       " (88425, -6923.5992),\n",
       " (88429, 23.1564),\n",
       " (88076, -1513.264896),\n",
       " (88077, -211.0644),\n",
       " (88081, 39.080775),\n",
       " (88075, 8.9879),\n",
       " (88079, 47.0972),\n",
       " (88080, -12.321250000000006),\n",
       " (88082, 3234.0946620000004),\n",
       " (88078, -143.8648),\n",
       " (87413, -47.910000000000004),\n",
       " (87416, -157.18),\n",
       " (87417, -675.62),\n",
       " (87410, -0.18520000000000003),\n",
       " (87420, -180.46656),\n",
       " (87409, 185.266),\n",
       " (87411, 77.372),\n",
       " (87412, 25.116),\n",
       " (87414, 28.59475),\n",
       " (87422, 303.4416),\n",
       " (87407, 2.14),\n",
       " (87408, 349.4091),\n",
       " (87415, 44.495),\n",
       " (87423, -103.96848),\n",
       " (87418, 574.96995),\n",
       " (87419, 247.26885),\n",
       " (87406, 31.980449999999998),\n",
       " (87421, -218.9761),\n",
       " (87948, 1381.9886999999999),\n",
       " (87951, 95.3787),\n",
       " (87946, 845.664),\n",
       " (87949, -770.6166000000001)]"
      ]
     },
     "execution_count": 30,
     "metadata": {},
     "output_type": "execute_result"
    }
   ],
   "source": [
    "c.execute(\"\"\"\n",
    "          SELECT `Order ID` , \n",
    "          AVG(Profit) AS avg_profit\n",
    "          FROM m1_ds2e.sample_superstore\n",
    "          GROUP BY `Order ID`\"\"\")\n",
    "c.fetchall()"
   ]
  },
  {
   "cell_type": "markdown",
   "metadata": {},
   "source": [
    "**4**: Which customer has placed the most orders?"
   ]
  },
  {
   "cell_type": "code",
   "execution_count": 43,
   "metadata": {},
   "outputs": [
    {
     "data": {
      "text/plain": [
       "('Tony Wilkins Winters', 12)"
      ]
     },
     "execution_count": 43,
     "metadata": {},
     "output_type": "execute_result"
    }
   ],
   "source": [
    "c.execute(\"\"\"\n",
    "    SELECT `Customer Name`, COUNT(*) AS order_count\n",
    "    FROM sample_superstore\n",
    "    GROUP BY `Customer ID`, `Customer Name`\n",
    "    ORDER BY order_count DESC\n",
    "    LIMIT 1\n",
    "\"\"\")\n",
    "\n",
    "most_orders_customer = c.fetchone()\n",
    "\n",
    "customer_name, order_count = most_orders_customer\n",
    "customer_name, order_count"
   ]
  },
  {
   "cell_type": "markdown",
   "metadata": {},
   "source": [
    "**5**: What is the total profit for each product category?"
   ]
  },
  {
   "cell_type": "code",
   "execution_count": 47,
   "metadata": {},
   "outputs": [
    {
     "data": {
      "text/plain": [
       "[('Office Supplies', 11605.983540000001),\n",
       " ('Technology', 10225.340091999999),\n",
       " ('Furniture', 1976.0725965000036)]"
      ]
     },
     "execution_count": 47,
     "metadata": {},
     "output_type": "execute_result"
    }
   ],
   "source": [
    "c.execute(\"\"\"\n",
    "    SELECT `Product Category`, SUM(`Profit`) AS total_profit\n",
    "    FROM sample_superstore\n",
    "    GROUP BY `Product Category`\n",
    "    ORDER BY total_profit DESC\n",
    "\"\"\")\n",
    "\n",
    "c.fetchall()"
   ]
  },
  {
   "cell_type": "markdown",
   "metadata": {},
   "source": [
    "**6**: What is the average discount percentage?"
   ]
  },
  {
   "cell_type": "code",
   "execution_count": 49,
   "metadata": {},
   "outputs": [
    {
     "data": {
      "text/plain": [
       "4.96571428571428"
      ]
     },
     "execution_count": 49,
     "metadata": {},
     "output_type": "execute_result"
    }
   ],
   "source": [
    "c.execute(\"\"\"\n",
    "    SELECT AVG(`Discount`) AS average_discount\n",
    "    FROM sample_superstore\n",
    "\"\"\")\n",
    "\n",
    "c.fetchone()[0]* 100 "
   ]
  },
  {
   "cell_type": "markdown",
   "metadata": {},
   "source": [
    "**7**: Which region has the highest total sales?"
   ]
  },
  {
   "cell_type": "code",
   "execution_count": 60,
   "metadata": {},
   "outputs": [
    {
     "data": {
      "text/plain": [
       "('West', 75678.49999999999)"
      ]
     },
     "execution_count": 60,
     "metadata": {},
     "output_type": "execute_result"
    }
   ],
   "source": [
    "c.execute(\"\"\"\n",
    "    SELECT `Region`, SUM(`Sales`) AS total_sales\n",
    "    FROM sample_superstore\n",
    "    GROUP BY `Region`\n",
    "    ORDER BY total_sales DESC\n",
    "    LIMIT 1\n",
    "\"\"\")\n",
    "\n",
    "c.fetchone()"
   ]
  },
  {
   "cell_type": "markdown",
   "metadata": {},
   "source": [
    "**8**: How many orders were shipped using each shipping mode?"
   ]
  },
  {
   "cell_type": "code",
   "execution_count": 55,
   "metadata": {},
   "outputs": [
    {
     "data": {
      "text/plain": [
       "[('Regular Air', 131), ('Express Air', 23), ('Delivery Truck', 21)]"
      ]
     },
     "execution_count": 55,
     "metadata": {},
     "output_type": "execute_result"
    }
   ],
   "source": [
    "query = \"\"\"\n",
    "    SELECT `Ship Mode`, \n",
    "    COUNT(DISTINCT `Order ID`) AS Total_Orders_Shipped\n",
    "    FROM sample_superstore \n",
    "    GROUP BY `Ship Mode`\n",
    "\"\"\"\n",
    "\n",
    "c.fetchall()"
   ]
  },
  {
   "cell_type": "markdown",
   "metadata": {},
   "source": [
    "**9**: What is the total quantity ordered for each product sub-category?"
   ]
  },
  {
   "cell_type": "code",
   "execution_count": 62,
   "metadata": {},
   "outputs": [
    {
     "data": {
      "text/plain": [
       "[('Paper', Decimal('286')),\n",
       " ('Telephones and Communication', Decimal('252')),\n",
       " ('Office Furnishings', Decimal('233')),\n",
       " ('Pens & Art Supplies', Decimal('196')),\n",
       " ('Appliances', Decimal('184')),\n",
       " ('Labels', Decimal('171')),\n",
       " ('Chairs & Chairmats', Decimal('166')),\n",
       " ('Binders and Binder Accessories', Decimal('129')),\n",
       " ('Office Machines', Decimal('123')),\n",
       " ('Storage & Organization', Decimal('121')),\n",
       " ('Rubber Bands', Decimal('119')),\n",
       " ('Computer Peripherals', Decimal('69')),\n",
       " ('Tables', Decimal('50')),\n",
       " ('Envelopes', Decimal('46')),\n",
       " ('Bookcases', Decimal('39')),\n",
       " ('Scissors, Rulers and Trimmers', Decimal('24')),\n",
       " ('Copiers and Fax', Decimal('5'))]"
      ]
     },
     "execution_count": 62,
     "metadata": {},
     "output_type": "execute_result"
    }
   ],
   "source": [
    "c.execute(\"\"\"\n",
    "    SELECT `Product Sub-Category`, SUM(`Quantity ordered new`) AS total_Q_o_n\n",
    "    FROM sample_superstore\n",
    "    GROUP BY `Product Sub-Category`\n",
    "    ORDER BY total_Q_o_n DESC\n",
    "\"\"\")\n",
    "\n",
    "c.fetchall()"
   ]
  },
  {
   "cell_type": "markdown",
   "metadata": {},
   "source": [
    "**10**: Which product has the highest profit margin?"
   ]
  },
  {
   "cell_type": "code",
   "execution_count": 70,
   "metadata": {},
   "outputs": [
    {
     "data": {
      "text/plain": [
       "('Accessory29', 0.83)"
      ]
     },
     "execution_count": 70,
     "metadata": {},
     "output_type": "execute_result"
    }
   ],
   "source": [
    "query = \"\"\"\n",
    "    SELECT `Product Name`, `Product Base Margin`\n",
    "    FROM sample_superstore\n",
    "    ORDER BY `Product Base Margin` DESC\n",
    "    LIMIT 1\n",
    "\"\"\"\n",
    "\n",
    "c.execute(query)\n",
    "c.fetchone()"
   ]
  },
  {
   "cell_type": "markdown",
   "metadata": {},
   "source": [
    "**11**: What is the total sales amount for each year?"
   ]
  },
  {
   "cell_type": "code",
   "execution_count": 103,
   "metadata": {},
   "outputs": [
    {
     "data": {
      "text/plain": [
       "[('2010', 25377.779999999995),\n",
       " ('2011', 12048.119999999997),\n",
       " ('2012', 44893.209999999985),\n",
       " ('2013', 48236.200000000004)]"
      ]
     },
     "execution_count": 103,
     "metadata": {},
     "output_type": "execute_result"
    }
   ],
   "source": [
    "query = \"\"\"\n",
    "    SELECT RIGHT(`Order Date`, 4) AS Year, \n",
    "    SUM(`Sales`) AS total_sales\n",
    "    FROM sample_superstore\n",
    "    GROUP BY Year\n",
    "    ORDER BY Year\n",
    "\"\"\"\n",
    "\n",
    "c.execute(query)\n",
    "c.fetchall()"
   ]
  },
  {
   "cell_type": "markdown",
   "metadata": {},
   "source": [
    "**12**: Which customer segment has the highest average sales?"
   ]
  },
  {
   "cell_type": "code",
   "execution_count": 104,
   "metadata": {},
   "outputs": [
    {
     "data": {
      "text/plain": [
       "('Small Business', 1041.5648076923078)"
      ]
     },
     "execution_count": 104,
     "metadata": {},
     "output_type": "execute_result"
    }
   ],
   "source": [
    "query = \"\"\"\n",
    "    SELECT `Customer Segment`, AVG(`Sales`) AS avg_sales\n",
    "    FROM sample_superstore\n",
    "    GROUP BY `Customer Segment`\n",
    "    ORDER BY avg_sales DESC\n",
    "    LIMIT 1\n",
    "\"\"\"\n",
    "\n",
    "c.execute(query)\n",
    "c.fetchone()"
   ]
  },
  {
   "cell_type": "markdown",
   "metadata": {},
   "source": [
    "PostgreSQL"
   ]
  },
  {
   "cell_type": "code",
   "execution_count": 11,
   "metadata": {},
   "outputs": [],
   "source": [
    "#**1**: What is the average age of the customers?"
   ]
  },
  {
   "cell_type": "code",
   "execution_count": null,
   "metadata": {},
   "outputs": [],
   "source": [
    "#**2**: How many customers have defaulted on loans?"
   ]
  },
  {
   "cell_type": "code",
   "execution_count": null,
   "metadata": {},
   "outputs": [],
   "source": [
    "#**3**: What is the maximum balance in the account?\n"
   ]
  },
  {
   "cell_type": "code",
   "execution_count": null,
   "metadata": {},
   "outputs": [],
   "source": [
    "#**4**: How many customers have a housing loan?\n"
   ]
  },
  {
   "cell_type": "code",
   "execution_count": null,
   "metadata": {},
   "outputs": [],
   "source": [
    "#**5**: What is the education level of the youngest customer?\n"
   ]
  },
  {
   "cell_type": "code",
   "execution_count": null,
   "metadata": {},
   "outputs": [],
   "source": [
    "#**6**: What is the marital status of the oldest customer?\n"
   ]
  },
  {
   "cell_type": "code",
   "execution_count": null,
   "metadata": {},
   "outputs": [],
   "source": [
    "#**7**: What is the distribution of the months in which customers were last contacted?\n"
   ]
  },
  {
   "cell_type": "code",
   "execution_count": null,
   "metadata": {},
   "outputs": [],
   "source": [
    "#**8**: What is the average duration of contact for customers who have a personal loan?\n"
   ]
  },
  {
   "cell_type": "code",
   "execution_count": null,
   "metadata": {},
   "outputs": [],
   "source": [
    "#**9**: How many customers were previously contacted, and what was the average duration of their last contact?\n"
   ]
  },
  {
   "cell_type": "code",
   "execution_count": null,
   "metadata": {},
   "outputs": [],
   "source": [
    "#**10**: What is the distribution of job types among customers?\n"
   ]
  },
  {
   "cell_type": "code",
   "execution_count": null,
   "metadata": {},
   "outputs": [],
   "source": [
    "#**11**: How many customers have been contacted more than once in the current campaign?\n"
   ]
  },
  {
   "cell_type": "code",
   "execution_count": null,
   "metadata": {},
   "outputs": [],
   "source": [
    "#**12**: What is the success rate of previous marketing campaigns (poutcome) among customers"
   ]
  }
 ],
 "metadata": {
  "kernelspec": {
   "display_name": "Python 3",
   "language": "python",
   "name": "python3"
  },
  "language_info": {
   "codemirror_mode": {
    "name": "ipython",
    "version": 3
   },
   "file_extension": ".py",
   "mimetype": "text/x-python",
   "name": "python",
   "nbconvert_exporter": "python",
   "pygments_lexer": "ipython3",
   "version": "3.12.3"
  }
 },
 "nbformat": 4,
 "nbformat_minor": 4
}
