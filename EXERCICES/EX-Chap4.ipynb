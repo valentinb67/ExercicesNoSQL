{
 "cells": [
  {
   "cell_type": "markdown",
   "metadata": {},
   "source": [
    "### Exercises\n",
    "\n",
    "#### CRUD operations:\n",
    "\n",
    "\n",
    "**TODO 1**: You will continue to work on the MCU network for a while. Who are the 10 fastest in the MCU ? Are they related to each other ?\n"
   ]
  },
  {
   "cell_type": "code",
   "execution_count": 38,
   "metadata": {},
   "outputs": [],
   "source": [
    "import pandas as pd\n",
    "from py2neo import Graph, Node, Relationship\n",
    "\n",
    "characters_csv = \"/Users/valen/Desktop/data/Chap4/Marvel_Superheroes/characters.csv\"\n",
    "characters_stats_csv = \"/Users/valen/Desktop/data/Chap4/Marvel_Superheroes/characters_stats.csv\"\n",
    "characters2comics_csv = \"/Users/valen/Desktop/data/Chap4/Marvel_Superheroes/charactersToComics.csv\"\n",
    "\n",
    "characters = pd.read_csv(characters_csv)\n",
    "characters_stats = pd.read_csv(characters_stats_csv)\n",
    "characters2comics = pd.read_csv(characters2comics_csv)\n"
   ]
  },
  {
   "cell_type": "code",
   "execution_count": 59,
   "metadata": {},
   "outputs": [
    {
     "data": {
      "text/html": [
       "<div>\n",
       "<style scoped>\n",
       "    .dataframe tbody tr th:only-of-type {\n",
       "        vertical-align: middle;\n",
       "    }\n",
       "\n",
       "    .dataframe tbody tr th {\n",
       "        vertical-align: top;\n",
       "    }\n",
       "\n",
       "    .dataframe thead th {\n",
       "        text-align: right;\n",
       "    }\n",
       "</style>\n",
       "<table border=\"1\" class=\"dataframe\">\n",
       "  <thead>\n",
       "    <tr style=\"text-align: right;\">\n",
       "      <th></th>\n",
       "      <th>Name</th>\n",
       "      <th>Alignment</th>\n",
       "      <th>Intelligence</th>\n",
       "      <th>Strength</th>\n",
       "      <th>Speed</th>\n",
       "      <th>Durability</th>\n",
       "      <th>Power</th>\n",
       "      <th>Combat</th>\n",
       "      <th>Total</th>\n",
       "    </tr>\n",
       "  </thead>\n",
       "  <tbody>\n",
       "    <tr>\n",
       "      <th>0</th>\n",
       "      <td>3-D Man</td>\n",
       "      <td>good</td>\n",
       "      <td>50</td>\n",
       "      <td>31</td>\n",
       "      <td>43</td>\n",
       "      <td>32</td>\n",
       "      <td>25</td>\n",
       "      <td>52</td>\n",
       "      <td>233</td>\n",
       "    </tr>\n",
       "    <tr>\n",
       "      <th>1</th>\n",
       "      <td>A-Bomb</td>\n",
       "      <td>good</td>\n",
       "      <td>38</td>\n",
       "      <td>100</td>\n",
       "      <td>17</td>\n",
       "      <td>80</td>\n",
       "      <td>17</td>\n",
       "      <td>64</td>\n",
       "      <td>316</td>\n",
       "    </tr>\n",
       "    <tr>\n",
       "      <th>2</th>\n",
       "      <td>Abe Sapien</td>\n",
       "      <td>good</td>\n",
       "      <td>88</td>\n",
       "      <td>14</td>\n",
       "      <td>35</td>\n",
       "      <td>42</td>\n",
       "      <td>35</td>\n",
       "      <td>85</td>\n",
       "      <td>299</td>\n",
       "    </tr>\n",
       "    <tr>\n",
       "      <th>3</th>\n",
       "      <td>Abin Sur</td>\n",
       "      <td>good</td>\n",
       "      <td>50</td>\n",
       "      <td>90</td>\n",
       "      <td>53</td>\n",
       "      <td>64</td>\n",
       "      <td>84</td>\n",
       "      <td>65</td>\n",
       "      <td>406</td>\n",
       "    </tr>\n",
       "    <tr>\n",
       "      <th>4</th>\n",
       "      <td>Abomination</td>\n",
       "      <td>bad</td>\n",
       "      <td>63</td>\n",
       "      <td>80</td>\n",
       "      <td>53</td>\n",
       "      <td>90</td>\n",
       "      <td>55</td>\n",
       "      <td>95</td>\n",
       "      <td>436</td>\n",
       "    </tr>\n",
       "    <tr>\n",
       "      <th>...</th>\n",
       "      <td>...</td>\n",
       "      <td>...</td>\n",
       "      <td>...</td>\n",
       "      <td>...</td>\n",
       "      <td>...</td>\n",
       "      <td>...</td>\n",
       "      <td>...</td>\n",
       "      <td>...</td>\n",
       "      <td>...</td>\n",
       "    </tr>\n",
       "    <tr>\n",
       "      <th>606</th>\n",
       "      <td>Yellowjacket</td>\n",
       "      <td>good</td>\n",
       "      <td>88</td>\n",
       "      <td>10</td>\n",
       "      <td>12</td>\n",
       "      <td>28</td>\n",
       "      <td>12</td>\n",
       "      <td>14</td>\n",
       "      <td>164</td>\n",
       "    </tr>\n",
       "    <tr>\n",
       "      <th>607</th>\n",
       "      <td>Yellowjacket II</td>\n",
       "      <td>good</td>\n",
       "      <td>50</td>\n",
       "      <td>10</td>\n",
       "      <td>35</td>\n",
       "      <td>28</td>\n",
       "      <td>31</td>\n",
       "      <td>28</td>\n",
       "      <td>182</td>\n",
       "    </tr>\n",
       "    <tr>\n",
       "      <th>608</th>\n",
       "      <td>Ymir</td>\n",
       "      <td>good</td>\n",
       "      <td>50</td>\n",
       "      <td>100</td>\n",
       "      <td>27</td>\n",
       "      <td>100</td>\n",
       "      <td>83</td>\n",
       "      <td>28</td>\n",
       "      <td>388</td>\n",
       "    </tr>\n",
       "    <tr>\n",
       "      <th>609</th>\n",
       "      <td>Zatanna</td>\n",
       "      <td>good</td>\n",
       "      <td>75</td>\n",
       "      <td>10</td>\n",
       "      <td>23</td>\n",
       "      <td>28</td>\n",
       "      <td>100</td>\n",
       "      <td>56</td>\n",
       "      <td>292</td>\n",
       "    </tr>\n",
       "    <tr>\n",
       "      <th>610</th>\n",
       "      <td>Zoom</td>\n",
       "      <td>bad</td>\n",
       "      <td>50</td>\n",
       "      <td>10</td>\n",
       "      <td>100</td>\n",
       "      <td>28</td>\n",
       "      <td>72</td>\n",
       "      <td>28</td>\n",
       "      <td>288</td>\n",
       "    </tr>\n",
       "  </tbody>\n",
       "</table>\n",
       "<p>611 rows × 9 columns</p>\n",
       "</div>"
      ],
      "text/plain": [
       "                Name Alignment  Intelligence  Strength  Speed  Durability  \\\n",
       "0            3-D Man      good            50        31     43          32   \n",
       "1             A-Bomb      good            38       100     17          80   \n",
       "2         Abe Sapien      good            88        14     35          42   \n",
       "3           Abin Sur      good            50        90     53          64   \n",
       "4        Abomination       bad            63        80     53          90   \n",
       "..               ...       ...           ...       ...    ...         ...   \n",
       "606     Yellowjacket      good            88        10     12          28   \n",
       "607  Yellowjacket II      good            50        10     35          28   \n",
       "608             Ymir      good            50       100     27         100   \n",
       "609          Zatanna      good            75        10     23          28   \n",
       "610             Zoom       bad            50        10    100          28   \n",
       "\n",
       "     Power  Combat  Total  \n",
       "0       25      52    233  \n",
       "1       17      64    316  \n",
       "2       35      85    299  \n",
       "3       84      65    406  \n",
       "4       55      95    436  \n",
       "..     ...     ...    ...  \n",
       "606     12      14    164  \n",
       "607     31      28    182  \n",
       "608     83      28    388  \n",
       "609    100      56    292  \n",
       "610     72      28    288  \n",
       "\n",
       "[611 rows x 9 columns]"
      ]
     },
     "execution_count": 59,
     "metadata": {},
     "output_type": "execute_result"
    }
   ],
   "source": [
    "characters_stats"
   ]
  },
  {
   "cell_type": "code",
   "execution_count": 32,
   "metadata": {},
   "outputs": [
    {
     "name": "stdout",
     "output_type": "stream",
     "text": [
      "Constraint already exists\n"
     ]
    },
    {
     "name": "stderr",
     "output_type": "stream",
     "text": [
      "1170it [00:00, 6594.16it/s]\n"
     ]
    }
   ],
   "source": [
    "import pandas as pd\n",
    "import tqdm\n",
    "import py2neo\n",
    "\n",
    "graph = py2neo.Graph(\"bolt://localhost:7687\", auth=(\"neo4j\", \"password_tuts\"))\n",
    "\n",
    "graph.delete_all()\n",
    "\n",
    "try:\n",
    "    graph.run(\"CREATE CONSTRAINT ON (n:Superhero) ASSERT n.id_ IS UNIQUE\")\n",
    "except:\n",
    "    print(\"Constraint already exists\")\n",
    "\n",
    "\n",
    "transaction_list = []\n",
    "\n",
    "for row in tqdm.tqdm(characters.iterrows()):\n",
    "    id_ = row[1][\"characterID\"]\n",
    "    name = row[1][\"name\"]\n",
    "    transaction_list.append({\"id_\":id_,\"name\":name})\n",
    "    if len(transaction_list) == 1000:\n",
    "        transaction = \"UNWIND $json as data CREATE (n:Superhero) SET n = data\"\n",
    "        graph.run(transaction, json=transaction_list)\n",
    "        transaction_list = []\n",
    "\n",
    "graph.run(transaction, json=transaction_list)\n",
    "\n",
    "pass"
   ]
  },
  {
   "cell_type": "code",
   "execution_count": 35,
   "metadata": {},
   "outputs": [
    {
     "name": "stderr",
     "output_type": "stream",
     "text": [
      "0it [00:00, ?it/s]"
     ]
    },
    {
     "name": "stderr",
     "output_type": "stream",
     "text": [
      "611it [00:00, 17057.85it/s]\n"
     ]
    }
   ],
   "source": [
    "graph = py2neo.Graph(\"bolt://localhost:7687\", auth=(\"neo4j\", \"password_tuts\"))\n",
    "\n",
    "transaction = \"\"\"UNWIND $json as data\n",
    "OPTIONAL MATCH (a:Superhero {name:data.Name})\n",
    "SET a += {Alignement:data.Alignement,Intelligence:data.Intelligence,Strength:data.Strength,Speed:data.Speed,Durability:data.Durability,\n",
    "         Power:data.Power,Combat:data.Combat,Total:data.Total} \n",
    "\"\"\"\n",
    "\n",
    "transaction_list = []\n",
    "\n",
    "iteration = 0\n",
    "for row in tqdm.tqdm(characters_stats.iterrows()):\n",
    "    transaction_list.append(dict(row[1]))\n",
    "    iteration += 1\n",
    "    if iteration % 1000 == 0:\n",
    "        graph.run(transaction, json=transaction_list)\n",
    "        transaction_list = []\n",
    "        \n",
    "graph.run(transaction, json=transaction_list)\n",
    "\n",
    "pass"
   ]
  },
  {
   "cell_type": "code",
   "execution_count": 41,
   "metadata": {},
   "outputs": [
    {
     "name": "stderr",
     "output_type": "stream",
     "text": [
      "100%|██████████| 22250/22250 [05:04<00:00, 73.01it/s] \n"
     ]
    }
   ],
   "source": [
    "import pandas as pd\n",
    "import tqdm\n",
    "import py2neo\n",
    "import itertools\n",
    "\n",
    "graph = py2neo.Graph(\"bolt://localhost:7687\", auth=(\"neo4j\", \"password_tuts\"))\n",
    "\n",
    "characters2comics = characters2comics.drop_duplicates()\n",
    "transaction_list = []\n",
    "\n",
    "transaction = \"\"\"UNWIND $json as data\n",
    "MATCH (a:Superhero),(b:Superhero)\n",
    "WHERE a.id_ = data.id_1 AND b.id_ = data.id_2\n",
    "MERGE (a)-[r:RELATION]->(b)\n",
    "ON CREATE\n",
    "    SET r.n_collab = 1\n",
    "ON MATCH\n",
    "    SET r.n_collab = r.n_collab + 1\n",
    "\"\"\"\n",
    "\n",
    "it = 0   \n",
    "for comic in tqdm.tqdm(characters2comics.groupby([\"comicID\"])):\n",
    "    related_ids = comic[1][\"characterID\"]\n",
    "    for combi in list(itertools.combinations(related_ids, 2)):\n",
    "        sh1 = combi[0]\n",
    "        sh2 = combi[1]\n",
    "        transaction_list.append({\"id_1\":sh1,\"id_2\":sh2})\n",
    "        it +=1\n",
    "        if it % 1000 == 0:\n",
    "            graph.run(transaction, json=transaction_list)\n",
    "            transaction_list = []\n",
    "\n",
    "graph.run(transaction, json=transaction_list)\n",
    "pass"
   ]
  },
  {
   "cell_type": "code",
   "execution_count": 42,
   "metadata": {},
   "outputs": [
    {
     "name": "stdout",
     "output_type": "stream",
     "text": [
      "0    {'n_collab': 68}\n",
      "Name: r, dtype: object 0    {'id_': 1009494, 'name': 'Pepper Potts'}\n",
      "Name: a, dtype: object 0    {'Speed': 58, 'Intelligence': 100, 'id_': 1009...\n",
      "Name: b, dtype: object\n"
     ]
    }
   ],
   "source": [
    "graph = py2neo.Graph(\"bolt://localhost:7687\", auth=(\"neo4j\", \"password_tuts\"))\n",
    "\n",
    "query = \"\"\"MATCH (a:Superhero{name:'Pepper Potts'})-[r:RELATION]-(b:Superhero{name:'Iron Man'}) RETURN r,a,b\"\"\"\n",
    "data = graph.run(query).to_data_frame()\n",
    "print(data[\"r\"],data[\"a\"],data[\"b\"])"
   ]
  },
  {
   "cell_type": "code",
   "execution_count": 53,
   "metadata": {},
   "outputs": [
    {
     "data": {
      "text/html": [
       "<div>\n",
       "<style scoped>\n",
       "    .dataframe tbody tr th:only-of-type {\n",
       "        vertical-align: middle;\n",
       "    }\n",
       "\n",
       "    .dataframe tbody tr th {\n",
       "        vertical-align: top;\n",
       "    }\n",
       "\n",
       "    .dataframe thead th {\n",
       "        text-align: right;\n",
       "    }\n",
       "</style>\n",
       "<table border=\"1\" class=\"dataframe\">\n",
       "  <thead>\n",
       "    <tr style=\"text-align: right;\">\n",
       "      <th></th>\n",
       "      <th>name</th>\n",
       "      <th>speed</th>\n",
       "    </tr>\n",
       "  </thead>\n",
       "  <tbody>\n",
       "    <tr>\n",
       "      <th>0</th>\n",
       "      <td>Black Bolt</td>\n",
       "      <td>100</td>\n",
       "    </tr>\n",
       "    <tr>\n",
       "      <th>1</th>\n",
       "      <td>Stardust</td>\n",
       "      <td>100</td>\n",
       "    </tr>\n",
       "    <tr>\n",
       "      <th>2</th>\n",
       "      <td>Quicksilver</td>\n",
       "      <td>100</td>\n",
       "    </tr>\n",
       "    <tr>\n",
       "      <th>3</th>\n",
       "      <td>Nova</td>\n",
       "      <td>100</td>\n",
       "    </tr>\n",
       "    <tr>\n",
       "      <th>4</th>\n",
       "      <td>Thor</td>\n",
       "      <td>92</td>\n",
       "    </tr>\n",
       "    <tr>\n",
       "      <th>5</th>\n",
       "      <td>Silver Surfer</td>\n",
       "      <td>84</td>\n",
       "    </tr>\n",
       "    <tr>\n",
       "      <th>6</th>\n",
       "      <td>Galactus</td>\n",
       "      <td>83</td>\n",
       "    </tr>\n",
       "    <tr>\n",
       "      <th>7</th>\n",
       "      <td>Dormammu</td>\n",
       "      <td>83</td>\n",
       "    </tr>\n",
       "    <tr>\n",
       "      <th>8</th>\n",
       "      <td>Ego</td>\n",
       "      <td>83</td>\n",
       "    </tr>\n",
       "    <tr>\n",
       "      <th>9</th>\n",
       "      <td>Northstar</td>\n",
       "      <td>83</td>\n",
       "    </tr>\n",
       "  </tbody>\n",
       "</table>\n",
       "</div>"
      ],
      "text/plain": [
       "            name  speed\n",
       "0     Black Bolt    100\n",
       "1       Stardust    100\n",
       "2    Quicksilver    100\n",
       "3           Nova    100\n",
       "4           Thor     92\n",
       "5  Silver Surfer     84\n",
       "6       Galactus     83\n",
       "7       Dormammu     83\n",
       "8            Ego     83\n",
       "9      Northstar     83"
      ]
     },
     "execution_count": 53,
     "metadata": {},
     "output_type": "execute_result"
    }
   ],
   "source": [
    "#Who are the 10 fastest in the MCU ?\n",
    "graph = py2neo.Graph(\"bolt://localhost:7687\", auth=(\"neo4j\", \"password_tuts\"))\n",
    "\n",
    "\n",
    "query = \"\"\"\n",
    "MATCH (c:Superhero)\n",
    "WHERE c.Speed IS NOT NULL\n",
    "RETURN c.name AS name, c.Speed AS speed\n",
    "ORDER BY c.Speed DESC\n",
    "LIMIT 10\n",
    "\"\"\"\n",
    "\n",
    "fastest_names = graph.run(query).to_data_frame()\n",
    "fastest_names\n"
   ]
  },
  {
   "cell_type": "code",
   "execution_count": 55,
   "metadata": {},
   "outputs": [
    {
     "name": "stdout",
     "output_type": "stream",
     "text": [
      "Galactus is related to Ego via RELATION\n",
      "Galactus is related to Dormammu via RELATION\n",
      "Galactus is related to Black Bolt via RELATION\n",
      "Galactus is related to Northstar via RELATION\n",
      "Galactus is related to Nova via RELATION\n",
      "Galactus is related to Stardust via RELATION\n",
      "Galactus is related to Silver Surfer via RELATION\n",
      "Galactus is related to Quicksilver via RELATION\n",
      "Galactus is related to Thor via RELATION\n",
      "Silver Surfer is related to Ego via RELATION\n",
      "Silver Surfer is related to Nova via RELATION\n",
      "Silver Surfer is related to Quicksilver via RELATION\n",
      "Silver Surfer is related to Black Bolt via RELATION\n",
      "Silver Surfer is related to Galactus via RELATION\n",
      "Silver Surfer is related to Dormammu via RELATION\n",
      "Silver Surfer is related to Stardust via RELATION\n",
      "Silver Surfer is related to Thor via RELATION\n",
      "Thor is related to Northstar via RELATION\n",
      "Thor is related to Ego via RELATION\n",
      "Thor is related to Silver Surfer via RELATION\n",
      "Thor is related to Nova via RELATION\n",
      "Thor is related to Black Bolt via RELATION\n",
      "Thor is related to Galactus via RELATION\n",
      "Thor is related to Quicksilver via RELATION\n",
      "Thor is related to Dormammu via RELATION\n",
      "Quicksilver is related to Dormammu via RELATION\n",
      "Quicksilver is related to Ego via RELATION\n",
      "Quicksilver is related to Nova via RELATION\n",
      "Quicksilver is related to Galactus via RELATION\n",
      "Quicksilver is related to Black Bolt via RELATION\n",
      "Quicksilver is related to Northstar via RELATION\n",
      "Quicksilver is related to Silver Surfer via RELATION\n",
      "Quicksilver is related to Thor via RELATION\n",
      "Dormammu is related to Quicksilver via RELATION\n",
      "Dormammu is related to Galactus via RELATION\n",
      "Dormammu is related to Thor via RELATION\n",
      "Dormammu is related to Silver Surfer via RELATION\n",
      "Ego is related to Galactus via RELATION\n",
      "Ego is related to Thor via RELATION\n",
      "Ego is related to Nova via RELATION\n",
      "Ego is related to Silver Surfer via RELATION\n",
      "Ego is related to Quicksilver via RELATION\n",
      "Nova is related to Black Bolt via RELATION\n",
      "Nova is related to Ego via RELATION\n",
      "Nova is related to Galactus via RELATION\n",
      "Nova is related to Silver Surfer via RELATION\n",
      "Nova is related to Quicksilver via RELATION\n",
      "Nova is related to Thor via RELATION\n",
      "Black Bolt is related to Nova via RELATION\n",
      "Black Bolt is related to Galactus via RELATION\n",
      "Black Bolt is related to Quicksilver via RELATION\n",
      "Black Bolt is related to Thor via RELATION\n",
      "Black Bolt is related to Silver Surfer via RELATION\n",
      "Northstar is related to Galactus via RELATION\n",
      "Northstar is related to Thor via RELATION\n",
      "Northstar is related to Quicksilver via RELATION\n",
      "Stardust is related to Silver Surfer via RELATION\n",
      "Stardust is related to Galactus via RELATION\n"
     ]
    }
   ],
   "source": [
    "\n",
    "fastest_characters = graph.run(query).data()\n",
    "fastest_names = [char['name'] for char in fastest_characters]\n",
    "\n",
    "query_relationships = \"\"\"\n",
    "MATCH (c1:Superhero)-[r]-(c2:Superhero)\n",
    "WHERE c1.name IN $names AND c2.name IN $names\n",
    "RETURN c1.name AS source, c2.name AS target, type(r) AS relationship\n",
    "\"\"\"\n",
    "\n",
    "relationships = graph.run(query_relationships, names=fastest_names).data()\n",
    "\n",
    "for rel in relationships:\n",
    "    print(f\"{rel['source']} is related to {rel['target']} via {rel['relationship']}\")\n"
   ]
  },
  {
   "cell_type": "code",
   "execution_count": 57,
   "metadata": {},
   "outputs": [
    {
     "data": {
      "text/html": [
       "<div>\n",
       "<style scoped>\n",
       "    .dataframe tbody tr th:only-of-type {\n",
       "        vertical-align: middle;\n",
       "    }\n",
       "\n",
       "    .dataframe tbody tr th {\n",
       "        vertical-align: top;\n",
       "    }\n",
       "\n",
       "    .dataframe thead th {\n",
       "        text-align: right;\n",
       "    }\n",
       "</style>\n",
       "<table border=\"1\" class=\"dataframe\">\n",
       "  <thead>\n",
       "    <tr style=\"text-align: right;\">\n",
       "      <th></th>\n",
       "      <th>Black Bolt</th>\n",
       "      <th>Stardust</th>\n",
       "      <th>Quicksilver</th>\n",
       "      <th>Nova</th>\n",
       "      <th>Thor</th>\n",
       "      <th>Silver Surfer</th>\n",
       "      <th>Galactus</th>\n",
       "      <th>Dormammu</th>\n",
       "      <th>Ego</th>\n",
       "      <th>Northstar</th>\n",
       "    </tr>\n",
       "  </thead>\n",
       "  <tbody>\n",
       "    <tr>\n",
       "      <th>Black Bolt</th>\n",
       "      <td>0</td>\n",
       "      <td>0</td>\n",
       "      <td>1</td>\n",
       "      <td>1</td>\n",
       "      <td>1</td>\n",
       "      <td>1</td>\n",
       "      <td>1</td>\n",
       "      <td>0</td>\n",
       "      <td>0</td>\n",
       "      <td>0</td>\n",
       "    </tr>\n",
       "    <tr>\n",
       "      <th>Stardust</th>\n",
       "      <td>0</td>\n",
       "      <td>0</td>\n",
       "      <td>0</td>\n",
       "      <td>0</td>\n",
       "      <td>0</td>\n",
       "      <td>1</td>\n",
       "      <td>1</td>\n",
       "      <td>0</td>\n",
       "      <td>0</td>\n",
       "      <td>0</td>\n",
       "    </tr>\n",
       "    <tr>\n",
       "      <th>Quicksilver</th>\n",
       "      <td>1</td>\n",
       "      <td>0</td>\n",
       "      <td>0</td>\n",
       "      <td>1</td>\n",
       "      <td>1</td>\n",
       "      <td>1</td>\n",
       "      <td>1</td>\n",
       "      <td>1</td>\n",
       "      <td>1</td>\n",
       "      <td>1</td>\n",
       "    </tr>\n",
       "    <tr>\n",
       "      <th>Nova</th>\n",
       "      <td>1</td>\n",
       "      <td>0</td>\n",
       "      <td>1</td>\n",
       "      <td>0</td>\n",
       "      <td>1</td>\n",
       "      <td>1</td>\n",
       "      <td>1</td>\n",
       "      <td>0</td>\n",
       "      <td>1</td>\n",
       "      <td>0</td>\n",
       "    </tr>\n",
       "    <tr>\n",
       "      <th>Thor</th>\n",
       "      <td>1</td>\n",
       "      <td>0</td>\n",
       "      <td>1</td>\n",
       "      <td>1</td>\n",
       "      <td>0</td>\n",
       "      <td>1</td>\n",
       "      <td>1</td>\n",
       "      <td>1</td>\n",
       "      <td>1</td>\n",
       "      <td>1</td>\n",
       "    </tr>\n",
       "    <tr>\n",
       "      <th>Silver Surfer</th>\n",
       "      <td>1</td>\n",
       "      <td>1</td>\n",
       "      <td>1</td>\n",
       "      <td>1</td>\n",
       "      <td>1</td>\n",
       "      <td>0</td>\n",
       "      <td>1</td>\n",
       "      <td>1</td>\n",
       "      <td>1</td>\n",
       "      <td>0</td>\n",
       "    </tr>\n",
       "    <tr>\n",
       "      <th>Galactus</th>\n",
       "      <td>1</td>\n",
       "      <td>1</td>\n",
       "      <td>1</td>\n",
       "      <td>1</td>\n",
       "      <td>1</td>\n",
       "      <td>1</td>\n",
       "      <td>0</td>\n",
       "      <td>1</td>\n",
       "      <td>1</td>\n",
       "      <td>1</td>\n",
       "    </tr>\n",
       "    <tr>\n",
       "      <th>Dormammu</th>\n",
       "      <td>0</td>\n",
       "      <td>0</td>\n",
       "      <td>1</td>\n",
       "      <td>0</td>\n",
       "      <td>1</td>\n",
       "      <td>1</td>\n",
       "      <td>1</td>\n",
       "      <td>0</td>\n",
       "      <td>0</td>\n",
       "      <td>0</td>\n",
       "    </tr>\n",
       "    <tr>\n",
       "      <th>Ego</th>\n",
       "      <td>0</td>\n",
       "      <td>0</td>\n",
       "      <td>1</td>\n",
       "      <td>1</td>\n",
       "      <td>1</td>\n",
       "      <td>1</td>\n",
       "      <td>1</td>\n",
       "      <td>0</td>\n",
       "      <td>0</td>\n",
       "      <td>0</td>\n",
       "    </tr>\n",
       "    <tr>\n",
       "      <th>Northstar</th>\n",
       "      <td>0</td>\n",
       "      <td>0</td>\n",
       "      <td>1</td>\n",
       "      <td>0</td>\n",
       "      <td>1</td>\n",
       "      <td>0</td>\n",
       "      <td>1</td>\n",
       "      <td>0</td>\n",
       "      <td>0</td>\n",
       "      <td>0</td>\n",
       "    </tr>\n",
       "  </tbody>\n",
       "</table>\n",
       "</div>"
      ],
      "text/plain": [
       "               Black Bolt  Stardust  Quicksilver  Nova  Thor  Silver Surfer  \\\n",
       "Black Bolt              0         0            1     1     1              1   \n",
       "Stardust                0         0            0     0     0              1   \n",
       "Quicksilver             1         0            0     1     1              1   \n",
       "Nova                    1         0            1     0     1              1   \n",
       "Thor                    1         0            1     1     0              1   \n",
       "Silver Surfer           1         1            1     1     1              0   \n",
       "Galactus                1         1            1     1     1              1   \n",
       "Dormammu                0         0            1     0     1              1   \n",
       "Ego                     0         0            1     1     1              1   \n",
       "Northstar               0         0            1     0     1              0   \n",
       "\n",
       "               Galactus  Dormammu  Ego  Northstar  \n",
       "Black Bolt            1         0    0          0  \n",
       "Stardust              1         0    0          0  \n",
       "Quicksilver           1         1    1          1  \n",
       "Nova                  1         0    1          0  \n",
       "Thor                  1         1    1          1  \n",
       "Silver Surfer         1         1    1          0  \n",
       "Galactus              0         1    1          1  \n",
       "Dormammu              1         0    0          0  \n",
       "Ego                   1         0    0          0  \n",
       "Northstar             1         0    0          0  "
      ]
     },
     "execution_count": 57,
     "metadata": {},
     "output_type": "execute_result"
    }
   ],
   "source": [
    "#Produisons une matrice pour observons les relations\n",
    "matrix = pd.DataFrame(0, index=fastest_names, columns=fastest_names)\n",
    "\n",
    "for rel in relationships:\n",
    "    matrix.at[rel['source'], rel['target']] = 1\n",
    "    matrix.at[rel['target'], rel['source']] = 1  \n",
    "\n",
    "matrix"
   ]
  },
  {
   "cell_type": "markdown",
   "metadata": {},
   "source": [
    "**TODO 2**: How many have collaborated atleast more than 10 times with another superhero?\n",
    "\n"
   ]
  },
  {
   "cell_type": "code",
   "execution_count": 58,
   "metadata": {},
   "outputs": [
    {
     "data": {
      "text/plain": [
       "4907"
      ]
     },
     "execution_count": 58,
     "metadata": {},
     "output_type": "execute_result"
    }
   ],
   "source": [
    "query = \"\"\"\n",
    "MATCH (c1:Superhero)-[r:RELATION]-(c2:Superhero)\n",
    "RETURN count(DISTINCT c1.id_ + c2.id_) AS collaboration_count\n",
    "\"\"\"\n",
    "\n",
    "collaboration_count = graph.run(query).evaluate()\n",
    "collaboration_count"
   ]
  },
  {
   "cell_type": "markdown",
   "metadata": {},
   "source": [
    "**TODO 3**: Did the weakest of the MCU collaborated with the strongest ?\n"
   ]
  },
  {
   "cell_type": "code",
   "execution_count": 66,
   "metadata": {},
   "outputs": [
    {
     "name": "stdout",
     "output_type": "stream",
     "text": [
      "Galactus\n",
      "Lady Deathstrike\n",
      "False\n"
     ]
    }
   ],
   "source": [
    "#Pour déterminer le \"strongest\" nous nous baserons sur la caractéristique \"Strength\", nous pourrions cependant tout aussi bien nous\n",
    "#intéressé à la somme des caractéristiques du perso.\n",
    "query_strength = \"\"\"\n",
    "MATCH (c:Superhero)\n",
    "WHERE c.Strength IS NOT NULL\n",
    "RETURN c.name AS name, c.Strength AS strength\n",
    "ORDER BY c.Strength DESC\n",
    "LIMIT 1\n",
    "\"\"\"\n",
    "\n",
    "query_weakest = \"\"\"\n",
    "MATCH (c:Superhero)\n",
    "WHERE c.Strength IS NOT NULL\n",
    "RETURN c.name AS name, c.Strength AS strength\n",
    "ORDER BY c.Strength ASC\n",
    "LIMIT 1\n",
    "\"\"\"\n",
    "\n",
    "strongest_character = graph.run(query_strength).evaluate('name')\n",
    "weakest_character = graph.run(query_weakest).evaluate('name')\n",
    "\n",
    "query_collaboration = \"\"\"\n",
    "MATCH (c1:Superhero)-[r:RELATION]-(c2:Superhero)\n",
    "WHERE c1.name = $strongest AND c2.name = $weakest\n",
    "RETURN count(r) > 0 AS collaborated\n",
    "\"\"\"\n",
    "\n",
    "collaborated = graph.run(query_collaboration, strongest=strongest_character, weakest=weakest_character).evaluate()\n",
    "print(strongest_character)\n",
    "print(weakest_character)\n",
    "print(collaborated)\n"
   ]
  },
  {
   "cell_type": "markdown",
   "metadata": {},
   "source": [
    "        -> Non le plus fort et le plus faible n'ont pas collaboré ensemble"
   ]
  },
  {
   "cell_type": "markdown",
   "metadata": {},
   "source": [
    "**TODO 4**: Give a stats that interests you !\n"
   ]
  },
  {
   "cell_type": "markdown",
   "metadata": {},
   "source": [
    "Nous allons nous intéresser au perso ayant les stats les plus polyvalentes du MCU. Pour ce faire, nous allons étudier le coefficient de variation tq CV= \n",
    "σ/μ\n",
    "​\n",
    ", le perso ayant le plus bas score de coefficient de variation sera alors le plus polyvalent."
   ]
  },
  {
   "cell_type": "code",
   "execution_count": 72,
   "metadata": {},
   "outputs": [
    {
     "data": {
      "text/plain": [
       "name            Dormammu\n",
       "Intelligence        88.0\n",
       "Strength            95.0\n",
       "Speed               83.0\n",
       "Durability         100.0\n",
       "Power              100.0\n",
       "Combat              80.0\n",
       "Total              546.0\n",
       "CV              0.094786\n",
       "Name: 130, dtype: object"
      ]
     },
     "execution_count": 72,
     "metadata": {},
     "output_type": "execute_result"
    }
   ],
   "source": [
    "\n",
    "# Query to find superheroes with statistics data\n",
    "query_stats = \"\"\"\n",
    "MATCH (c:Superhero)\n",
    "RETURN c.name AS name, c.Intelligence AS Intelligence, c.Strength AS Strength, \n",
    "       c.Speed AS Speed, c.Durability AS Durability, c.Power AS Power, \n",
    "       c.Combat AS Combat, c.Total AS Total\n",
    "\"\"\"\n",
    "# Fetch the data into a DataFrame\n",
    "data = graph.run(query_stats).to_data_frame()\n",
    "\n",
    "# Compute the coefficient of variation for each hero\n",
    "data['CV'] = data[['Intelligence', 'Strength', 'Speed', 'Durability', 'Power', 'Combat']].std(axis=1) / data[['Intelligence', 'Strength', 'Speed', 'Durability', 'Power', 'Combat']].mean(axis=1)\n",
    "\n",
    "# Identify the hero with the lowest CV\n",
    "most_versatile = data.sort_values('CV').iloc[0]\n",
    "most_versatile\n"
   ]
  },
  {
   "cell_type": "markdown",
   "metadata": {},
   "source": [
    "**TODO 5**: Create a new db called \"master\". Create a graph from the M1 class with name and random age between 20 and 30, Group of 3 that collab (undirected relation).\n"
   ]
  },
  {
   "cell_type": "code",
   "execution_count": null,
   "metadata": {},
   "outputs": [],
   "source": []
  },
  {
   "cell_type": "markdown",
   "metadata": {},
   "source": [
    "**TODO 6**: Get the age for people YOU collaborate with.\n"
   ]
  },
  {
   "cell_type": "code",
   "execution_count": null,
   "metadata": {},
   "outputs": [],
   "source": []
  },
  {
   "cell_type": "markdown",
   "metadata": {},
   "source": [
    "**TODO 7**: Get nodes with age > 25."
   ]
  },
  {
   "cell_type": "code",
   "execution_count": null,
   "metadata": {},
   "outputs": [],
   "source": []
  },
  {
   "cell_type": "markdown",
   "metadata": {},
   "source": [
    "### Real world problem:\n",
    "\n",
    "**TODO 8**: Using the downloaded data in TODO 11 of chapter II, create a collaboration network between authors for papers after 2021 (same author if same name). Insert it in neo4j in a db called \"arxiv\".\n",
    "\n",
    "**TODO 9**: Get the density of degrees of the collaboration network\n",
    "\n",
    "**TODO 10**: Do a for loop for i in range(500) for each i remove nodes with a degree less than i."
   ]
  },
  {
   "cell_type": "markdown",
   "metadata": {},
   "source": [
    "### Homework 3\n",
    "\n",
    "You will work again on [pubmed_last_100k.json](https://we.tl/t-6afLCDGRsg). The goal in this homework is to insert collaboration data in Neo4j and then study it using cypher queries. The following questions are meant to guide you through the process."
   ]
  },
  {
   "cell_type": "markdown",
   "metadata": {},
   "source": [
    "1) Each paper has a list of author and affiliations. The first step is to create a node per author with a list of affiliation as attribute. If a name appears multiple times consider it as a single person. Create an edge between two authors if they are on the same paper. You can use any kind of operation to clean the data before inserting, you decide which preprocessing step is the most convenient."
   ]
  },
  {
   "cell_type": "code",
   "execution_count": 8,
   "metadata": {},
   "outputs": [],
   "source": [
    "import json\n",
    "import py2neo\n",
    "from py2neo import Graph, Node, Relationship"
   ]
  },
  {
   "cell_type": "code",
   "execution_count": 13,
   "metadata": {},
   "outputs": [
    {
     "ename": "KeyboardInterrupt",
     "evalue": "",
     "output_type": "error",
     "traceback": [
      "\u001b[1;31m---------------------------------------------------------------------------\u001b[0m",
      "\u001b[1;31mKeyboardInterrupt\u001b[0m                         Traceback (most recent call last)",
      "Cell \u001b[1;32mIn[13], line 27\u001b[0m\n\u001b[0;32m     25\u001b[0m \u001b[38;5;28;01mfor\u001b[39;00m author2 \u001b[38;5;129;01min\u001b[39;00m author_nodes[i \u001b[38;5;241m+\u001b[39m \u001b[38;5;241m1\u001b[39m:]:\n\u001b[0;32m     26\u001b[0m     relationship \u001b[38;5;241m=\u001b[39m Relationship(author1, \u001b[38;5;124m\"\u001b[39m\u001b[38;5;124mCOLLABORATED_WITH\u001b[39m\u001b[38;5;124m\"\u001b[39m, author2)\n\u001b[1;32m---> 27\u001b[0m     \u001b[43mgraph\u001b[49m\u001b[38;5;241;43m.\u001b[39;49m\u001b[43mcreate\u001b[49m\u001b[43m(\u001b[49m\u001b[43mrelationship\u001b[49m\u001b[43m)\u001b[49m\n",
      "File \u001b[1;32m~\\AppData\\Local\\Packages\\PythonSoftwareFoundation.Python.3.12_qbz5n2kfra8p0\\LocalCache\\local-packages\\Python312\\site-packages\\py2neo\\database.py:591\u001b[0m, in \u001b[0;36mGraph.create\u001b[1;34m(self, subgraph)\u001b[0m\n\u001b[0;32m    584\u001b[0m \u001b[38;5;28;01mdef\u001b[39;00m \u001b[38;5;21mcreate\u001b[39m(\u001b[38;5;28mself\u001b[39m, subgraph):\n\u001b[0;32m    585\u001b[0m \u001b[38;5;250m    \u001b[39m\u001b[38;5;124;03m\"\"\" Run a :meth:`~py2neo.Transaction.create` operation within a\u001b[39;00m\n\u001b[0;32m    586\u001b[0m \u001b[38;5;124;03m    :class:`~py2neo.Transaction`.\u001b[39;00m\n\u001b[0;32m    587\u001b[0m \n\u001b[0;32m    588\u001b[0m \u001b[38;5;124;03m    :param subgraph: a :class:`.Node`, :class:`.Relationship` or other\u001b[39;00m\n\u001b[0;32m    589\u001b[0m \u001b[38;5;124;03m                   :class:`.Subgraph`\u001b[39;00m\n\u001b[0;32m    590\u001b[0m \u001b[38;5;124;03m    \"\"\"\u001b[39;00m\n\u001b[1;32m--> 591\u001b[0m     \u001b[38;5;28;43mself\u001b[39;49m\u001b[38;5;241;43m.\u001b[39;49m\u001b[43mupdate\u001b[49m\u001b[43m(\u001b[49m\u001b[38;5;28;43;01mlambda\u001b[39;49;00m\u001b[43m \u001b[49m\u001b[43mtx\u001b[49m\u001b[43m:\u001b[49m\u001b[43m \u001b[49m\u001b[43mtx\u001b[49m\u001b[38;5;241;43m.\u001b[39;49m\u001b[43mcreate\u001b[49m\u001b[43m(\u001b[49m\u001b[43msubgraph\u001b[49m\u001b[43m)\u001b[49m\u001b[43m)\u001b[49m\n",
      "File \u001b[1;32m~\\AppData\\Local\\Packages\\PythonSoftwareFoundation.Python.3.12_qbz5n2kfra8p0\\LocalCache\\local-packages\\Python312\\site-packages\\py2neo\\database.py:445\u001b[0m, in \u001b[0;36mGraph.update\u001b[1;34m(self, cypher, parameters, timeout)\u001b[0m\n\u001b[0;32m    443\u001b[0m \u001b[38;5;28;01mif\u001b[39;00m \u001b[38;5;28mcallable\u001b[39m(cypher):\n\u001b[0;32m    444\u001b[0m     \u001b[38;5;28;01mif\u001b[39;00m parameters \u001b[38;5;129;01mis\u001b[39;00m \u001b[38;5;28;01mNone\u001b[39;00m:\n\u001b[1;32m--> 445\u001b[0m         \u001b[38;5;28;43mself\u001b[39;49m\u001b[38;5;241;43m.\u001b[39;49m\u001b[43m_update\u001b[49m\u001b[43m(\u001b[49m\u001b[43mcypher\u001b[49m\u001b[43m,\u001b[49m\u001b[43m \u001b[49m\u001b[43mtimeout\u001b[49m\u001b[38;5;241;43m=\u001b[39;49m\u001b[43mtimeout\u001b[49m\u001b[43m)\u001b[49m\n\u001b[0;32m    446\u001b[0m     \u001b[38;5;28;01melif\u001b[39;00m (\u001b[38;5;28misinstance\u001b[39m(parameters, \u001b[38;5;28mtuple\u001b[39m) \u001b[38;5;129;01mand\u001b[39;00m \u001b[38;5;28mlen\u001b[39m(parameters) \u001b[38;5;241m==\u001b[39m \u001b[38;5;241m2\u001b[39m \u001b[38;5;129;01mand\u001b[39;00m\n\u001b[0;32m    447\u001b[0m             \u001b[38;5;28misinstance\u001b[39m(parameters[\u001b[38;5;241m0\u001b[39m], Sequence) \u001b[38;5;129;01mand\u001b[39;00m \u001b[38;5;28misinstance\u001b[39m(parameters[\u001b[38;5;241m1\u001b[39m], Mapping)):\n\u001b[0;32m    448\u001b[0m         \u001b[38;5;28mself\u001b[39m\u001b[38;5;241m.\u001b[39m_update(\u001b[38;5;28;01mlambda\u001b[39;00m tx: cypher(tx, \u001b[38;5;241m*\u001b[39mparameters[\u001b[38;5;241m0\u001b[39m], \u001b[38;5;241m*\u001b[39m\u001b[38;5;241m*\u001b[39mparameters[\u001b[38;5;241m1\u001b[39m]),\n\u001b[0;32m    449\u001b[0m                      timeout\u001b[38;5;241m=\u001b[39mtimeout)\n",
      "File \u001b[1;32m~\\AppData\\Local\\Packages\\PythonSoftwareFoundation.Python.3.12_qbz5n2kfra8p0\\LocalCache\\local-packages\\Python312\\site-packages\\py2neo\\database.py:473\u001b[0m, in \u001b[0;36mGraph._update\u001b[1;34m(self, f, timeout)\u001b[0m\n\u001b[0;32m    471\u001b[0m     \u001b[38;5;28;01mif\u001b[39;00m isgenerator(value):\n\u001b[0;32m    472\u001b[0m         _ \u001b[38;5;241m=\u001b[39m \u001b[38;5;28mlist\u001b[39m(value)     \u001b[38;5;66;03m# exhaust the generator\u001b[39;00m\n\u001b[1;32m--> 473\u001b[0m     \u001b[38;5;28;43mself\u001b[39;49m\u001b[38;5;241;43m.\u001b[39;49m\u001b[43mcommit\u001b[49m\u001b[43m(\u001b[49m\u001b[43mtx\u001b[49m\u001b[43m)\u001b[49m\n\u001b[0;32m    474\u001b[0m \u001b[38;5;28;01mexcept\u001b[39;00m (ConnectionUnavailable, ConnectionBroken, ConnectionLimit):\n\u001b[0;32m    475\u001b[0m     \u001b[38;5;28mself\u001b[39m\u001b[38;5;241m.\u001b[39mrollback(tx)\n",
      "File \u001b[1;32m~\\AppData\\Local\\Packages\\PythonSoftwareFoundation.Python.3.12_qbz5n2kfra8p0\\LocalCache\\local-packages\\Python312\\site-packages\\py2neo\\database.py:367\u001b[0m, in \u001b[0;36mGraph.commit\u001b[1;34m(self, tx)\u001b[0m\n\u001b[0;32m    365\u001b[0m     \u001b[38;5;28;01mraise\u001b[39;00m \u001b[38;5;167;01mTypeError\u001b[39;00m(\u001b[38;5;124m\"\u001b[39m\u001b[38;5;124mCannot commit closed transaction\u001b[39m\u001b[38;5;124m\"\u001b[39m)\n\u001b[0;32m    366\u001b[0m \u001b[38;5;28;01mtry\u001b[39;00m:\n\u001b[1;32m--> 367\u001b[0m     summary \u001b[38;5;241m=\u001b[39m \u001b[38;5;28;43mself\u001b[39;49m\u001b[38;5;241;43m.\u001b[39;49m\u001b[43mservice\u001b[49m\u001b[38;5;241;43m.\u001b[39;49m\u001b[43mconnector\u001b[49m\u001b[38;5;241;43m.\u001b[39;49m\u001b[43mcommit\u001b[49m\u001b[43m(\u001b[49m\u001b[43mtx\u001b[49m\u001b[38;5;241;43m.\u001b[39;49m\u001b[43mref\u001b[49m\u001b[43m)\u001b[49m\n\u001b[0;32m    368\u001b[0m     tx\u001b[38;5;241m.\u001b[39m_bookmark \u001b[38;5;241m=\u001b[39m summary[\u001b[38;5;124m\"\u001b[39m\u001b[38;5;124mbookmark\u001b[39m\u001b[38;5;124m\"\u001b[39m]\n\u001b[0;32m    369\u001b[0m     tx\u001b[38;5;241m.\u001b[39m_profile \u001b[38;5;241m=\u001b[39m summary[\u001b[38;5;124m\"\u001b[39m\u001b[38;5;124mprofile\u001b[39m\u001b[38;5;124m\"\u001b[39m]\n",
      "File \u001b[1;32m~\\AppData\\Local\\Packages\\PythonSoftwareFoundation.Python.3.12_qbz5n2kfra8p0\\LocalCache\\local-packages\\Python312\\site-packages\\py2neo\\client\\__init__.py:1378\u001b[0m, in \u001b[0;36mConnector.commit\u001b[1;34m(self, tx)\u001b[0m\n\u001b[0;32m   1376\u001b[0m cx \u001b[38;5;241m=\u001b[39m \u001b[38;5;28mself\u001b[39m\u001b[38;5;241m.\u001b[39m_reacquire(tx)\n\u001b[0;32m   1377\u001b[0m \u001b[38;5;28;01mtry\u001b[39;00m:\n\u001b[1;32m-> 1378\u001b[0m     bookmark \u001b[38;5;241m=\u001b[39m \u001b[43mcx\u001b[49m\u001b[38;5;241;43m.\u001b[39;49m\u001b[43mcommit\u001b[49m\u001b[43m(\u001b[49m\u001b[43mtx\u001b[49m\u001b[43m)\u001b[49m\n\u001b[0;32m   1379\u001b[0m \u001b[38;5;28;01mexcept\u001b[39;00m (ConnectionUnavailable, ConnectionBroken):\n\u001b[0;32m   1380\u001b[0m     \u001b[38;5;28mself\u001b[39m\u001b[38;5;241m.\u001b[39mprune(cx\u001b[38;5;241m.\u001b[39mprofile)\n",
      "File \u001b[1;32m~\\AppData\\Local\\Packages\\PythonSoftwareFoundation.Python.3.12_qbz5n2kfra8p0\\LocalCache\\local-packages\\Python312\\site-packages\\py2neo\\client\\bolt.py:912\u001b[0m, in \u001b[0;36mBolt3.commit\u001b[1;34m(self, tx)\u001b[0m\n\u001b[0;32m    910\u001b[0m response \u001b[38;5;241m=\u001b[39m \u001b[38;5;28mself\u001b[39m\u001b[38;5;241m.\u001b[39mappend_message(\u001b[38;5;241m0x12\u001b[39m)\n\u001b[0;32m    911\u001b[0m \u001b[38;5;28;01mtry\u001b[39;00m:\n\u001b[1;32m--> 912\u001b[0m     \u001b[38;5;28;43mself\u001b[39;49m\u001b[38;5;241;43m.\u001b[39;49m\u001b[43m_sync\u001b[49m\u001b[43m(\u001b[49m\u001b[43mresponse\u001b[49m\u001b[43m)\u001b[49m\n\u001b[0;32m    913\u001b[0m \u001b[38;5;28;01mexcept\u001b[39;00m BrokenWireError \u001b[38;5;28;01mas\u001b[39;00m error:\n\u001b[0;32m    914\u001b[0m     tx\u001b[38;5;241m.\u001b[39mmark_broken()\n",
      "File \u001b[1;32m~\\AppData\\Local\\Packages\\PythonSoftwareFoundation.Python.3.12_qbz5n2kfra8p0\\LocalCache\\local-packages\\Python312\\site-packages\\py2neo\\client\\bolt.py:799\u001b[0m, in \u001b[0;36mBolt1._sync\u001b[1;34m(self, *responses)\u001b[0m\n\u001b[0;32m    797\u001b[0m \u001b[38;5;28mself\u001b[39m\u001b[38;5;241m.\u001b[39msend()\n\u001b[0;32m    798\u001b[0m \u001b[38;5;28;01mfor\u001b[39;00m response \u001b[38;5;129;01min\u001b[39;00m responses:\n\u001b[1;32m--> 799\u001b[0m     \u001b[38;5;28;43mself\u001b[39;49m\u001b[38;5;241;43m.\u001b[39;49m\u001b[43m_wait\u001b[49m\u001b[43m(\u001b[49m\u001b[43mresponse\u001b[49m\u001b[43m)\u001b[49m\n",
      "File \u001b[1;32m~\\AppData\\Local\\Packages\\PythonSoftwareFoundation.Python.3.12_qbz5n2kfra8p0\\LocalCache\\local-packages\\Python312\\site-packages\\py2neo\\client\\bolt.py:794\u001b[0m, in \u001b[0;36mBolt1._wait\u001b[1;34m(self, response)\u001b[0m\n\u001b[0;32m    787\u001b[0m \u001b[38;5;250m\u001b[39m\u001b[38;5;124;03m\"\"\" Read all incoming responses up to and including a\u001b[39;00m\n\u001b[0;32m    788\u001b[0m \u001b[38;5;124;03mparticular response.\u001b[39;00m\n\u001b[0;32m    789\u001b[0m \n\u001b[0;32m    790\u001b[0m \u001b[38;5;124;03mThis method calls fetch, but does not raise an exception on\u001b[39;00m\n\u001b[0;32m    791\u001b[0m \u001b[38;5;124;03mFAILURE.\u001b[39;00m\n\u001b[0;32m    792\u001b[0m \u001b[38;5;124;03m\"\"\"\u001b[39;00m\n\u001b[0;32m    793\u001b[0m \u001b[38;5;28;01mwhile\u001b[39;00m \u001b[38;5;129;01mnot\u001b[39;00m response\u001b[38;5;241m.\u001b[39mfull() \u001b[38;5;129;01mand\u001b[39;00m \u001b[38;5;129;01mnot\u001b[39;00m response\u001b[38;5;241m.\u001b[39mdone():\n\u001b[1;32m--> 794\u001b[0m     \u001b[38;5;28;43mself\u001b[39;49m\u001b[38;5;241;43m.\u001b[39;49m\u001b[43m_fetch\u001b[49m\u001b[43m(\u001b[49m\u001b[43m)\u001b[49m\n",
      "File \u001b[1;32m~\\AppData\\Local\\Packages\\PythonSoftwareFoundation.Python.3.12_qbz5n2kfra8p0\\LocalCache\\local-packages\\Python312\\site-packages\\py2neo\\client\\bolt.py:769\u001b[0m, in \u001b[0;36mBolt1._fetch\u001b[1;34m(self)\u001b[0m\n\u001b[0;32m    760\u001b[0m \u001b[38;5;28;01mdef\u001b[39;00m \u001b[38;5;21m_fetch\u001b[39m(\u001b[38;5;28mself\u001b[39m):\n\u001b[0;32m    761\u001b[0m \u001b[38;5;250m    \u001b[39m\u001b[38;5;124;03m\"\"\" Fetch and process the next incoming message.\u001b[39;00m\n\u001b[0;32m    762\u001b[0m \n\u001b[0;32m    763\u001b[0m \u001b[38;5;124;03m    This method does not raise an exception on receipt of a\u001b[39;00m\n\u001b[1;32m   (...)\u001b[0m\n\u001b[0;32m    767\u001b[0m \u001b[38;5;124;03m    failed state into an exception.\u001b[39;00m\n\u001b[0;32m    768\u001b[0m \u001b[38;5;124;03m    \"\"\"\u001b[39;00m\n\u001b[1;32m--> 769\u001b[0m     tag, fields \u001b[38;5;241m=\u001b[39m \u001b[38;5;28;43mself\u001b[39;49m\u001b[38;5;241;43m.\u001b[39;49m\u001b[43mread_message\u001b[49m\u001b[43m(\u001b[49m\u001b[43m)\u001b[49m\n\u001b[0;32m    770\u001b[0m     \u001b[38;5;28;01mif\u001b[39;00m tag \u001b[38;5;241m==\u001b[39m \u001b[38;5;241m0x70\u001b[39m:\n\u001b[0;32m    771\u001b[0m         \u001b[38;5;28mself\u001b[39m\u001b[38;5;241m.\u001b[39m_responses\u001b[38;5;241m.\u001b[39mpopleft()\u001b[38;5;241m.\u001b[39mset_success(\u001b[38;5;241m*\u001b[39m\u001b[38;5;241m*\u001b[39mfields[\u001b[38;5;241m0\u001b[39m])\n",
      "File \u001b[1;32m~\\AppData\\Local\\Packages\\PythonSoftwareFoundation.Python.3.12_qbz5n2kfra8p0\\LocalCache\\local-packages\\Python312\\site-packages\\py2neo\\client\\bolt.py:696\u001b[0m, in \u001b[0;36mBolt1.read_message\u001b[1;34m(self)\u001b[0m\n\u001b[0;32m    695\u001b[0m \u001b[38;5;28;01mdef\u001b[39;00m \u001b[38;5;21mread_message\u001b[39m(\u001b[38;5;28mself\u001b[39m):\n\u001b[1;32m--> 696\u001b[0m     tag, fields \u001b[38;5;241m=\u001b[39m \u001b[38;5;28;43mself\u001b[39;49m\u001b[38;5;241;43m.\u001b[39;49m\u001b[43m_reader\u001b[49m\u001b[38;5;241;43m.\u001b[39;49m\u001b[43mread_message\u001b[49m\u001b[43m(\u001b[49m\u001b[43m)\u001b[49m\n\u001b[0;32m    697\u001b[0m     \u001b[38;5;28;01mif\u001b[39;00m tag \u001b[38;5;241m==\u001b[39m \u001b[38;5;241m0x71\u001b[39m:\n\u001b[0;32m    698\u001b[0m         \u001b[38;5;66;03m# If a RECORD is received, check for more records\u001b[39;00m\n\u001b[0;32m    699\u001b[0m         \u001b[38;5;66;03m# in the buffer immediately following, and log and\u001b[39;00m\n\u001b[0;32m    700\u001b[0m         \u001b[38;5;66;03m# add them all at the same time\u001b[39;00m\n\u001b[0;32m    701\u001b[0m         \u001b[38;5;28;01mwhile\u001b[39;00m \u001b[38;5;28mself\u001b[39m\u001b[38;5;241m.\u001b[39m_reader\u001b[38;5;241m.\u001b[39mpeek_message() \u001b[38;5;241m==\u001b[39m \u001b[38;5;241m0x71\u001b[39m:\n",
      "File \u001b[1;32m~\\AppData\\Local\\Packages\\PythonSoftwareFoundation.Python.3.12_qbz5n2kfra8p0\\LocalCache\\local-packages\\Python312\\site-packages\\py2neo\\client\\bolt.py:156\u001b[0m, in \u001b[0;36mBoltMessageReader.read_message\u001b[1;34m(self)\u001b[0m\n\u001b[0;32m    154\u001b[0m \u001b[38;5;28;01mwhile\u001b[39;00m \u001b[38;5;28;01mTrue\u001b[39;00m:\n\u001b[0;32m    155\u001b[0m     \u001b[38;5;28;01mtry\u001b[39;00m:\n\u001b[1;32m--> 156\u001b[0m         hi, lo \u001b[38;5;241m=\u001b[39m \u001b[38;5;28;43mself\u001b[39;49m\u001b[38;5;241;43m.\u001b[39;49m\u001b[43mwire\u001b[49m\u001b[38;5;241;43m.\u001b[39;49m\u001b[43mread\u001b[49m\u001b[43m(\u001b[49m\u001b[38;5;241;43m2\u001b[39;49m\u001b[43m)\u001b[49m\n\u001b[0;32m    157\u001b[0m     \u001b[38;5;28;01mexcept\u001b[39;00m WireError \u001b[38;5;28;01mas\u001b[39;00m error:\n\u001b[0;32m    158\u001b[0m         raise_from(ConnectionBroken(\u001b[38;5;124m\"\u001b[39m\u001b[38;5;124mFailed to read message\u001b[39m\u001b[38;5;124m\"\u001b[39m), error)\n",
      "File \u001b[1;32m~\\AppData\\Local\\Packages\\PythonSoftwareFoundation.Python.3.12_qbz5n2kfra8p0\\LocalCache\\local-packages\\Python312\\site-packages\\py2neo\\wiring.py:117\u001b[0m, in \u001b[0;36mWire.read\u001b[1;34m(self, n)\u001b[0m\n\u001b[0;32m    115\u001b[0m requested \u001b[38;5;241m=\u001b[39m \u001b[38;5;28mmax\u001b[39m(required, \u001b[38;5;241m16384\u001b[39m)\n\u001b[0;32m    116\u001b[0m \u001b[38;5;28;01mtry\u001b[39;00m:\n\u001b[1;32m--> 117\u001b[0m     received \u001b[38;5;241m=\u001b[39m \u001b[38;5;28;43mself\u001b[39;49m\u001b[38;5;241;43m.\u001b[39;49m\u001b[43m__socket\u001b[49m\u001b[38;5;241;43m.\u001b[39;49m\u001b[43mrecv\u001b[49m\u001b[43m(\u001b[49m\u001b[43mrequested\u001b[49m\u001b[43m)\u001b[49m\n\u001b[0;32m    118\u001b[0m \u001b[38;5;28;01mexcept\u001b[39;00m (\u001b[38;5;167;01mIOError\u001b[39;00m, \u001b[38;5;167;01mOSError\u001b[39;00m):\n\u001b[0;32m    119\u001b[0m     \u001b[38;5;28mself\u001b[39m\u001b[38;5;241m.\u001b[39m__mark_broken(\u001b[38;5;124m\"\u001b[39m\u001b[38;5;124mWire broken\u001b[39m\u001b[38;5;124m\"\u001b[39m)\n",
      "\u001b[1;31mKeyboardInterrupt\u001b[0m: "
     ]
    }
   ],
   "source": [
    "json_fp = \"/Users/valen/Desktop/data/Chap3/pubmed_cleaned/pubmed_cleaned.json\"\n",
    "\n",
    "with open(json_fp, \"r\") as file:\n",
    "    data = json.load(file)\n",
    "\n",
    "def clean_author(author):\n",
    "    return author.strip().lower()\n",
    "\n",
    "graph = py2neo.Graph(\"bolt://localhost:7687\", auth=(\"neo4j\", \"password_tuts\"))\n",
    "graph.delete_all()\n",
    "\n",
    "authors_dict = {}\n",
    "\n",
    "for paper in data:\n",
    "    author_names = paper.get('authors', '').split(',')\n",
    "    authors = set(clean_author(name) for name in author_names)\n",
    "    \n",
    "    for author in authors:\n",
    "        if author not in authors_dict:\n",
    "            authors_dict[author] = Node(\"Author\", name=author)\n",
    "            graph.create(authors_dict[author])\n",
    "\n",
    "    author_nodes = [authors_dict[author] for author in authors]\n",
    "    for i, author1 in enumerate(author_nodes):\n",
    "        for author2 in author_nodes[i + 1:]:\n",
    "            relationship = Relationship(author1, \"COLLABORATED_WITH\", author2)\n",
    "            graph.create(relationship)"
   ]
  },
  {
   "cell_type": "markdown",
   "metadata": {},
   "source": [
    "        -> Après près de 30min de chargement j'ai cut, nous exécuterons les questions suivantes avec le peu de données que nous possédons, risquant de ne pas avoir les bons output"
   ]
  },
  {
   "cell_type": "markdown",
   "metadata": {},
   "source": [
    "2) How many authors have more than 2 affiliations ?"
   ]
  },
  {
   "cell_type": "code",
   "execution_count": 14,
   "metadata": {},
   "outputs": [
    {
     "data": {
      "text/plain": [
       "0"
      ]
     },
     "execution_count": 14,
     "metadata": {},
     "output_type": "execute_result"
    }
   ],
   "source": [
    "query = \"\"\"\n",
    "MATCH (a:Author)\n",
    "WHERE size(a.affiliations) > 2\n",
    "RETURN count(a) AS authors_with_more_than_two_affiliations\n",
    "\"\"\"\n",
    "graph.run(query).evaluate()"
   ]
  },
  {
   "cell_type": "markdown",
   "metadata": {},
   "source": [
    "3) Create a density of node degrees. Do you observe a power scale law ? What does it mean ?\n"
   ]
  },
  {
   "cell_type": "code",
   "execution_count": 26,
   "metadata": {},
   "outputs": [],
   "source": [
    "import matplotlib.pyplot as plt\n",
    "from collections import Counter"
   ]
  },
  {
   "cell_type": "code",
   "execution_count": 34,
   "metadata": {},
   "outputs": [
    {
     "data": {
      "image/png": "[encoded data removed]",
      "text/plain": [
       "<Figure size 1000x600 with 1 Axes>"
      ]
     },
     "metadata": {},
     "output_type": "display_data"
    }
   ],
   "source": [
    "query = \"\"\"\n",
    "MATCH (n:Author)-[r]-()\n",
    "RETURN n.name AS author, count(r) AS degree\n",
    "\"\"\"\n",
    "degrees = [record['degree'] for record in graph.run(query)]\n",
    "\n",
    "degree_counts = Counter(degrees)\n",
    "\n",
    "x, y = zip(*sorted(degree_counts.items()))\n",
    "\n",
    "plt.figure(figsize=(10, 6))\n",
    "plt.plot(x, y, marker='o')\n",
    "plt.xlabel(\"Degree\")\n",
    "plt.ylabel(\"Frequency\")\n",
    "plt.title(\"Degree Distribution\")\n",
    "plt.grid(True)\n",
    "plt.show()"
   ]
  },
  {
   "cell_type": "markdown",
   "metadata": {},
   "source": [
    "4) Which country has seen the most international collaboration ?"
   ]
  },
  {
   "cell_type": "code",
   "execution_count": 30,
   "metadata": {},
   "outputs": [
    {
     "data": {
      "text/plain": [
       "[]"
      ]
     },
     "execution_count": 30,
     "metadata": {},
     "output_type": "execute_result"
    }
   ],
   "source": [
    "query = \"\"\"\n",
    "MATCH (a1:Author)-[:COLLABORATED_WITH]-(a2:Author)\n",
    "WHERE a1.country IS NOT NULL AND a2.country IS NOT NULL AND a1.country <> a2.country\n",
    "WITH a1.country AS country1, a2.country AS country2\n",
    "UNWIND [country1, country2] AS country\n",
    "RETURN country, count(DISTINCT country1 + country2) AS collaboration_count\n",
    "ORDER BY collaboration_count DESC\n",
    "LIMIT 1\n",
    "\"\"\"\n",
    "\n",
    "graph.run(query).data()"
   ]
  },
  {
   "cell_type": "markdown",
   "metadata": {},
   "source": [
    "5) Who are the top 10 collaborators and what is their affiliation ?"
   ]
  },
  {
   "cell_type": "code",
   "execution_count": 19,
   "metadata": {},
   "outputs": [
    {
     "data": {
      "text/html": [
       "<div>\n",
       "<style scoped>\n",
       "    .dataframe tbody tr th:only-of-type {\n",
       "        vertical-align: middle;\n",
       "    }\n",
       "\n",
       "    .dataframe tbody tr th {\n",
       "        vertical-align: top;\n",
       "    }\n",
       "\n",
       "    .dataframe thead th {\n",
       "        text-align: right;\n",
       "    }\n",
       "</style>\n",
       "<table border=\"1\" class=\"dataframe\">\n",
       "  <thead>\n",
       "    <tr style=\"text-align: right;\">\n",
       "      <th></th>\n",
       "      <th>name</th>\n",
       "      <th>affiliations</th>\n",
       "      <th>collaborations</th>\n",
       "    </tr>\n",
       "  </thead>\n",
       "  <tbody>\n",
       "    <tr>\n",
       "      <th>0</th>\n",
       "      <td>usa.</td>\n",
       "      <td>None</td>\n",
       "      <td>1106</td>\n",
       "    </tr>\n",
       "    <tr>\n",
       "      <th>1</th>\n",
       "      <td>affil str department of chemistry</td>\n",
       "      <td>None</td>\n",
       "      <td>762</td>\n",
       "    </tr>\n",
       "    <tr>\n",
       "      <th>2</th>\n",
       "      <td>london</td>\n",
       "      <td>None</td>\n",
       "      <td>719</td>\n",
       "    </tr>\n",
       "    <tr>\n",
       "      <th>3</th>\n",
       "      <td>china.</td>\n",
       "      <td>None</td>\n",
       "      <td>711</td>\n",
       "    </tr>\n",
       "    <tr>\n",
       "      <th>4</th>\n",
       "      <td>boston</td>\n",
       "      <td>None</td>\n",
       "      <td>708</td>\n",
       "    </tr>\n",
       "    <tr>\n",
       "      <th>5</th>\n",
       "      <td>japan.</td>\n",
       "      <td>None</td>\n",
       "      <td>680</td>\n",
       "    </tr>\n",
       "    <tr>\n",
       "      <th>6</th>\n",
       "      <td>school of medicine</td>\n",
       "      <td>None</td>\n",
       "      <td>620</td>\n",
       "    </tr>\n",
       "    <tr>\n",
       "      <th>7</th>\n",
       "      <td>uk.</td>\n",
       "      <td>None</td>\n",
       "      <td>595</td>\n",
       "    </tr>\n",
       "    <tr>\n",
       "      <th>8</th>\n",
       "      <td>new york</td>\n",
       "      <td>None</td>\n",
       "      <td>571</td>\n",
       "    </tr>\n",
       "    <tr>\n",
       "      <th>9</th>\n",
       "      <td>germany.</td>\n",
       "      <td>None</td>\n",
       "      <td>568</td>\n",
       "    </tr>\n",
       "  </tbody>\n",
       "</table>\n",
       "</div>"
      ],
      "text/plain": [
       "                                name affiliations  collaborations\n",
       "0                               usa.         None            1106\n",
       "1  affil str department of chemistry         None             762\n",
       "2                             london         None             719\n",
       "3                             china.         None             711\n",
       "4                             boston         None             708\n",
       "5                             japan.         None             680\n",
       "6                 school of medicine         None             620\n",
       "7                                uk.         None             595\n",
       "8                           new york         None             571\n",
       "9                           germany.         None             568"
      ]
     },
     "execution_count": 19,
     "metadata": {},
     "output_type": "execute_result"
    }
   ],
   "source": [
    "query = \"\"\"\n",
    "MATCH (a:Author)-[:COLLABORATED_WITH]-()\n",
    "WITH a, count(*) AS collaborations\n",
    "ORDER BY collaborations DESC\n",
    "LIMIT 10\n",
    "RETURN a.name AS name, a.affiliations AS affiliations, collaborations\n",
    "\"\"\"\n",
    "\n",
    "graph.run(query).to_data_frame()"
   ]
  },
  {
   "cell_type": "markdown",
   "metadata": {},
   "source": [
    "\n",
    "6) Sandbox exercise: think of a problematic and try to answer it."
   ]
  },
  {
   "cell_type": "markdown",
   "metadata": {},
   "source": [
    "        ->Déterminer les sujets de recherche les plus courants dans les documents de collaboration."
   ]
  },
  {
   "cell_type": "code",
   "execution_count": 33,
   "metadata": {},
   "outputs": [
    {
     "data": {
      "text/html": [
       "<div>\n",
       "<style scoped>\n",
       "    .dataframe tbody tr th:only-of-type {\n",
       "        vertical-align: middle;\n",
       "    }\n",
       "\n",
       "    .dataframe tbody tr th {\n",
       "        vertical-align: top;\n",
       "    }\n",
       "\n",
       "    .dataframe thead th {\n",
       "        text-align: right;\n",
       "    }\n",
       "</style>\n",
       "<table border=\"1\" class=\"dataframe\">\n",
       "  <thead>\n",
       "    <tr style=\"text-align: right;\">\n",
       "      <th></th>\n",
       "    </tr>\n",
       "  </thead>\n",
       "  <tbody>\n",
       "  </tbody>\n",
       "</table>\n",
       "</div>"
      ],
      "text/plain": [
       "Empty DataFrame\n",
       "Columns: []\n",
       "Index: []"
      ]
     },
     "execution_count": 33,
     "metadata": {},
     "output_type": "execute_result"
    }
   ],
   "source": [
    "query = \"\"\"\n",
    "MATCH (p:Paper)\n",
    "UNWIND p.topics AS topic\n",
    "RETURN topic, count(*) AS frequency\n",
    "ORDER BY frequency DESC\n",
    "LIMIT 10\n",
    "\"\"\"\n",
    "\n",
    "graph.run(query).to_data_frame()"
   ]
  },
  {
   "cell_type": "markdown",
   "metadata": {},
   "source": [
    "### Homework 4\n",
    "\n",
    "change the database \"neo4j\" to the database \"movie\". Go to the browser and run on the browser console :play movie-graph then copy the queries on the console and run it. Congrats you just imported a brand new sample of data. Answer the following questions with cypher queries.\n"
   ]
  },
  {
   "cell_type": "markdown",
   "metadata": {},
   "source": [
    "1) How many actors played in more than 2 movie ? Get their names and year they were born.\n"
   ]
  },
  {
   "cell_type": "markdown",
   "metadata": {},
   "source": [
    "2) In how many movies did Tom hanks play ?\n"
   ]
  },
  {
   "cell_type": "markdown",
   "metadata": {},
   "source": [
    "3) In average in how many movies do actors play in ?"
   ]
  },
  {
   "cell_type": "markdown",
   "metadata": {},
   "source": [
    "4) In average how many actors are there in a movie ?\n"
   ]
  },
  {
   "cell_type": "markdown",
   "metadata": {},
   "source": [
    "5) In average how many writers is needed to write a movie ?"
   ]
  },
  {
   "cell_type": "markdown",
   "metadata": {},
   "source": [
    "\n",
    "6) What is the proportion of writers that also directed the movie ?"
   ]
  },
  {
   "cell_type": "markdown",
   "metadata": {},
   "source": [
    "\n",
    "7) Do an histogram of the year of release for the movies."
   ]
  },
  {
   "cell_type": "markdown",
   "metadata": {},
   "source": [
    "\n",
    "8) Who are the 10 actors with the most movie played in\n"
   ]
  },
  {
   "cell_type": "markdown",
   "metadata": {},
   "source": [
    "9) Delete every movie made by a director of your choosing\n"
   ]
  },
  {
   "cell_type": "markdown",
   "metadata": {},
   "source": [
    "10) Give some statistics that you find interesting."
   ]
  },
  {
   "cell_type": "markdown",
   "metadata": {},
   "source": [
    "\n",
    "11) Sandbox exercise: think of a problematic and try to answer it."
   ]
  },
  {
   "cell_type": "markdown",
   "metadata": {},
   "source": [
    "## Homework 5\n",
    "\n",
    "You will work on a Twitch dataset found [here](https://www.kaggle.com/andreagarritano/twitch-social-networks). The goal is to learn more about the feat&fun on Twitch. First thing to do is create the network on Neo4j. Insert the node\n",
    "from Twitch/FR_target and then the edges from Twitch/FR_edges.csv in neo4j. Answer the following using cypher queries\n"
   ]
  },
  {
   "cell_type": "code",
   "execution_count": 39,
   "metadata": {},
   "outputs": [],
   "source": [
    "import pandas as pd\n",
    "from py2neo import Graph, Node, Relationship\n",
    "\n",
    "targets_fp = \"/Users/valen/Desktop/data/Twitch/FR_target.csv\"\n",
    "edges_fp = \"/Users/valen/Desktop/data/Twitch/FR_edges.csv\"\n",
    "\n",
    "nodes = pd.read_csv(targets_fp)\n",
    "edges = pd.read_csv(edges_fp)"
   ]
  },
  {
   "cell_type": "code",
   "execution_count": 40,
   "metadata": {},
   "outputs": [
    {
     "data": {
      "text/html": [
       "<div>\n",
       "<style scoped>\n",
       "    .dataframe tbody tr th:only-of-type {\n",
       "        vertical-align: middle;\n",
       "    }\n",
       "\n",
       "    .dataframe tbody tr th {\n",
       "        vertical-align: top;\n",
       "    }\n",
       "\n",
       "    .dataframe thead th {\n",
       "        text-align: right;\n",
       "    }\n",
       "</style>\n",
       "<table border=\"1\" class=\"dataframe\">\n",
       "  <thead>\n",
       "    <tr style=\"text-align: right;\">\n",
       "      <th></th>\n",
       "      <th>id</th>\n",
       "      <th>days</th>\n",
       "      <th>mature</th>\n",
       "      <th>views</th>\n",
       "      <th>partner</th>\n",
       "      <th>new_id</th>\n",
       "    </tr>\n",
       "  </thead>\n",
       "  <tbody>\n",
       "    <tr>\n",
       "      <th>0</th>\n",
       "      <td>150417538</td>\n",
       "      <td>577</td>\n",
       "      <td>True</td>\n",
       "      <td>775</td>\n",
       "      <td>False</td>\n",
       "      <td>4867</td>\n",
       "    </tr>\n",
       "    <tr>\n",
       "      <th>1</th>\n",
       "      <td>125723704</td>\n",
       "      <td>861</td>\n",
       "      <td>True</td>\n",
       "      <td>2585</td>\n",
       "      <td>False</td>\n",
       "      <td>3692</td>\n",
       "    </tr>\n",
       "    <tr>\n",
       "      <th>2</th>\n",
       "      <td>155971814</td>\n",
       "      <td>523</td>\n",
       "      <td>False</td>\n",
       "      <td>1566</td>\n",
       "      <td>False</td>\n",
       "      <td>3816</td>\n",
       "    </tr>\n",
       "    <tr>\n",
       "      <th>3</th>\n",
       "      <td>35832890</td>\n",
       "      <td>2234</td>\n",
       "      <td>False</td>\n",
       "      <td>9713</td>\n",
       "      <td>False</td>\n",
       "      <td>416</td>\n",
       "    </tr>\n",
       "    <tr>\n",
       "      <th>4</th>\n",
       "      <td>46787750</td>\n",
       "      <td>1896</td>\n",
       "      <td>True</td>\n",
       "      <td>44529</td>\n",
       "      <td>False</td>\n",
       "      <td>4502</td>\n",
       "    </tr>\n",
       "    <tr>\n",
       "      <th>...</th>\n",
       "      <td>...</td>\n",
       "      <td>...</td>\n",
       "      <td>...</td>\n",
       "      <td>...</td>\n",
       "      <td>...</td>\n",
       "      <td>...</td>\n",
       "    </tr>\n",
       "    <tr>\n",
       "      <th>6546</th>\n",
       "      <td>29196284</td>\n",
       "      <td>2061</td>\n",
       "      <td>False</td>\n",
       "      <td>3822</td>\n",
       "      <td>False</td>\n",
       "      <td>6546</td>\n",
       "    </tr>\n",
       "    <tr>\n",
       "      <th>6547</th>\n",
       "      <td>124327806</td>\n",
       "      <td>880</td>\n",
       "      <td>True</td>\n",
       "      <td>30313</td>\n",
       "      <td>False</td>\n",
       "      <td>2392</td>\n",
       "    </tr>\n",
       "    <tr>\n",
       "      <th>6548</th>\n",
       "      <td>144229380</td>\n",
       "      <td>640</td>\n",
       "      <td>True</td>\n",
       "      <td>5022</td>\n",
       "      <td>False</td>\n",
       "      <td>391</td>\n",
       "    </tr>\n",
       "    <tr>\n",
       "      <th>6549</th>\n",
       "      <td>131423064</td>\n",
       "      <td>736</td>\n",
       "      <td>False</td>\n",
       "      <td>2658</td>\n",
       "      <td>False</td>\n",
       "      <td>2793</td>\n",
       "    </tr>\n",
       "    <tr>\n",
       "      <th>6550</th>\n",
       "      <td>45419243</td>\n",
       "      <td>1929</td>\n",
       "      <td>True</td>\n",
       "      <td>3743</td>\n",
       "      <td>False</td>\n",
       "      <td>1092</td>\n",
       "    </tr>\n",
       "  </tbody>\n",
       "</table>\n",
       "<p>6551 rows × 6 columns</p>\n",
       "</div>"
      ],
      "text/plain": [
       "             id  days  mature  views  partner  new_id\n",
       "0     150417538   577    True    775    False    4867\n",
       "1     125723704   861    True   2585    False    3692\n",
       "2     155971814   523   False   1566    False    3816\n",
       "3      35832890  2234   False   9713    False     416\n",
       "4      46787750  1896    True  44529    False    4502\n",
       "...         ...   ...     ...    ...      ...     ...\n",
       "6546   29196284  2061   False   3822    False    6546\n",
       "6547  124327806   880    True  30313    False    2392\n",
       "6548  144229380   640    True   5022    False     391\n",
       "6549  131423064   736   False   2658    False    2793\n",
       "6550   45419243  1929    True   3743    False    1092\n",
       "\n",
       "[6551 rows x 6 columns]"
      ]
     },
     "execution_count": 40,
     "metadata": {},
     "output_type": "execute_result"
    }
   ],
   "source": [
    "nodes"
   ]
  },
  {
   "cell_type": "code",
   "execution_count": 41,
   "metadata": {},
   "outputs": [
    {
     "data": {
      "text/html": [
       "<div>\n",
       "<style scoped>\n",
       "    .dataframe tbody tr th:only-of-type {\n",
       "        vertical-align: middle;\n",
       "    }\n",
       "\n",
       "    .dataframe tbody tr th {\n",
       "        vertical-align: top;\n",
       "    }\n",
       "\n",
       "    .dataframe thead th {\n",
       "        text-align: right;\n",
       "    }\n",
       "</style>\n",
       "<table border=\"1\" class=\"dataframe\">\n",
       "  <thead>\n",
       "    <tr style=\"text-align: right;\">\n",
       "      <th></th>\n",
       "      <th>from</th>\n",
       "      <th>to</th>\n",
       "    </tr>\n",
       "  </thead>\n",
       "  <tbody>\n",
       "    <tr>\n",
       "      <th>0</th>\n",
       "      <td>0</td>\n",
       "      <td>6420</td>\n",
       "    </tr>\n",
       "    <tr>\n",
       "      <th>1</th>\n",
       "      <td>0</td>\n",
       "      <td>2941</td>\n",
       "    </tr>\n",
       "    <tr>\n",
       "      <th>2</th>\n",
       "      <td>0</td>\n",
       "      <td>3051</td>\n",
       "    </tr>\n",
       "    <tr>\n",
       "      <th>3</th>\n",
       "      <td>0</td>\n",
       "      <td>5511</td>\n",
       "    </tr>\n",
       "    <tr>\n",
       "      <th>4</th>\n",
       "      <td>0</td>\n",
       "      <td>1020</td>\n",
       "    </tr>\n",
       "    <tr>\n",
       "      <th>...</th>\n",
       "      <td>...</td>\n",
       "      <td>...</td>\n",
       "    </tr>\n",
       "    <tr>\n",
       "      <th>112661</th>\n",
       "      <td>77</td>\n",
       "      <td>6542</td>\n",
       "    </tr>\n",
       "    <tr>\n",
       "      <th>112662</th>\n",
       "      <td>6516</td>\n",
       "      <td>6527</td>\n",
       "    </tr>\n",
       "    <tr>\n",
       "      <th>112663</th>\n",
       "      <td>6520</td>\n",
       "      <td>6527</td>\n",
       "    </tr>\n",
       "    <tr>\n",
       "      <th>112664</th>\n",
       "      <td>6527</td>\n",
       "      <td>6542</td>\n",
       "    </tr>\n",
       "    <tr>\n",
       "      <th>112665</th>\n",
       "      <td>6527</td>\n",
       "      <td>6541</td>\n",
       "    </tr>\n",
       "  </tbody>\n",
       "</table>\n",
       "<p>112666 rows × 2 columns</p>\n",
       "</div>"
      ],
      "text/plain": [
       "        from    to\n",
       "0          0  6420\n",
       "1          0  2941\n",
       "2          0  3051\n",
       "3          0  5511\n",
       "4          0  1020\n",
       "...      ...   ...\n",
       "112661    77  6542\n",
       "112662  6516  6527\n",
       "112663  6520  6527\n",
       "112664  6527  6542\n",
       "112665  6527  6541\n",
       "\n",
       "[112666 rows x 2 columns]"
      ]
     },
     "execution_count": 41,
     "metadata": {},
     "output_type": "execute_result"
    }
   ],
   "source": [
    "edges"
   ]
  },
  {
   "cell_type": "code",
   "execution_count": 44,
   "metadata": {},
   "outputs": [
    {
     "ename": "KeyboardInterrupt",
     "evalue": "",
     "output_type": "error",
     "traceback": [
      "\u001b[1;31m---------------------------------------------------------------------------\u001b[0m",
      "\u001b[1;31mKeyboardInterrupt\u001b[0m                         Traceback (most recent call last)",
      "Cell \u001b[1;32mIn[44], line 18\u001b[0m\n\u001b[0;32m     16\u001b[0m user1_id \u001b[38;5;241m=\u001b[39m \u001b[38;5;28mint\u001b[39m(row[\u001b[38;5;124m'\u001b[39m\u001b[38;5;124mfrom\u001b[39m\u001b[38;5;124m'\u001b[39m])\n\u001b[0;32m     17\u001b[0m user2_id \u001b[38;5;241m=\u001b[39m \u001b[38;5;28mint\u001b[39m(row[\u001b[38;5;124m'\u001b[39m\u001b[38;5;124mto\u001b[39m\u001b[38;5;124m'\u001b[39m])\n\u001b[1;32m---> 18\u001b[0m user1 \u001b[38;5;241m=\u001b[39m \u001b[43mgraph\u001b[49m\u001b[38;5;241;43m.\u001b[39;49m\u001b[43mnodes\u001b[49m\u001b[38;5;241;43m.\u001b[39;49m\u001b[43mmatch\u001b[49m\u001b[43m(\u001b[49m\u001b[38;5;124;43m\"\u001b[39;49m\u001b[38;5;124;43mUser\u001b[39;49m\u001b[38;5;124;43m\"\u001b[39;49m\u001b[43m,\u001b[49m\u001b[43m \u001b[49m\u001b[38;5;28;43mid\u001b[39;49m\u001b[38;5;241;43m=\u001b[39;49m\u001b[43muser1_id\u001b[49m\u001b[43m)\u001b[49m\u001b[38;5;241;43m.\u001b[39;49m\u001b[43mfirst\u001b[49m\u001b[43m(\u001b[49m\u001b[43m)\u001b[49m\n\u001b[0;32m     19\u001b[0m user2 \u001b[38;5;241m=\u001b[39m graph\u001b[38;5;241m.\u001b[39mnodes\u001b[38;5;241m.\u001b[39mmatch(\u001b[38;5;124m\"\u001b[39m\u001b[38;5;124mUser\u001b[39m\u001b[38;5;124m\"\u001b[39m, \u001b[38;5;28mid\u001b[39m\u001b[38;5;241m=\u001b[39muser2_id)\u001b[38;5;241m.\u001b[39mfirst()\n\u001b[0;32m     20\u001b[0m \u001b[38;5;28;01mif\u001b[39;00m user1 \u001b[38;5;129;01mand\u001b[39;00m user2:\n",
      "File \u001b[1;32m~\\AppData\\Local\\Packages\\PythonSoftwareFoundation.Python.3.12_qbz5n2kfra8p0\\LocalCache\\local-packages\\Python312\\site-packages\\py2neo\\matching.py:452\u001b[0m, in \u001b[0;36mNodeMatch.first\u001b[1;34m(self)\u001b[0m\n\u001b[0;32m    446\u001b[0m \u001b[38;5;28;01mdef\u001b[39;00m \u001b[38;5;21mfirst\u001b[39m(\u001b[38;5;28mself\u001b[39m):\n\u001b[0;32m    447\u001b[0m \u001b[38;5;250m    \u001b[39m\u001b[38;5;124;03m\"\"\" Evaluate the match and return the first :class:`.Node`\u001b[39;00m\n\u001b[0;32m    448\u001b[0m \u001b[38;5;124;03m    matched or :const:`None` if no matching nodes are found.\u001b[39;00m\n\u001b[0;32m    449\u001b[0m \n\u001b[0;32m    450\u001b[0m \u001b[38;5;124;03m    :return: a single matching :class:`.Node` or :const:`None`\u001b[39;00m\n\u001b[0;32m    451\u001b[0m \u001b[38;5;124;03m    \"\"\"\u001b[39;00m\n\u001b[1;32m--> 452\u001b[0m     \u001b[38;5;28;01mreturn\u001b[39;00m \u001b[38;5;28;43mself\u001b[39;49m\u001b[38;5;241;43m.\u001b[39;49m\u001b[43mgraph\u001b[49m\u001b[38;5;241;43m.\u001b[39;49m\u001b[43mevaluate\u001b[49m\u001b[43m(\u001b[49m\u001b[38;5;241;43m*\u001b[39;49m\u001b[38;5;28;43mself\u001b[39;49m\u001b[38;5;241;43m.\u001b[39;49m\u001b[43m_query_and_parameters\u001b[49m\u001b[43m(\u001b[49m\u001b[43m)\u001b[49m\u001b[43m)\u001b[49m\n",
      "File \u001b[1;32m~\\AppData\\Local\\Packages\\PythonSoftwareFoundation.Python.3.12_qbz5n2kfra8p0\\LocalCache\\local-packages\\Python312\\site-packages\\py2neo\\database.py:416\u001b[0m, in \u001b[0;36mGraph.evaluate\u001b[1;34m(self, cypher, parameters, **kwparameters)\u001b[0m\n\u001b[0;32m    407\u001b[0m \u001b[38;5;28;01mdef\u001b[39;00m \u001b[38;5;21mevaluate\u001b[39m(\u001b[38;5;28mself\u001b[39m, cypher, parameters\u001b[38;5;241m=\u001b[39m\u001b[38;5;28;01mNone\u001b[39;00m, \u001b[38;5;241m*\u001b[39m\u001b[38;5;241m*\u001b[39mkwparameters):\n\u001b[0;32m    408\u001b[0m \u001b[38;5;250m    \u001b[39m\u001b[38;5;124;03m\"\"\" Run a :meth:`~py2neo.Transaction.evaluate` operation within an\u001b[39;00m\n\u001b[0;32m    409\u001b[0m \u001b[38;5;124;03m    auto-commit :class:`~py2neo.Transaction`.\u001b[39;00m\n\u001b[0;32m    410\u001b[0m \n\u001b[1;32m   (...)\u001b[0m\n\u001b[0;32m    414\u001b[0m \u001b[38;5;124;03m             :py:const:`None`.\u001b[39;00m\n\u001b[0;32m    415\u001b[0m \u001b[38;5;124;03m    \"\"\"\u001b[39;00m\n\u001b[1;32m--> 416\u001b[0m     \u001b[38;5;28;01mreturn\u001b[39;00m \u001b[38;5;28;43mself\u001b[39;49m\u001b[38;5;241;43m.\u001b[39;49m\u001b[43mrun\u001b[49m\u001b[43m(\u001b[49m\u001b[43mcypher\u001b[49m\u001b[43m,\u001b[49m\u001b[43m \u001b[49m\u001b[43mparameters\u001b[49m\u001b[43m,\u001b[49m\u001b[43m \u001b[49m\u001b[38;5;241;43m*\u001b[39;49m\u001b[38;5;241;43m*\u001b[39;49m\u001b[43mkwparameters\u001b[49m\u001b[43m)\u001b[49m\u001b[38;5;241m.\u001b[39mevaluate()\n",
      "File \u001b[1;32m~\\AppData\\Local\\Packages\\PythonSoftwareFoundation.Python.3.12_qbz5n2kfra8p0\\LocalCache\\local-packages\\Python312\\site-packages\\py2neo\\database.py:405\u001b[0m, in \u001b[0;36mGraph.run\u001b[1;34m(self, cypher, parameters, **kwparameters)\u001b[0m\n\u001b[0;32m    395\u001b[0m \u001b[38;5;28;01mdef\u001b[39;00m \u001b[38;5;21mrun\u001b[39m(\u001b[38;5;28mself\u001b[39m, cypher, parameters\u001b[38;5;241m=\u001b[39m\u001b[38;5;28;01mNone\u001b[39;00m, \u001b[38;5;241m*\u001b[39m\u001b[38;5;241m*\u001b[39mkwparameters):\n\u001b[0;32m    396\u001b[0m \u001b[38;5;250m    \u001b[39m\u001b[38;5;124;03m\"\"\" Run a single read/write query within an auto-commit\u001b[39;00m\n\u001b[0;32m    397\u001b[0m \u001b[38;5;124;03m    :class:`~py2neo.Transaction`.\u001b[39;00m\n\u001b[0;32m    398\u001b[0m \n\u001b[1;32m   (...)\u001b[0m\n\u001b[0;32m    403\u001b[0m \u001b[38;5;124;03m    :return:\u001b[39;00m\n\u001b[0;32m    404\u001b[0m \u001b[38;5;124;03m    \"\"\"\u001b[39;00m\n\u001b[1;32m--> 405\u001b[0m     \u001b[38;5;28;01mreturn\u001b[39;00m \u001b[38;5;28;43mself\u001b[39;49m\u001b[38;5;241;43m.\u001b[39;49m\u001b[43mauto\u001b[49m\u001b[43m(\u001b[49m\u001b[43m)\u001b[49m\u001b[38;5;241;43m.\u001b[39;49m\u001b[43mrun\u001b[49m\u001b[43m(\u001b[49m\u001b[43mcypher\u001b[49m\u001b[43m,\u001b[49m\u001b[43m \u001b[49m\u001b[43mparameters\u001b[49m\u001b[43m,\u001b[49m\u001b[43m \u001b[49m\u001b[38;5;241;43m*\u001b[39;49m\u001b[38;5;241;43m*\u001b[39;49m\u001b[43mkwparameters\u001b[49m\u001b[43m)\u001b[49m\n",
      "File \u001b[1;32m~\\AppData\\Local\\Packages\\PythonSoftwareFoundation.Python.3.12_qbz5n2kfra8p0\\LocalCache\\local-packages\\Python312\\site-packages\\py2neo\\database.py:992\u001b[0m, in \u001b[0;36mTransaction.run\u001b[1;34m(self, cypher, parameters, **kwparameters)\u001b[0m\n\u001b[0;32m    988\u001b[0m     \u001b[38;5;28;01melse\u001b[39;00m:\n\u001b[0;32m    989\u001b[0m         result \u001b[38;5;241m=\u001b[39m \u001b[38;5;28mself\u001b[39m\u001b[38;5;241m.\u001b[39m_connector\u001b[38;5;241m.\u001b[39mauto_run(cypher, parameters,\n\u001b[0;32m    990\u001b[0m                                           graph_name\u001b[38;5;241m=\u001b[39m\u001b[38;5;28mself\u001b[39m\u001b[38;5;241m.\u001b[39mgraph\u001b[38;5;241m.\u001b[39mname,\n\u001b[0;32m    991\u001b[0m                                           readonly\u001b[38;5;241m=\u001b[39m\u001b[38;5;28mself\u001b[39m\u001b[38;5;241m.\u001b[39mreadonly)\n\u001b[1;32m--> 992\u001b[0m     \u001b[38;5;28;43mself\u001b[39;49m\u001b[38;5;241;43m.\u001b[39;49m\u001b[43m_connector\u001b[49m\u001b[38;5;241;43m.\u001b[39;49m\u001b[43mpull\u001b[49m\u001b[43m(\u001b[49m\u001b[43mresult\u001b[49m\u001b[43m,\u001b[49m\u001b[43m \u001b[49m\u001b[38;5;241;43m-\u001b[39;49m\u001b[38;5;241;43m1\u001b[39;49m\u001b[43m)\u001b[49m\n\u001b[0;32m    993\u001b[0m     \u001b[38;5;28;01mreturn\u001b[39;00m Cursor(result, hydrant)\n\u001b[0;32m    994\u001b[0m \u001b[38;5;28;01mfinally\u001b[39;00m:\n",
      "File \u001b[1;32m~\\AppData\\Local\\Packages\\PythonSoftwareFoundation.Python.3.12_qbz5n2kfra8p0\\LocalCache\\local-packages\\Python312\\site-packages\\py2neo\\client\\__init__.py:1434\u001b[0m, in \u001b[0;36mConnector.pull\u001b[1;34m(self, result, n)\u001b[0m\n\u001b[0;32m   1432\u001b[0m cx \u001b[38;5;241m=\u001b[39m \u001b[38;5;28mself\u001b[39m\u001b[38;5;241m.\u001b[39m_reacquire(result\u001b[38;5;241m.\u001b[39mtransaction)\n\u001b[0;32m   1433\u001b[0m \u001b[38;5;28;01mtry\u001b[39;00m:\n\u001b[1;32m-> 1434\u001b[0m     \u001b[43mcx\u001b[49m\u001b[38;5;241;43m.\u001b[39;49m\u001b[43mpull\u001b[49m\u001b[43m(\u001b[49m\u001b[43mresult\u001b[49m\u001b[43m,\u001b[49m\u001b[43m \u001b[49m\u001b[43mn\u001b[49m\u001b[38;5;241;43m=\u001b[39;49m\u001b[43mn\u001b[49m\u001b[43m)\u001b[49m\n\u001b[0;32m   1435\u001b[0m \u001b[38;5;28;01mexcept\u001b[39;00m (ConnectionUnavailable, ConnectionBroken):\n\u001b[0;32m   1436\u001b[0m     \u001b[38;5;28mself\u001b[39m\u001b[38;5;241m.\u001b[39mprune(cx\u001b[38;5;241m.\u001b[39mprofile)\n",
      "File \u001b[1;32m~\\AppData\\Local\\Packages\\PythonSoftwareFoundation.Python.3.12_qbz5n2kfra8p0\\LocalCache\\local-packages\\Python312\\site-packages\\py2neo\\client\\bolt.py:995\u001b[0m, in \u001b[0;36mBolt4x0.pull\u001b[1;34m(self, result, n, capacity)\u001b[0m\n\u001b[0;32m    993\u001b[0m result\u001b[38;5;241m.\u001b[39mappend(response, final\u001b[38;5;241m=\u001b[39m(n \u001b[38;5;241m==\u001b[39m \u001b[38;5;241m-\u001b[39m\u001b[38;5;241m1\u001b[39m))\n\u001b[0;32m    994\u001b[0m \u001b[38;5;28;01mtry\u001b[39;00m:\n\u001b[1;32m--> 995\u001b[0m     \u001b[38;5;28;43mself\u001b[39;49m\u001b[38;5;241;43m.\u001b[39;49m\u001b[43m_sync\u001b[49m\u001b[43m(\u001b[49m\u001b[43mresponse\u001b[49m\u001b[43m)\u001b[49m\n\u001b[0;32m    996\u001b[0m \u001b[38;5;28;01mexcept\u001b[39;00m BrokenWireError \u001b[38;5;28;01mas\u001b[39;00m error:\n\u001b[0;32m    997\u001b[0m     result\u001b[38;5;241m.\u001b[39mtransaction\u001b[38;5;241m.\u001b[39mmark_broken()\n",
      "File \u001b[1;32m~\\AppData\\Local\\Packages\\PythonSoftwareFoundation.Python.3.12_qbz5n2kfra8p0\\LocalCache\\local-packages\\Python312\\site-packages\\py2neo\\client\\bolt.py:799\u001b[0m, in \u001b[0;36mBolt1._sync\u001b[1;34m(self, *responses)\u001b[0m\n\u001b[0;32m    797\u001b[0m \u001b[38;5;28mself\u001b[39m\u001b[38;5;241m.\u001b[39msend()\n\u001b[0;32m    798\u001b[0m \u001b[38;5;28;01mfor\u001b[39;00m response \u001b[38;5;129;01min\u001b[39;00m responses:\n\u001b[1;32m--> 799\u001b[0m     \u001b[38;5;28;43mself\u001b[39;49m\u001b[38;5;241;43m.\u001b[39;49m\u001b[43m_wait\u001b[49m\u001b[43m(\u001b[49m\u001b[43mresponse\u001b[49m\u001b[43m)\u001b[49m\n",
      "File \u001b[1;32m~\\AppData\\Local\\Packages\\PythonSoftwareFoundation.Python.3.12_qbz5n2kfra8p0\\LocalCache\\local-packages\\Python312\\site-packages\\py2neo\\client\\bolt.py:794\u001b[0m, in \u001b[0;36mBolt1._wait\u001b[1;34m(self, response)\u001b[0m\n\u001b[0;32m    787\u001b[0m \u001b[38;5;250m\u001b[39m\u001b[38;5;124;03m\"\"\" Read all incoming responses up to and including a\u001b[39;00m\n\u001b[0;32m    788\u001b[0m \u001b[38;5;124;03mparticular response.\u001b[39;00m\n\u001b[0;32m    789\u001b[0m \n\u001b[0;32m    790\u001b[0m \u001b[38;5;124;03mThis method calls fetch, but does not raise an exception on\u001b[39;00m\n\u001b[0;32m    791\u001b[0m \u001b[38;5;124;03mFAILURE.\u001b[39;00m\n\u001b[0;32m    792\u001b[0m \u001b[38;5;124;03m\"\"\"\u001b[39;00m\n\u001b[0;32m    793\u001b[0m \u001b[38;5;28;01mwhile\u001b[39;00m \u001b[38;5;129;01mnot\u001b[39;00m response\u001b[38;5;241m.\u001b[39mfull() \u001b[38;5;129;01mand\u001b[39;00m \u001b[38;5;129;01mnot\u001b[39;00m response\u001b[38;5;241m.\u001b[39mdone():\n\u001b[1;32m--> 794\u001b[0m     \u001b[38;5;28;43mself\u001b[39;49m\u001b[38;5;241;43m.\u001b[39;49m\u001b[43m_fetch\u001b[49m\u001b[43m(\u001b[49m\u001b[43m)\u001b[49m\n",
      "File \u001b[1;32m~\\AppData\\Local\\Packages\\PythonSoftwareFoundation.Python.3.12_qbz5n2kfra8p0\\LocalCache\\local-packages\\Python312\\site-packages\\py2neo\\client\\bolt.py:769\u001b[0m, in \u001b[0;36mBolt1._fetch\u001b[1;34m(self)\u001b[0m\n\u001b[0;32m    760\u001b[0m \u001b[38;5;28;01mdef\u001b[39;00m \u001b[38;5;21m_fetch\u001b[39m(\u001b[38;5;28mself\u001b[39m):\n\u001b[0;32m    761\u001b[0m \u001b[38;5;250m    \u001b[39m\u001b[38;5;124;03m\"\"\" Fetch and process the next incoming message.\u001b[39;00m\n\u001b[0;32m    762\u001b[0m \n\u001b[0;32m    763\u001b[0m \u001b[38;5;124;03m    This method does not raise an exception on receipt of a\u001b[39;00m\n\u001b[1;32m   (...)\u001b[0m\n\u001b[0;32m    767\u001b[0m \u001b[38;5;124;03m    failed state into an exception.\u001b[39;00m\n\u001b[0;32m    768\u001b[0m \u001b[38;5;124;03m    \"\"\"\u001b[39;00m\n\u001b[1;32m--> 769\u001b[0m     tag, fields \u001b[38;5;241m=\u001b[39m \u001b[38;5;28;43mself\u001b[39;49m\u001b[38;5;241;43m.\u001b[39;49m\u001b[43mread_message\u001b[49m\u001b[43m(\u001b[49m\u001b[43m)\u001b[49m\n\u001b[0;32m    770\u001b[0m     \u001b[38;5;28;01mif\u001b[39;00m tag \u001b[38;5;241m==\u001b[39m \u001b[38;5;241m0x70\u001b[39m:\n\u001b[0;32m    771\u001b[0m         \u001b[38;5;28mself\u001b[39m\u001b[38;5;241m.\u001b[39m_responses\u001b[38;5;241m.\u001b[39mpopleft()\u001b[38;5;241m.\u001b[39mset_success(\u001b[38;5;241m*\u001b[39m\u001b[38;5;241m*\u001b[39mfields[\u001b[38;5;241m0\u001b[39m])\n",
      "File \u001b[1;32m~\\AppData\\Local\\Packages\\PythonSoftwareFoundation.Python.3.12_qbz5n2kfra8p0\\LocalCache\\local-packages\\Python312\\site-packages\\py2neo\\client\\bolt.py:696\u001b[0m, in \u001b[0;36mBolt1.read_message\u001b[1;34m(self)\u001b[0m\n\u001b[0;32m    695\u001b[0m \u001b[38;5;28;01mdef\u001b[39;00m \u001b[38;5;21mread_message\u001b[39m(\u001b[38;5;28mself\u001b[39m):\n\u001b[1;32m--> 696\u001b[0m     tag, fields \u001b[38;5;241m=\u001b[39m \u001b[38;5;28;43mself\u001b[39;49m\u001b[38;5;241;43m.\u001b[39;49m\u001b[43m_reader\u001b[49m\u001b[38;5;241;43m.\u001b[39;49m\u001b[43mread_message\u001b[49m\u001b[43m(\u001b[49m\u001b[43m)\u001b[49m\n\u001b[0;32m    697\u001b[0m     \u001b[38;5;28;01mif\u001b[39;00m tag \u001b[38;5;241m==\u001b[39m \u001b[38;5;241m0x71\u001b[39m:\n\u001b[0;32m    698\u001b[0m         \u001b[38;5;66;03m# If a RECORD is received, check for more records\u001b[39;00m\n\u001b[0;32m    699\u001b[0m         \u001b[38;5;66;03m# in the buffer immediately following, and log and\u001b[39;00m\n\u001b[0;32m    700\u001b[0m         \u001b[38;5;66;03m# add them all at the same time\u001b[39;00m\n\u001b[0;32m    701\u001b[0m         \u001b[38;5;28;01mwhile\u001b[39;00m \u001b[38;5;28mself\u001b[39m\u001b[38;5;241m.\u001b[39m_reader\u001b[38;5;241m.\u001b[39mpeek_message() \u001b[38;5;241m==\u001b[39m \u001b[38;5;241m0x71\u001b[39m:\n",
      "File \u001b[1;32m~\\AppData\\Local\\Packages\\PythonSoftwareFoundation.Python.3.12_qbz5n2kfra8p0\\LocalCache\\local-packages\\Python312\\site-packages\\py2neo\\client\\bolt.py:156\u001b[0m, in \u001b[0;36mBoltMessageReader.read_message\u001b[1;34m(self)\u001b[0m\n\u001b[0;32m    154\u001b[0m \u001b[38;5;28;01mwhile\u001b[39;00m \u001b[38;5;28;01mTrue\u001b[39;00m:\n\u001b[0;32m    155\u001b[0m     \u001b[38;5;28;01mtry\u001b[39;00m:\n\u001b[1;32m--> 156\u001b[0m         hi, lo \u001b[38;5;241m=\u001b[39m \u001b[38;5;28;43mself\u001b[39;49m\u001b[38;5;241;43m.\u001b[39;49m\u001b[43mwire\u001b[49m\u001b[38;5;241;43m.\u001b[39;49m\u001b[43mread\u001b[49m\u001b[43m(\u001b[49m\u001b[38;5;241;43m2\u001b[39;49m\u001b[43m)\u001b[49m\n\u001b[0;32m    157\u001b[0m     \u001b[38;5;28;01mexcept\u001b[39;00m WireError \u001b[38;5;28;01mas\u001b[39;00m error:\n\u001b[0;32m    158\u001b[0m         raise_from(ConnectionBroken(\u001b[38;5;124m\"\u001b[39m\u001b[38;5;124mFailed to read message\u001b[39m\u001b[38;5;124m\"\u001b[39m), error)\n",
      "File \u001b[1;32m~\\AppData\\Local\\Packages\\PythonSoftwareFoundation.Python.3.12_qbz5n2kfra8p0\\LocalCache\\local-packages\\Python312\\site-packages\\py2neo\\wiring.py:117\u001b[0m, in \u001b[0;36mWire.read\u001b[1;34m(self, n)\u001b[0m\n\u001b[0;32m    115\u001b[0m requested \u001b[38;5;241m=\u001b[39m \u001b[38;5;28mmax\u001b[39m(required, \u001b[38;5;241m16384\u001b[39m)\n\u001b[0;32m    116\u001b[0m \u001b[38;5;28;01mtry\u001b[39;00m:\n\u001b[1;32m--> 117\u001b[0m     received \u001b[38;5;241m=\u001b[39m \u001b[38;5;28;43mself\u001b[39;49m\u001b[38;5;241;43m.\u001b[39;49m\u001b[43m__socket\u001b[49m\u001b[38;5;241;43m.\u001b[39;49m\u001b[43mrecv\u001b[49m\u001b[43m(\u001b[49m\u001b[43mrequested\u001b[49m\u001b[43m)\u001b[49m\n\u001b[0;32m    118\u001b[0m \u001b[38;5;28;01mexcept\u001b[39;00m (\u001b[38;5;167;01mIOError\u001b[39;00m, \u001b[38;5;167;01mOSError\u001b[39;00m):\n\u001b[0;32m    119\u001b[0m     \u001b[38;5;28mself\u001b[39m\u001b[38;5;241m.\u001b[39m__mark_broken(\u001b[38;5;124m\"\u001b[39m\u001b[38;5;124mWire broken\u001b[39m\u001b[38;5;124m\"\u001b[39m)\n",
      "\u001b[1;31mKeyboardInterrupt\u001b[0m: "
     ]
    }
   ],
   "source": [
    "graph = Graph(\"bolt://localhost:7687\", auth=(\"neo4j\", \"password_tuts\"))\n",
    "graph.delete_all()\n",
    "\n",
    "for _, row in nodes.iterrows():\n",
    "    node = Node(\"User\", \n",
    "                id=int(row['id']), \n",
    "                days=int(row['days']), \n",
    "                mature=row['mature'], \n",
    "                views=int(row['views']), \n",
    "                partner=row['partner'], \n",
    "                new_id=int(row['new_id']))\n",
    "    graph.create(node)\n",
    "\n",
    "# Insert edges\n",
    "for _, row in edges.iterrows():\n",
    "    user1_id = int(row['from'])\n",
    "    user2_id = int(row['to'])\n",
    "    user1 = graph.nodes.match(\"User\", id=user1_id).first()\n",
    "    user2 = graph.nodes.match(\"User\", id=user2_id).first()\n",
    "    if user1 and user2:\n",
    "        relationship = Relationship(user1, \"FOLLOWS\", user2)\n",
    "        graph.create(relationship)"
   ]
  },
  {
   "cell_type": "code",
   "execution_count": 45,
   "metadata": {},
   "outputs": [
    {
     "ename": "KeyboardInterrupt",
     "evalue": "",
     "output_type": "error",
     "traceback": [
      "\u001b[1;31m---------------------------------------------------------------------------\u001b[0m",
      "\u001b[1;31mKeyboardInterrupt\u001b[0m                         Traceback (most recent call last)",
      "Cell \u001b[1;32mIn[45], line 18\u001b[0m\n\u001b[0;32m     10\u001b[0m \u001b[38;5;28;01mfor\u001b[39;00m _, row \u001b[38;5;129;01min\u001b[39;00m nodes\u001b[38;5;241m.\u001b[39miterrows():\n\u001b[0;32m     11\u001b[0m     node \u001b[38;5;241m=\u001b[39m Node(\u001b[38;5;124m\"\u001b[39m\u001b[38;5;124mUser\u001b[39m\u001b[38;5;124m\"\u001b[39m, \n\u001b[0;32m     12\u001b[0m                 \u001b[38;5;28mid\u001b[39m\u001b[38;5;241m=\u001b[39m\u001b[38;5;28mint\u001b[39m(row[\u001b[38;5;124m'\u001b[39m\u001b[38;5;124mid\u001b[39m\u001b[38;5;124m'\u001b[39m]), \n\u001b[0;32m     13\u001b[0m                 days\u001b[38;5;241m=\u001b[39m\u001b[38;5;28mint\u001b[39m(row[\u001b[38;5;124m'\u001b[39m\u001b[38;5;124mdays\u001b[39m\u001b[38;5;124m'\u001b[39m]), \n\u001b[1;32m   (...)\u001b[0m\n\u001b[0;32m     16\u001b[0m                 partner\u001b[38;5;241m=\u001b[39mrow[\u001b[38;5;124m'\u001b[39m\u001b[38;5;124mpartner\u001b[39m\u001b[38;5;124m'\u001b[39m], \n\u001b[0;32m     17\u001b[0m                 new_id\u001b[38;5;241m=\u001b[39m\u001b[38;5;28mint\u001b[39m(row[\u001b[38;5;124m'\u001b[39m\u001b[38;5;124mnew_id\u001b[39m\u001b[38;5;124m'\u001b[39m]))\n\u001b[1;32m---> 18\u001b[0m     \u001b[43mgraph\u001b[49m\u001b[38;5;241;43m.\u001b[39;49m\u001b[43mcreate\u001b[49m\u001b[43m(\u001b[49m\u001b[43mnode\u001b[49m\u001b[43m)\u001b[49m\n\u001b[0;32m     20\u001b[0m \u001b[38;5;66;03m# Insert edges\u001b[39;00m\n\u001b[0;32m     21\u001b[0m \u001b[38;5;28;01mfor\u001b[39;00m _, row \u001b[38;5;129;01min\u001b[39;00m edges\u001b[38;5;241m.\u001b[39miterrows():\n",
      "File \u001b[1;32m~\\AppData\\Local\\Packages\\PythonSoftwareFoundation.Python.3.12_qbz5n2kfra8p0\\LocalCache\\local-packages\\Python312\\site-packages\\py2neo\\database.py:591\u001b[0m, in \u001b[0;36mGraph.create\u001b[1;34m(self, subgraph)\u001b[0m\n\u001b[0;32m    584\u001b[0m \u001b[38;5;28;01mdef\u001b[39;00m \u001b[38;5;21mcreate\u001b[39m(\u001b[38;5;28mself\u001b[39m, subgraph):\n\u001b[0;32m    585\u001b[0m \u001b[38;5;250m    \u001b[39m\u001b[38;5;124;03m\"\"\" Run a :meth:`~py2neo.Transaction.create` operation within a\u001b[39;00m\n\u001b[0;32m    586\u001b[0m \u001b[38;5;124;03m    :class:`~py2neo.Transaction`.\u001b[39;00m\n\u001b[0;32m    587\u001b[0m \n\u001b[0;32m    588\u001b[0m \u001b[38;5;124;03m    :param subgraph: a :class:`.Node`, :class:`.Relationship` or other\u001b[39;00m\n\u001b[0;32m    589\u001b[0m \u001b[38;5;124;03m                   :class:`.Subgraph`\u001b[39;00m\n\u001b[0;32m    590\u001b[0m \u001b[38;5;124;03m    \"\"\"\u001b[39;00m\n\u001b[1;32m--> 591\u001b[0m     \u001b[38;5;28;43mself\u001b[39;49m\u001b[38;5;241;43m.\u001b[39;49m\u001b[43mupdate\u001b[49m\u001b[43m(\u001b[49m\u001b[38;5;28;43;01mlambda\u001b[39;49;00m\u001b[43m \u001b[49m\u001b[43mtx\u001b[49m\u001b[43m:\u001b[49m\u001b[43m \u001b[49m\u001b[43mtx\u001b[49m\u001b[38;5;241;43m.\u001b[39;49m\u001b[43mcreate\u001b[49m\u001b[43m(\u001b[49m\u001b[43msubgraph\u001b[49m\u001b[43m)\u001b[49m\u001b[43m)\u001b[49m\n",
      "File \u001b[1;32m~\\AppData\\Local\\Packages\\PythonSoftwareFoundation.Python.3.12_qbz5n2kfra8p0\\LocalCache\\local-packages\\Python312\\site-packages\\py2neo\\database.py:445\u001b[0m, in \u001b[0;36mGraph.update\u001b[1;34m(self, cypher, parameters, timeout)\u001b[0m\n\u001b[0;32m    443\u001b[0m \u001b[38;5;28;01mif\u001b[39;00m \u001b[38;5;28mcallable\u001b[39m(cypher):\n\u001b[0;32m    444\u001b[0m     \u001b[38;5;28;01mif\u001b[39;00m parameters \u001b[38;5;129;01mis\u001b[39;00m \u001b[38;5;28;01mNone\u001b[39;00m:\n\u001b[1;32m--> 445\u001b[0m         \u001b[38;5;28;43mself\u001b[39;49m\u001b[38;5;241;43m.\u001b[39;49m\u001b[43m_update\u001b[49m\u001b[43m(\u001b[49m\u001b[43mcypher\u001b[49m\u001b[43m,\u001b[49m\u001b[43m \u001b[49m\u001b[43mtimeout\u001b[49m\u001b[38;5;241;43m=\u001b[39;49m\u001b[43mtimeout\u001b[49m\u001b[43m)\u001b[49m\n\u001b[0;32m    446\u001b[0m     \u001b[38;5;28;01melif\u001b[39;00m (\u001b[38;5;28misinstance\u001b[39m(parameters, \u001b[38;5;28mtuple\u001b[39m) \u001b[38;5;129;01mand\u001b[39;00m \u001b[38;5;28mlen\u001b[39m(parameters) \u001b[38;5;241m==\u001b[39m \u001b[38;5;241m2\u001b[39m \u001b[38;5;129;01mand\u001b[39;00m\n\u001b[0;32m    447\u001b[0m             \u001b[38;5;28misinstance\u001b[39m(parameters[\u001b[38;5;241m0\u001b[39m], Sequence) \u001b[38;5;129;01mand\u001b[39;00m \u001b[38;5;28misinstance\u001b[39m(parameters[\u001b[38;5;241m1\u001b[39m], Mapping)):\n\u001b[0;32m    448\u001b[0m         \u001b[38;5;28mself\u001b[39m\u001b[38;5;241m.\u001b[39m_update(\u001b[38;5;28;01mlambda\u001b[39;00m tx: cypher(tx, \u001b[38;5;241m*\u001b[39mparameters[\u001b[38;5;241m0\u001b[39m], \u001b[38;5;241m*\u001b[39m\u001b[38;5;241m*\u001b[39mparameters[\u001b[38;5;241m1\u001b[39m]),\n\u001b[0;32m    449\u001b[0m                      timeout\u001b[38;5;241m=\u001b[39mtimeout)\n",
      "File \u001b[1;32m~\\AppData\\Local\\Packages\\PythonSoftwareFoundation.Python.3.12_qbz5n2kfra8p0\\LocalCache\\local-packages\\Python312\\site-packages\\py2neo\\database.py:470\u001b[0m, in \u001b[0;36mGraph._update\u001b[1;34m(self, f, timeout)\u001b[0m\n\u001b[0;32m    466\u001b[0m \u001b[38;5;28;01mtry\u001b[39;00m:\n\u001b[0;32m    467\u001b[0m     tx \u001b[38;5;241m=\u001b[39m \u001b[38;5;28mself\u001b[39m\u001b[38;5;241m.\u001b[39mbegin(\n\u001b[0;32m    468\u001b[0m                     \u001b[38;5;66;03m# after=after, metadata=metadata, timeout=timeout\u001b[39;00m\n\u001b[0;32m    469\u001b[0m                     )\n\u001b[1;32m--> 470\u001b[0m     value \u001b[38;5;241m=\u001b[39m \u001b[43mf\u001b[49m\u001b[43m(\u001b[49m\u001b[43mtx\u001b[49m\u001b[43m)\u001b[49m\n\u001b[0;32m    471\u001b[0m     \u001b[38;5;28;01mif\u001b[39;00m isgenerator(value):\n\u001b[0;32m    472\u001b[0m         _ \u001b[38;5;241m=\u001b[39m \u001b[38;5;28mlist\u001b[39m(value)     \u001b[38;5;66;03m# exhaust the generator\u001b[39;00m\n",
      "File \u001b[1;32m~\\AppData\\Local\\Packages\\PythonSoftwareFoundation.Python.3.12_qbz5n2kfra8p0\\LocalCache\\local-packages\\Python312\\site-packages\\py2neo\\database.py:591\u001b[0m, in \u001b[0;36mGraph.create.<locals>.<lambda>\u001b[1;34m(tx)\u001b[0m\n\u001b[0;32m    584\u001b[0m \u001b[38;5;28;01mdef\u001b[39;00m \u001b[38;5;21mcreate\u001b[39m(\u001b[38;5;28mself\u001b[39m, subgraph):\n\u001b[0;32m    585\u001b[0m \u001b[38;5;250m    \u001b[39m\u001b[38;5;124;03m\"\"\" Run a :meth:`~py2neo.Transaction.create` operation within a\u001b[39;00m\n\u001b[0;32m    586\u001b[0m \u001b[38;5;124;03m    :class:`~py2neo.Transaction`.\u001b[39;00m\n\u001b[0;32m    587\u001b[0m \n\u001b[0;32m    588\u001b[0m \u001b[38;5;124;03m    :param subgraph: a :class:`.Node`, :class:`.Relationship` or other\u001b[39;00m\n\u001b[0;32m    589\u001b[0m \u001b[38;5;124;03m                   :class:`.Subgraph`\u001b[39;00m\n\u001b[0;32m    590\u001b[0m \u001b[38;5;124;03m    \"\"\"\u001b[39;00m\n\u001b[1;32m--> 591\u001b[0m     \u001b[38;5;28mself\u001b[39m\u001b[38;5;241m.\u001b[39mupdate(\u001b[38;5;28;01mlambda\u001b[39;00m tx: \u001b[43mtx\u001b[49m\u001b[38;5;241;43m.\u001b[39;49m\u001b[43mcreate\u001b[49m\u001b[43m(\u001b[49m\u001b[43msubgraph\u001b[49m\u001b[43m)\u001b[49m)\n",
      "File \u001b[1;32m~\\AppData\\Local\\Packages\\PythonSoftwareFoundation.Python.3.12_qbz5n2kfra8p0\\LocalCache\\local-packages\\Python312\\site-packages\\py2neo\\database.py:1063\u001b[0m, in \u001b[0;36mTransaction.create\u001b[1;34m(self, subgraph)\u001b[0m\n\u001b[0;32m   1061\u001b[0m     \u001b[38;5;28;01mraise\u001b[39;00m \u001b[38;5;167;01mTypeError\u001b[39;00m(\u001b[38;5;124m\"\u001b[39m\u001b[38;5;124mNo method defined to create object \u001b[39m\u001b[38;5;132;01m%r\u001b[39;00m\u001b[38;5;124m\"\u001b[39m \u001b[38;5;241m%\u001b[39m subgraph)\n\u001b[0;32m   1062\u001b[0m \u001b[38;5;28;01melse\u001b[39;00m:\n\u001b[1;32m-> 1063\u001b[0m     \u001b[43mcreate\u001b[49m\u001b[43m(\u001b[49m\u001b[38;5;28;43mself\u001b[39;49m\u001b[43m)\u001b[49m\n",
      "File \u001b[1;32m~\\AppData\\Local\\Packages\\PythonSoftwareFoundation.Python.3.12_qbz5n2kfra8p0\\LocalCache\\local-packages\\Python312\\site-packages\\py2neo\\data.py:200\u001b[0m, in \u001b[0;36mSubgraph.__db_create__\u001b[1;34m(self, tx)\u001b[0m\n\u001b[0;32m    198\u001b[0m pq \u001b[38;5;241m=\u001b[39m unwind_create_nodes_query(\u001b[38;5;28mlist\u001b[39m(\u001b[38;5;28mmap\u001b[39m(\u001b[38;5;28mdict\u001b[39m, nodes)), labels\u001b[38;5;241m=\u001b[39mlabels)\n\u001b[0;32m    199\u001b[0m pq \u001b[38;5;241m=\u001b[39m cypher_join(pq, \u001b[38;5;124m\"\u001b[39m\u001b[38;5;124mRETURN id(_)\u001b[39m\u001b[38;5;124m\"\u001b[39m)\n\u001b[1;32m--> 200\u001b[0m records \u001b[38;5;241m=\u001b[39m \u001b[43mtx\u001b[49m\u001b[38;5;241;43m.\u001b[39;49m\u001b[43mrun\u001b[49m\u001b[43m(\u001b[49m\u001b[38;5;241;43m*\u001b[39;49m\u001b[43mpq\u001b[49m\u001b[43m)\u001b[49m\n\u001b[0;32m    201\u001b[0m \u001b[38;5;28;01mfor\u001b[39;00m i, record \u001b[38;5;129;01min\u001b[39;00m \u001b[38;5;28menumerate\u001b[39m(records):\n\u001b[0;32m    202\u001b[0m     node \u001b[38;5;241m=\u001b[39m nodes[i]\n",
      "File \u001b[1;32m~\\AppData\\Local\\Packages\\PythonSoftwareFoundation.Python.3.12_qbz5n2kfra8p0\\LocalCache\\local-packages\\Python312\\site-packages\\py2neo\\database.py:992\u001b[0m, in \u001b[0;36mTransaction.run\u001b[1;34m(self, cypher, parameters, **kwparameters)\u001b[0m\n\u001b[0;32m    988\u001b[0m     \u001b[38;5;28;01melse\u001b[39;00m:\n\u001b[0;32m    989\u001b[0m         result \u001b[38;5;241m=\u001b[39m \u001b[38;5;28mself\u001b[39m\u001b[38;5;241m.\u001b[39m_connector\u001b[38;5;241m.\u001b[39mauto_run(cypher, parameters,\n\u001b[0;32m    990\u001b[0m                                           graph_name\u001b[38;5;241m=\u001b[39m\u001b[38;5;28mself\u001b[39m\u001b[38;5;241m.\u001b[39mgraph\u001b[38;5;241m.\u001b[39mname,\n\u001b[0;32m    991\u001b[0m                                           readonly\u001b[38;5;241m=\u001b[39m\u001b[38;5;28mself\u001b[39m\u001b[38;5;241m.\u001b[39mreadonly)\n\u001b[1;32m--> 992\u001b[0m     \u001b[38;5;28;43mself\u001b[39;49m\u001b[38;5;241;43m.\u001b[39;49m\u001b[43m_connector\u001b[49m\u001b[38;5;241;43m.\u001b[39;49m\u001b[43mpull\u001b[49m\u001b[43m(\u001b[49m\u001b[43mresult\u001b[49m\u001b[43m,\u001b[49m\u001b[43m \u001b[49m\u001b[38;5;241;43m-\u001b[39;49m\u001b[38;5;241;43m1\u001b[39;49m\u001b[43m)\u001b[49m\n\u001b[0;32m    993\u001b[0m     \u001b[38;5;28;01mreturn\u001b[39;00m Cursor(result, hydrant)\n\u001b[0;32m    994\u001b[0m \u001b[38;5;28;01mfinally\u001b[39;00m:\n",
      "File \u001b[1;32m~\\AppData\\Local\\Packages\\PythonSoftwareFoundation.Python.3.12_qbz5n2kfra8p0\\LocalCache\\local-packages\\Python312\\site-packages\\py2neo\\client\\__init__.py:1434\u001b[0m, in \u001b[0;36mConnector.pull\u001b[1;34m(self, result, n)\u001b[0m\n\u001b[0;32m   1432\u001b[0m cx \u001b[38;5;241m=\u001b[39m \u001b[38;5;28mself\u001b[39m\u001b[38;5;241m.\u001b[39m_reacquire(result\u001b[38;5;241m.\u001b[39mtransaction)\n\u001b[0;32m   1433\u001b[0m \u001b[38;5;28;01mtry\u001b[39;00m:\n\u001b[1;32m-> 1434\u001b[0m     \u001b[43mcx\u001b[49m\u001b[38;5;241;43m.\u001b[39;49m\u001b[43mpull\u001b[49m\u001b[43m(\u001b[49m\u001b[43mresult\u001b[49m\u001b[43m,\u001b[49m\u001b[43m \u001b[49m\u001b[43mn\u001b[49m\u001b[38;5;241;43m=\u001b[39;49m\u001b[43mn\u001b[49m\u001b[43m)\u001b[49m\n\u001b[0;32m   1435\u001b[0m \u001b[38;5;28;01mexcept\u001b[39;00m (ConnectionUnavailable, ConnectionBroken):\n\u001b[0;32m   1436\u001b[0m     \u001b[38;5;28mself\u001b[39m\u001b[38;5;241m.\u001b[39mprune(cx\u001b[38;5;241m.\u001b[39mprofile)\n",
      "File \u001b[1;32m~\\AppData\\Local\\Packages\\PythonSoftwareFoundation.Python.3.12_qbz5n2kfra8p0\\LocalCache\\local-packages\\Python312\\site-packages\\py2neo\\client\\bolt.py:995\u001b[0m, in \u001b[0;36mBolt4x0.pull\u001b[1;34m(self, result, n, capacity)\u001b[0m\n\u001b[0;32m    993\u001b[0m result\u001b[38;5;241m.\u001b[39mappend(response, final\u001b[38;5;241m=\u001b[39m(n \u001b[38;5;241m==\u001b[39m \u001b[38;5;241m-\u001b[39m\u001b[38;5;241m1\u001b[39m))\n\u001b[0;32m    994\u001b[0m \u001b[38;5;28;01mtry\u001b[39;00m:\n\u001b[1;32m--> 995\u001b[0m     \u001b[38;5;28;43mself\u001b[39;49m\u001b[38;5;241;43m.\u001b[39;49m\u001b[43m_sync\u001b[49m\u001b[43m(\u001b[49m\u001b[43mresponse\u001b[49m\u001b[43m)\u001b[49m\n\u001b[0;32m    996\u001b[0m \u001b[38;5;28;01mexcept\u001b[39;00m BrokenWireError \u001b[38;5;28;01mas\u001b[39;00m error:\n\u001b[0;32m    997\u001b[0m     result\u001b[38;5;241m.\u001b[39mtransaction\u001b[38;5;241m.\u001b[39mmark_broken()\n",
      "File \u001b[1;32m~\\AppData\\Local\\Packages\\PythonSoftwareFoundation.Python.3.12_qbz5n2kfra8p0\\LocalCache\\local-packages\\Python312\\site-packages\\py2neo\\client\\bolt.py:799\u001b[0m, in \u001b[0;36mBolt1._sync\u001b[1;34m(self, *responses)\u001b[0m\n\u001b[0;32m    797\u001b[0m \u001b[38;5;28mself\u001b[39m\u001b[38;5;241m.\u001b[39msend()\n\u001b[0;32m    798\u001b[0m \u001b[38;5;28;01mfor\u001b[39;00m response \u001b[38;5;129;01min\u001b[39;00m responses:\n\u001b[1;32m--> 799\u001b[0m     \u001b[38;5;28;43mself\u001b[39;49m\u001b[38;5;241;43m.\u001b[39;49m\u001b[43m_wait\u001b[49m\u001b[43m(\u001b[49m\u001b[43mresponse\u001b[49m\u001b[43m)\u001b[49m\n",
      "File \u001b[1;32m~\\AppData\\Local\\Packages\\PythonSoftwareFoundation.Python.3.12_qbz5n2kfra8p0\\LocalCache\\local-packages\\Python312\\site-packages\\py2neo\\client\\bolt.py:794\u001b[0m, in \u001b[0;36mBolt1._wait\u001b[1;34m(self, response)\u001b[0m\n\u001b[0;32m    787\u001b[0m \u001b[38;5;250m\u001b[39m\u001b[38;5;124;03m\"\"\" Read all incoming responses up to and including a\u001b[39;00m\n\u001b[0;32m    788\u001b[0m \u001b[38;5;124;03mparticular response.\u001b[39;00m\n\u001b[0;32m    789\u001b[0m \n\u001b[0;32m    790\u001b[0m \u001b[38;5;124;03mThis method calls fetch, but does not raise an exception on\u001b[39;00m\n\u001b[0;32m    791\u001b[0m \u001b[38;5;124;03mFAILURE.\u001b[39;00m\n\u001b[0;32m    792\u001b[0m \u001b[38;5;124;03m\"\"\"\u001b[39;00m\n\u001b[0;32m    793\u001b[0m \u001b[38;5;28;01mwhile\u001b[39;00m \u001b[38;5;129;01mnot\u001b[39;00m response\u001b[38;5;241m.\u001b[39mfull() \u001b[38;5;129;01mand\u001b[39;00m \u001b[38;5;129;01mnot\u001b[39;00m response\u001b[38;5;241m.\u001b[39mdone():\n\u001b[1;32m--> 794\u001b[0m     \u001b[38;5;28;43mself\u001b[39;49m\u001b[38;5;241;43m.\u001b[39;49m\u001b[43m_fetch\u001b[49m\u001b[43m(\u001b[49m\u001b[43m)\u001b[49m\n",
      "File \u001b[1;32m~\\AppData\\Local\\Packages\\PythonSoftwareFoundation.Python.3.12_qbz5n2kfra8p0\\LocalCache\\local-packages\\Python312\\site-packages\\py2neo\\client\\bolt.py:769\u001b[0m, in \u001b[0;36mBolt1._fetch\u001b[1;34m(self)\u001b[0m\n\u001b[0;32m    760\u001b[0m \u001b[38;5;28;01mdef\u001b[39;00m \u001b[38;5;21m_fetch\u001b[39m(\u001b[38;5;28mself\u001b[39m):\n\u001b[0;32m    761\u001b[0m \u001b[38;5;250m    \u001b[39m\u001b[38;5;124;03m\"\"\" Fetch and process the next incoming message.\u001b[39;00m\n\u001b[0;32m    762\u001b[0m \n\u001b[0;32m    763\u001b[0m \u001b[38;5;124;03m    This method does not raise an exception on receipt of a\u001b[39;00m\n\u001b[1;32m   (...)\u001b[0m\n\u001b[0;32m    767\u001b[0m \u001b[38;5;124;03m    failed state into an exception.\u001b[39;00m\n\u001b[0;32m    768\u001b[0m \u001b[38;5;124;03m    \"\"\"\u001b[39;00m\n\u001b[1;32m--> 769\u001b[0m     tag, fields \u001b[38;5;241m=\u001b[39m \u001b[38;5;28;43mself\u001b[39;49m\u001b[38;5;241;43m.\u001b[39;49m\u001b[43mread_message\u001b[49m\u001b[43m(\u001b[49m\u001b[43m)\u001b[49m\n\u001b[0;32m    770\u001b[0m     \u001b[38;5;28;01mif\u001b[39;00m tag \u001b[38;5;241m==\u001b[39m \u001b[38;5;241m0x70\u001b[39m:\n\u001b[0;32m    771\u001b[0m         \u001b[38;5;28mself\u001b[39m\u001b[38;5;241m.\u001b[39m_responses\u001b[38;5;241m.\u001b[39mpopleft()\u001b[38;5;241m.\u001b[39mset_success(\u001b[38;5;241m*\u001b[39m\u001b[38;5;241m*\u001b[39mfields[\u001b[38;5;241m0\u001b[39m])\n",
      "File \u001b[1;32m~\\AppData\\Local\\Packages\\PythonSoftwareFoundation.Python.3.12_qbz5n2kfra8p0\\LocalCache\\local-packages\\Python312\\site-packages\\py2neo\\client\\bolt.py:696\u001b[0m, in \u001b[0;36mBolt1.read_message\u001b[1;34m(self)\u001b[0m\n\u001b[0;32m    695\u001b[0m \u001b[38;5;28;01mdef\u001b[39;00m \u001b[38;5;21mread_message\u001b[39m(\u001b[38;5;28mself\u001b[39m):\n\u001b[1;32m--> 696\u001b[0m     tag, fields \u001b[38;5;241m=\u001b[39m \u001b[38;5;28;43mself\u001b[39;49m\u001b[38;5;241;43m.\u001b[39;49m\u001b[43m_reader\u001b[49m\u001b[38;5;241;43m.\u001b[39;49m\u001b[43mread_message\u001b[49m\u001b[43m(\u001b[49m\u001b[43m)\u001b[49m\n\u001b[0;32m    697\u001b[0m     \u001b[38;5;28;01mif\u001b[39;00m tag \u001b[38;5;241m==\u001b[39m \u001b[38;5;241m0x71\u001b[39m:\n\u001b[0;32m    698\u001b[0m         \u001b[38;5;66;03m# If a RECORD is received, check for more records\u001b[39;00m\n\u001b[0;32m    699\u001b[0m         \u001b[38;5;66;03m# in the buffer immediately following, and log and\u001b[39;00m\n\u001b[0;32m    700\u001b[0m         \u001b[38;5;66;03m# add them all at the same time\u001b[39;00m\n\u001b[0;32m    701\u001b[0m         \u001b[38;5;28;01mwhile\u001b[39;00m \u001b[38;5;28mself\u001b[39m\u001b[38;5;241m.\u001b[39m_reader\u001b[38;5;241m.\u001b[39mpeek_message() \u001b[38;5;241m==\u001b[39m \u001b[38;5;241m0x71\u001b[39m:\n",
      "File \u001b[1;32m~\\AppData\\Local\\Packages\\PythonSoftwareFoundation.Python.3.12_qbz5n2kfra8p0\\LocalCache\\local-packages\\Python312\\site-packages\\py2neo\\client\\bolt.py:156\u001b[0m, in \u001b[0;36mBoltMessageReader.read_message\u001b[1;34m(self)\u001b[0m\n\u001b[0;32m    154\u001b[0m \u001b[38;5;28;01mwhile\u001b[39;00m \u001b[38;5;28;01mTrue\u001b[39;00m:\n\u001b[0;32m    155\u001b[0m     \u001b[38;5;28;01mtry\u001b[39;00m:\n\u001b[1;32m--> 156\u001b[0m         hi, lo \u001b[38;5;241m=\u001b[39m \u001b[38;5;28;43mself\u001b[39;49m\u001b[38;5;241;43m.\u001b[39;49m\u001b[43mwire\u001b[49m\u001b[38;5;241;43m.\u001b[39;49m\u001b[43mread\u001b[49m\u001b[43m(\u001b[49m\u001b[38;5;241;43m2\u001b[39;49m\u001b[43m)\u001b[49m\n\u001b[0;32m    157\u001b[0m     \u001b[38;5;28;01mexcept\u001b[39;00m WireError \u001b[38;5;28;01mas\u001b[39;00m error:\n\u001b[0;32m    158\u001b[0m         raise_from(ConnectionBroken(\u001b[38;5;124m\"\u001b[39m\u001b[38;5;124mFailed to read message\u001b[39m\u001b[38;5;124m\"\u001b[39m), error)\n",
      "File \u001b[1;32m~\\AppData\\Local\\Packages\\PythonSoftwareFoundation.Python.3.12_qbz5n2kfra8p0\\LocalCache\\local-packages\\Python312\\site-packages\\py2neo\\wiring.py:117\u001b[0m, in \u001b[0;36mWire.read\u001b[1;34m(self, n)\u001b[0m\n\u001b[0;32m    115\u001b[0m requested \u001b[38;5;241m=\u001b[39m \u001b[38;5;28mmax\u001b[39m(required, \u001b[38;5;241m16384\u001b[39m)\n\u001b[0;32m    116\u001b[0m \u001b[38;5;28;01mtry\u001b[39;00m:\n\u001b[1;32m--> 117\u001b[0m     received \u001b[38;5;241m=\u001b[39m \u001b[38;5;28;43mself\u001b[39;49m\u001b[38;5;241;43m.\u001b[39;49m\u001b[43m__socket\u001b[49m\u001b[38;5;241;43m.\u001b[39;49m\u001b[43mrecv\u001b[49m\u001b[43m(\u001b[49m\u001b[43mrequested\u001b[49m\u001b[43m)\u001b[49m\n\u001b[0;32m    118\u001b[0m \u001b[38;5;28;01mexcept\u001b[39;00m (\u001b[38;5;167;01mIOError\u001b[39;00m, \u001b[38;5;167;01mOSError\u001b[39;00m):\n\u001b[0;32m    119\u001b[0m     \u001b[38;5;28mself\u001b[39m\u001b[38;5;241m.\u001b[39m__mark_broken(\u001b[38;5;124m\"\u001b[39m\u001b[38;5;124mWire broken\u001b[39m\u001b[38;5;124m\"\u001b[39m)\n",
      "\u001b[1;31mKeyboardInterrupt\u001b[0m: "
     ]
    }
   ],
   "source": [
    "graph = Graph(\"bolt://localhost:7687\", auth=(\"neo4j\", \"password_tuts\"))\n",
    "\n",
    "# Clear existing data\n",
    "graph.delete_all()\n",
    "\n",
    "# Create an index on the User node's 'id' property\n",
    "graph.run(\"CREATE INDEX FOR (u:User) ON (u.id)\")\n",
    "\n",
    "# Insert nodes\n",
    "for _, row in nodes.iterrows():\n",
    "    node = Node(\"User\", \n",
    "                id=int(row['id']), \n",
    "                days=int(row['days']), \n",
    "                mature=row['mature'], \n",
    "                views=int(row['views']), \n",
    "                partner=row['partner'], \n",
    "                new_id=int(row['new_id']))\n",
    "    graph.create(node)\n",
    "\n",
    "# Insert edges\n",
    "for _, row in edges.iterrows():\n",
    "    user1_id = int(row['from'])\n",
    "    user2_id = int(row['to'])\n",
    "    user1 = graph.nodes.match(\"User\", id=user1_id).first()\n",
    "    user2 = graph.nodes.match(\"User\", id=user2_id).first()\n",
    "    if user1 and user2:\n",
    "        relationship = Relationship(user1, \"FOLLOWS\", user2)\n",
    "        graph.create(relationship)"
   ]
  },
  {
   "cell_type": "markdown",
   "metadata": {},
   "source": [
    "1) Give the IDs of the top 10 streamers that have atleast one collaboration.\n"
   ]
  },
  {
   "cell_type": "code",
   "execution_count": null,
   "metadata": {},
   "outputs": [],
   "source": [
    "query = \"\"\"\n",
    "MATCH (s:User)-[r:FOLLOWS]->()\n",
    "WITH s, count(r) AS collaborations\n",
    "WHERE collaborations > 0\n",
    "RETURN s.id AS id, collaborations\n",
    "ORDER BY collaborations DESC\n",
    "LIMIT 10\n",
    "\"\"\"\n",
    "\n",
    "graph.run(query).to_data_frame()"
   ]
  },
  {
   "cell_type": "markdown",
   "metadata": {},
   "source": [
    "2) Create a density of node degrees. Do you observe a power scale law ? What does it mean ?"
   ]
  },
  {
   "cell_type": "code",
   "execution_count": null,
   "metadata": {},
   "outputs": [],
   "source": []
  },
  {
   "cell_type": "markdown",
   "metadata": {},
   "source": [
    "\n",
    "3) How many streamers has the tag \"mature\" ?\n"
   ]
  },
  {
   "cell_type": "code",
   "execution_count": null,
   "metadata": {},
   "outputs": [],
   "source": [
    "query = \"\"\"\n",
    "MATCH (u:User)\n",
    "WHERE u.mature = true\n",
    "RETURN count(u) AS mature_streamers_count\n",
    "\"\"\"\n",
    "graph.run(query).evaluate()"
   ]
  },
  {
   "cell_type": "markdown",
   "metadata": {},
   "source": [
    "4) Is the collaboration correlated to the \"mature\" tag ?"
   ]
  },
  {
   "cell_type": "code",
   "execution_count": null,
   "metadata": {},
   "outputs": [],
   "source": [
    "import scipy.stats as stats\n",
    "\n",
    "query = \"\"\"\n",
    "MATCH (u:User)-[r:FOLLOWS]-()\n",
    "WITH u, count(r) AS collaborations\n",
    "RETURN u.id AS id, u.mature AS mature, collaborations\n",
    "\"\"\"\n",
    "\n",
    "data = graph.run(query).to_data_frame()\n",
    "\n",
    "data['mature'] = data['mature'].astype(bool)\n",
    "\n",
    "correlation, p_value = stats.pointbiserialr(data['mature'], data['collaborations'])"
   ]
  },
  {
   "cell_type": "markdown",
   "metadata": {},
   "source": [
    "\n",
    "5) Do partners collaborate more than non partners ?"
   ]
  },
  {
   "cell_type": "code",
   "execution_count": null,
   "metadata": {},
   "outputs": [],
   "source": [
    "query = \"\"\"\n",
    "MATCH (u:User)-[r:FOLLOWS]-()\n",
    "WITH u, count(r) AS collaborations\n",
    "RETURN u.partner AS partner, collaborations\n",
    "\"\"\"\n",
    "data = graph.run(query).to_data_frame()\n",
    "\n",
    "partners = data[data['partner'] == True]['collaborations']\n",
    "non_partners = data[data['partner'] != True]['collaborations']\n",
    "\n",
    "avg_collaborations_partner = partners.mean()\n",
    "avg_collaborations_non_partner = non_partners.mean()\n",
    "\n",
    "ttest_ind(partners, non_partners)\n"
   ]
  },
  {
   "cell_type": "markdown",
   "metadata": {},
   "source": [
    "6) Sandbox exercise: think of a problematic and try to answer it."
   ]
  },
  {
   "cell_type": "markdown",
   "metadata": {},
   "source": [
    "## Homework 6 \n",
    "\n",
    "You will work on a stackoverflow dataset found [here](https://www.kaggle.com/stackoverflow/stack-overflow-tag-network). First thing to do is create the network on Neo4j. You can find the characteristics of the nodes in stack_network_nodes.csv.\n",
    "Once the node are create you can create the edges between them, you can find them in stack_network_links.csv. The weight of the edge is the column value. Answer the following making use of cypher queries.\n",
    "\n",
    "1) What are the 10 most popular keywords ?\n"
   ]
  },
  {
   "cell_type": "code",
   "execution_count": null,
   "metadata": {},
   "outputs": [],
   "source": []
  },
  {
   "cell_type": "markdown",
   "metadata": {},
   "source": [
    "2) What are the top 10 Co-occurence ?\n"
   ]
  },
  {
   "cell_type": "markdown",
   "metadata": {},
   "source": [
    "3) How many keywords are in group 1 ?\n"
   ]
  },
  {
   "cell_type": "markdown",
   "metadata": {},
   "source": [
    "3) Is the Co-occurence correlated to the \"group\" of the keyword ?  \n"
   ]
  },
  {
   "cell_type": "markdown",
   "metadata": {},
   "source": [
    "4) Sandbox exercise: think of a problematic and try to answer it."
   ]
  }
 ],
 "metadata": {
  "kernelspec": {
   "display_name": "Python 3",
   "language": "python",
   "name": "python3"
  },
  "language_info": {
   "codemirror_mode": {
    "name": "ipython",
    "version": 3
   },
   "file_extension": ".py",
   "mimetype": "text/x-python",
   "name": "python",
   "nbconvert_exporter": "python",
   "pygments_lexer": "ipython3",
   "version": "3.12.3"
  }
 },
 "nbformat": 4,
 "nbformat_minor": 4
}
