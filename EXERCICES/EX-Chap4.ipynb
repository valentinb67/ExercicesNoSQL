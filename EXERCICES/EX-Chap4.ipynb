{
 "cells": [
  {
   "cell_type": "markdown",
   "metadata": {},
   "source": [
    "### Exercises\n",
    "\n",
    "#### CRUD operations:\n",
    "\n",
    "\n",
    "**TODO 1**: You will continue to work on the MCU network for a while. Who are the 10 fastest in the MCU ? Are they related to each other ?\n"
   ]
  },
  {
   "cell_type": "code",
   "execution_count": 38,
   "metadata": {},
   "outputs": [],
   "source": [
    "import pandas as pd\n",
    "from py2neo import Graph, Node, Relationship\n",
    "\n",
    "characters_csv = \"/Users/valen/Desktop/data/Chap4/Marvel_Superheroes/characters.csv\"\n",
    "characters_stats_csv = \"/Users/valen/Desktop/data/Chap4/Marvel_Superheroes/characters_stats.csv\"\n",
    "characters2comics_csv = \"/Users/valen/Desktop/data/Chap4/Marvel_Superheroes/charactersToComics.csv\"\n",
    "\n",
    "characters = pd.read_csv(characters_csv)\n",
    "characters_stats = pd.read_csv(characters_stats_csv)\n",
    "characters2comics = pd.read_csv(characters2comics_csv)\n"
   ]
  },
  {
   "cell_type": "code",
   "execution_count": 59,
   "metadata": {},
   "outputs": [
    {
     "data": {
      "text/html": [
       "<div>\n",
       "<style scoped>\n",
       "    .dataframe tbody tr th:only-of-type {\n",
       "        vertical-align: middle;\n",
       "    }\n",
       "\n",
       "    .dataframe tbody tr th {\n",
       "        vertical-align: top;\n",
       "    }\n",
       "\n",
       "    .dataframe thead th {\n",
       "        text-align: right;\n",
       "    }\n",
       "</style>\n",
       "<table border=\"1\" class=\"dataframe\">\n",
       "  <thead>\n",
       "    <tr style=\"text-align: right;\">\n",
       "      <th></th>\n",
       "      <th>Name</th>\n",
       "      <th>Alignment</th>\n",
       "      <th>Intelligence</th>\n",
       "      <th>Strength</th>\n",
       "      <th>Speed</th>\n",
       "      <th>Durability</th>\n",
       "      <th>Power</th>\n",
       "      <th>Combat</th>\n",
       "      <th>Total</th>\n",
       "    </tr>\n",
       "  </thead>\n",
       "  <tbody>\n",
       "    <tr>\n",
       "      <th>0</th>\n",
       "      <td>3-D Man</td>\n",
       "      <td>good</td>\n",
       "      <td>50</td>\n",
       "      <td>31</td>\n",
       "      <td>43</td>\n",
       "      <td>32</td>\n",
       "      <td>25</td>\n",
       "      <td>52</td>\n",
       "      <td>233</td>\n",
       "    </tr>\n",
       "    <tr>\n",
       "      <th>1</th>\n",
       "      <td>A-Bomb</td>\n",
       "      <td>good</td>\n",
       "      <td>38</td>\n",
       "      <td>100</td>\n",
       "      <td>17</td>\n",
       "      <td>80</td>\n",
       "      <td>17</td>\n",
       "      <td>64</td>\n",
       "      <td>316</td>\n",
       "    </tr>\n",
       "    <tr>\n",
       "      <th>2</th>\n",
       "      <td>Abe Sapien</td>\n",
       "      <td>good</td>\n",
       "      <td>88</td>\n",
       "      <td>14</td>\n",
       "      <td>35</td>\n",
       "      <td>42</td>\n",
       "      <td>35</td>\n",
       "      <td>85</td>\n",
       "      <td>299</td>\n",
       "    </tr>\n",
       "    <tr>\n",
       "      <th>3</th>\n",
       "      <td>Abin Sur</td>\n",
       "      <td>good</td>\n",
       "      <td>50</td>\n",
       "      <td>90</td>\n",
       "      <td>53</td>\n",
       "      <td>64</td>\n",
       "      <td>84</td>\n",
       "      <td>65</td>\n",
       "      <td>406</td>\n",
       "    </tr>\n",
       "    <tr>\n",
       "      <th>4</th>\n",
       "      <td>Abomination</td>\n",
       "      <td>bad</td>\n",
       "      <td>63</td>\n",
       "      <td>80</td>\n",
       "      <td>53</td>\n",
       "      <td>90</td>\n",
       "      <td>55</td>\n",
       "      <td>95</td>\n",
       "      <td>436</td>\n",
       "    </tr>\n",
       "    <tr>\n",
       "      <th>...</th>\n",
       "      <td>...</td>\n",
       "      <td>...</td>\n",
       "      <td>...</td>\n",
       "      <td>...</td>\n",
       "      <td>...</td>\n",
       "      <td>...</td>\n",
       "      <td>...</td>\n",
       "      <td>...</td>\n",
       "      <td>...</td>\n",
       "    </tr>\n",
       "    <tr>\n",
       "      <th>606</th>\n",
       "      <td>Yellowjacket</td>\n",
       "      <td>good</td>\n",
       "      <td>88</td>\n",
       "      <td>10</td>\n",
       "      <td>12</td>\n",
       "      <td>28</td>\n",
       "      <td>12</td>\n",
       "      <td>14</td>\n",
       "      <td>164</td>\n",
       "    </tr>\n",
       "    <tr>\n",
       "      <th>607</th>\n",
       "      <td>Yellowjacket II</td>\n",
       "      <td>good</td>\n",
       "      <td>50</td>\n",
       "      <td>10</td>\n",
       "      <td>35</td>\n",
       "      <td>28</td>\n",
       "      <td>31</td>\n",
       "      <td>28</td>\n",
       "      <td>182</td>\n",
       "    </tr>\n",
       "    <tr>\n",
       "      <th>608</th>\n",
       "      <td>Ymir</td>\n",
       "      <td>good</td>\n",
       "      <td>50</td>\n",
       "      <td>100</td>\n",
       "      <td>27</td>\n",
       "      <td>100</td>\n",
       "      <td>83</td>\n",
       "      <td>28</td>\n",
       "      <td>388</td>\n",
       "    </tr>\n",
       "    <tr>\n",
       "      <th>609</th>\n",
       "      <td>Zatanna</td>\n",
       "      <td>good</td>\n",
       "      <td>75</td>\n",
       "      <td>10</td>\n",
       "      <td>23</td>\n",
       "      <td>28</td>\n",
       "      <td>100</td>\n",
       "      <td>56</td>\n",
       "      <td>292</td>\n",
       "    </tr>\n",
       "    <tr>\n",
       "      <th>610</th>\n",
       "      <td>Zoom</td>\n",
       "      <td>bad</td>\n",
       "      <td>50</td>\n",
       "      <td>10</td>\n",
       "      <td>100</td>\n",
       "      <td>28</td>\n",
       "      <td>72</td>\n",
       "      <td>28</td>\n",
       "      <td>288</td>\n",
       "    </tr>\n",
       "  </tbody>\n",
       "</table>\n",
       "<p>611 rows × 9 columns</p>\n",
       "</div>"
      ],
      "text/plain": [
       "                Name Alignment  Intelligence  Strength  Speed  Durability  \\\n",
       "0            3-D Man      good            50        31     43          32   \n",
       "1             A-Bomb      good            38       100     17          80   \n",
       "2         Abe Sapien      good            88        14     35          42   \n",
       "3           Abin Sur      good            50        90     53          64   \n",
       "4        Abomination       bad            63        80     53          90   \n",
       "..               ...       ...           ...       ...    ...         ...   \n",
       "606     Yellowjacket      good            88        10     12          28   \n",
       "607  Yellowjacket II      good            50        10     35          28   \n",
       "608             Ymir      good            50       100     27         100   \n",
       "609          Zatanna      good            75        10     23          28   \n",
       "610             Zoom       bad            50        10    100          28   \n",
       "\n",
       "     Power  Combat  Total  \n",
       "0       25      52    233  \n",
       "1       17      64    316  \n",
       "2       35      85    299  \n",
       "3       84      65    406  \n",
       "4       55      95    436  \n",
       "..     ...     ...    ...  \n",
       "606     12      14    164  \n",
       "607     31      28    182  \n",
       "608     83      28    388  \n",
       "609    100      56    292  \n",
       "610     72      28    288  \n",
       "\n",
       "[611 rows x 9 columns]"
      ]
     },
     "execution_count": 59,
     "metadata": {},
     "output_type": "execute_result"
    }
   ],
   "source": [
    "characters_stats"
   ]
  },
  {
   "cell_type": "code",
   "execution_count": 32,
   "metadata": {},
   "outputs": [
    {
     "name": "stdout",
     "output_type": "stream",
     "text": [
      "Constraint already exists\n"
     ]
    },
    {
     "name": "stderr",
     "output_type": "stream",
     "text": [
      "1170it [00:00, 6594.16it/s]\n"
     ]
    }
   ],
   "source": [
    "import pandas as pd\n",
    "import tqdm\n",
    "import py2neo\n",
    "\n",
    "graph = py2neo.Graph(\"bolt://localhost:7687\", auth=(\"neo4j\", \"password_tuts\"))\n",
    "\n",
    "graph.delete_all()\n",
    "\n",
    "try:\n",
    "    graph.run(\"CREATE CONSTRAINT ON (n:Superhero) ASSERT n.id_ IS UNIQUE\")\n",
    "except:\n",
    "    print(\"Constraint already exists\")\n",
    "\n",
    "\n",
    "transaction_list = []\n",
    "\n",
    "for row in tqdm.tqdm(characters.iterrows()):\n",
    "    id_ = row[1][\"characterID\"]\n",
    "    name = row[1][\"name\"]\n",
    "    transaction_list.append({\"id_\":id_,\"name\":name})\n",
    "    if len(transaction_list) == 1000:\n",
    "        transaction = \"UNWIND $json as data CREATE (n:Superhero) SET n = data\"\n",
    "        graph.run(transaction, json=transaction_list)\n",
    "        transaction_list = []\n",
    "\n",
    "graph.run(transaction, json=transaction_list)\n",
    "\n",
    "pass"
   ]
  },
  {
   "cell_type": "code",
   "execution_count": 35,
   "metadata": {},
   "outputs": [
    {
     "name": "stderr",
     "output_type": "stream",
     "text": [
      "0it [00:00, ?it/s]"
     ]
    },
    {
     "name": "stderr",
     "output_type": "stream",
     "text": [
      "611it [00:00, 17057.85it/s]\n"
     ]
    }
   ],
   "source": [
    "graph = py2neo.Graph(\"bolt://localhost:7687\", auth=(\"neo4j\", \"password_tuts\"))\n",
    "\n",
    "transaction = \"\"\"UNWIND $json as data\n",
    "OPTIONAL MATCH (a:Superhero {name:data.Name})\n",
    "SET a += {Alignement:data.Alignement,Intelligence:data.Intelligence,Strength:data.Strength,Speed:data.Speed,Durability:data.Durability,\n",
    "         Power:data.Power,Combat:data.Combat,Total:data.Total} \n",
    "\"\"\"\n",
    "\n",
    "transaction_list = []\n",
    "\n",
    "iteration = 0\n",
    "for row in tqdm.tqdm(characters_stats.iterrows()):\n",
    "    transaction_list.append(dict(row[1]))\n",
    "    iteration += 1\n",
    "    if iteration % 1000 == 0:\n",
    "        graph.run(transaction, json=transaction_list)\n",
    "        transaction_list = []\n",
    "        \n",
    "graph.run(transaction, json=transaction_list)\n",
    "\n",
    "pass"
   ]
  },
  {
   "cell_type": "code",
   "execution_count": 41,
   "metadata": {},
   "outputs": [
    {
     "name": "stderr",
     "output_type": "stream",
     "text": [
      "100%|██████████| 22250/22250 [05:04<00:00, 73.01it/s] \n"
     ]
    }
   ],
   "source": [
    "import pandas as pd\n",
    "import tqdm\n",
    "import py2neo\n",
    "import itertools\n",
    "\n",
    "graph = py2neo.Graph(\"bolt://localhost:7687\", auth=(\"neo4j\", \"password_tuts\"))\n",
    "\n",
    "characters2comics = characters2comics.drop_duplicates()\n",
    "transaction_list = []\n",
    "\n",
    "transaction = \"\"\"UNWIND $json as data\n",
    "MATCH (a:Superhero),(b:Superhero)\n",
    "WHERE a.id_ = data.id_1 AND b.id_ = data.id_2\n",
    "MERGE (a)-[r:RELATION]->(b)\n",
    "ON CREATE\n",
    "    SET r.n_collab = 1\n",
    "ON MATCH\n",
    "    SET r.n_collab = r.n_collab + 1\n",
    "\"\"\"\n",
    "\n",
    "it = 0   \n",
    "for comic in tqdm.tqdm(characters2comics.groupby([\"comicID\"])):\n",
    "    related_ids = comic[1][\"characterID\"]\n",
    "    for combi in list(itertools.combinations(related_ids, 2)):\n",
    "        sh1 = combi[0]\n",
    "        sh2 = combi[1]\n",
    "        transaction_list.append({\"id_1\":sh1,\"id_2\":sh2})\n",
    "        it +=1\n",
    "        if it % 1000 == 0:\n",
    "            graph.run(transaction, json=transaction_list)\n",
    "            transaction_list = []\n",
    "\n",
    "graph.run(transaction, json=transaction_list)\n",
    "pass"
   ]
  },
  {
   "cell_type": "code",
   "execution_count": 42,
   "metadata": {},
   "outputs": [
    {
     "name": "stdout",
     "output_type": "stream",
     "text": [
      "0    {'n_collab': 68}\n",
      "Name: r, dtype: object 0    {'id_': 1009494, 'name': 'Pepper Potts'}\n",
      "Name: a, dtype: object 0    {'Speed': 58, 'Intelligence': 100, 'id_': 1009...\n",
      "Name: b, dtype: object\n"
     ]
    }
   ],
   "source": [
    "graph = py2neo.Graph(\"bolt://localhost:7687\", auth=(\"neo4j\", \"password_tuts\"))\n",
    "\n",
    "query = \"\"\"MATCH (a:Superhero{name:'Pepper Potts'})-[r:RELATION]-(b:Superhero{name:'Iron Man'}) RETURN r,a,b\"\"\"\n",
    "data = graph.run(query).to_data_frame()\n",
    "print(data[\"r\"],data[\"a\"],data[\"b\"])"
   ]
  },
  {
   "cell_type": "code",
   "execution_count": 53,
   "metadata": {},
   "outputs": [
    {
     "data": {
      "text/html": [
       "<div>\n",
       "<style scoped>\n",
       "    .dataframe tbody tr th:only-of-type {\n",
       "        vertical-align: middle;\n",
       "    }\n",
       "\n",
       "    .dataframe tbody tr th {\n",
       "        vertical-align: top;\n",
       "    }\n",
       "\n",
       "    .dataframe thead th {\n",
       "        text-align: right;\n",
       "    }\n",
       "</style>\n",
       "<table border=\"1\" class=\"dataframe\">\n",
       "  <thead>\n",
       "    <tr style=\"text-align: right;\">\n",
       "      <th></th>\n",
       "      <th>name</th>\n",
       "      <th>speed</th>\n",
       "    </tr>\n",
       "  </thead>\n",
       "  <tbody>\n",
       "    <tr>\n",
       "      <th>0</th>\n",
       "      <td>Black Bolt</td>\n",
       "      <td>100</td>\n",
       "    </tr>\n",
       "    <tr>\n",
       "      <th>1</th>\n",
       "      <td>Stardust</td>\n",
       "      <td>100</td>\n",
       "    </tr>\n",
       "    <tr>\n",
       "      <th>2</th>\n",
       "      <td>Quicksilver</td>\n",
       "      <td>100</td>\n",
       "    </tr>\n",
       "    <tr>\n",
       "      <th>3</th>\n",
       "      <td>Nova</td>\n",
       "      <td>100</td>\n",
       "    </tr>\n",
       "    <tr>\n",
       "      <th>4</th>\n",
       "      <td>Thor</td>\n",
       "      <td>92</td>\n",
       "    </tr>\n",
       "    <tr>\n",
       "      <th>5</th>\n",
       "      <td>Silver Surfer</td>\n",
       "      <td>84</td>\n",
       "    </tr>\n",
       "    <tr>\n",
       "      <th>6</th>\n",
       "      <td>Galactus</td>\n",
       "      <td>83</td>\n",
       "    </tr>\n",
       "    <tr>\n",
       "      <th>7</th>\n",
       "      <td>Dormammu</td>\n",
       "      <td>83</td>\n",
       "    </tr>\n",
       "    <tr>\n",
       "      <th>8</th>\n",
       "      <td>Ego</td>\n",
       "      <td>83</td>\n",
       "    </tr>\n",
       "    <tr>\n",
       "      <th>9</th>\n",
       "      <td>Northstar</td>\n",
       "      <td>83</td>\n",
       "    </tr>\n",
       "  </tbody>\n",
       "</table>\n",
       "</div>"
      ],
      "text/plain": [
       "            name  speed\n",
       "0     Black Bolt    100\n",
       "1       Stardust    100\n",
       "2    Quicksilver    100\n",
       "3           Nova    100\n",
       "4           Thor     92\n",
       "5  Silver Surfer     84\n",
       "6       Galactus     83\n",
       "7       Dormammu     83\n",
       "8            Ego     83\n",
       "9      Northstar     83"
      ]
     },
     "execution_count": 53,
     "metadata": {},
     "output_type": "execute_result"
    }
   ],
   "source": [
    "#Who are the 10 fastest in the MCU ?\n",
    "graph = py2neo.Graph(\"bolt://localhost:7687\", auth=(\"neo4j\", \"password_tuts\"))\n",
    "\n",
    "\n",
    "query = \"\"\"\n",
    "MATCH (c:Superhero)\n",
    "WHERE c.Speed IS NOT NULL\n",
    "RETURN c.name AS name, c.Speed AS speed\n",
    "ORDER BY c.Speed DESC\n",
    "LIMIT 10\n",
    "\"\"\"\n",
    "\n",
    "fastest_names = graph.run(query).to_data_frame()\n",
    "fastest_names\n"
   ]
  },
  {
   "cell_type": "code",
   "execution_count": 55,
   "metadata": {},
   "outputs": [
    {
     "name": "stdout",
     "output_type": "stream",
     "text": [
      "Galactus is related to Ego via RELATION\n",
      "Galactus is related to Dormammu via RELATION\n",
      "Galactus is related to Black Bolt via RELATION\n",
      "Galactus is related to Northstar via RELATION\n",
      "Galactus is related to Nova via RELATION\n",
      "Galactus is related to Stardust via RELATION\n",
      "Galactus is related to Silver Surfer via RELATION\n",
      "Galactus is related to Quicksilver via RELATION\n",
      "Galactus is related to Thor via RELATION\n",
      "Silver Surfer is related to Ego via RELATION\n",
      "Silver Surfer is related to Nova via RELATION\n",
      "Silver Surfer is related to Quicksilver via RELATION\n",
      "Silver Surfer is related to Black Bolt via RELATION\n",
      "Silver Surfer is related to Galactus via RELATION\n",
      "Silver Surfer is related to Dormammu via RELATION\n",
      "Silver Surfer is related to Stardust via RELATION\n",
      "Silver Surfer is related to Thor via RELATION\n",
      "Thor is related to Northstar via RELATION\n",
      "Thor is related to Ego via RELATION\n",
      "Thor is related to Silver Surfer via RELATION\n",
      "Thor is related to Nova via RELATION\n",
      "Thor is related to Black Bolt via RELATION\n",
      "Thor is related to Galactus via RELATION\n",
      "Thor is related to Quicksilver via RELATION\n",
      "Thor is related to Dormammu via RELATION\n",
      "Quicksilver is related to Dormammu via RELATION\n",
      "Quicksilver is related to Ego via RELATION\n",
      "Quicksilver is related to Nova via RELATION\n",
      "Quicksilver is related to Galactus via RELATION\n",
      "Quicksilver is related to Black Bolt via RELATION\n",
      "Quicksilver is related to Northstar via RELATION\n",
      "Quicksilver is related to Silver Surfer via RELATION\n",
      "Quicksilver is related to Thor via RELATION\n",
      "Dormammu is related to Quicksilver via RELATION\n",
      "Dormammu is related to Galactus via RELATION\n",
      "Dormammu is related to Thor via RELATION\n",
      "Dormammu is related to Silver Surfer via RELATION\n",
      "Ego is related to Galactus via RELATION\n",
      "Ego is related to Thor via RELATION\n",
      "Ego is related to Nova via RELATION\n",
      "Ego is related to Silver Surfer via RELATION\n",
      "Ego is related to Quicksilver via RELATION\n",
      "Nova is related to Black Bolt via RELATION\n",
      "Nova is related to Ego via RELATION\n",
      "Nova is related to Galactus via RELATION\n",
      "Nova is related to Silver Surfer via RELATION\n",
      "Nova is related to Quicksilver via RELATION\n",
      "Nova is related to Thor via RELATION\n",
      "Black Bolt is related to Nova via RELATION\n",
      "Black Bolt is related to Galactus via RELATION\n",
      "Black Bolt is related to Quicksilver via RELATION\n",
      "Black Bolt is related to Thor via RELATION\n",
      "Black Bolt is related to Silver Surfer via RELATION\n",
      "Northstar is related to Galactus via RELATION\n",
      "Northstar is related to Thor via RELATION\n",
      "Northstar is related to Quicksilver via RELATION\n",
      "Stardust is related to Silver Surfer via RELATION\n",
      "Stardust is related to Galactus via RELATION\n"
     ]
    }
   ],
   "source": [
    "\n",
    "fastest_characters = graph.run(query).data()\n",
    "fastest_names = [char['name'] for char in fastest_characters]\n",
    "\n",
    "query_relationships = \"\"\"\n",
    "MATCH (c1:Superhero)-[r]-(c2:Superhero)\n",
    "WHERE c1.name IN $names AND c2.name IN $names\n",
    "RETURN c1.name AS source, c2.name AS target, type(r) AS relationship\n",
    "\"\"\"\n",
    "\n",
    "relationships = graph.run(query_relationships, names=fastest_names).data()\n",
    "\n",
    "for rel in relationships:\n",
    "    print(f\"{rel['source']} is related to {rel['target']} via {rel['relationship']}\")\n"
   ]
  },
  {
   "cell_type": "code",
   "execution_count": 57,
   "metadata": {},
   "outputs": [
    {
     "data": {
      "text/html": [
       "<div>\n",
       "<style scoped>\n",
       "    .dataframe tbody tr th:only-of-type {\n",
       "        vertical-align: middle;\n",
       "    }\n",
       "\n",
       "    .dataframe tbody tr th {\n",
       "        vertical-align: top;\n",
       "    }\n",
       "\n",
       "    .dataframe thead th {\n",
       "        text-align: right;\n",
       "    }\n",
       "</style>\n",
       "<table border=\"1\" class=\"dataframe\">\n",
       "  <thead>\n",
       "    <tr style=\"text-align: right;\">\n",
       "      <th></th>\n",
       "      <th>Black Bolt</th>\n",
       "      <th>Stardust</th>\n",
       "      <th>Quicksilver</th>\n",
       "      <th>Nova</th>\n",
       "      <th>Thor</th>\n",
       "      <th>Silver Surfer</th>\n",
       "      <th>Galactus</th>\n",
       "      <th>Dormammu</th>\n",
       "      <th>Ego</th>\n",
       "      <th>Northstar</th>\n",
       "    </tr>\n",
       "  </thead>\n",
       "  <tbody>\n",
       "    <tr>\n",
       "      <th>Black Bolt</th>\n",
       "      <td>0</td>\n",
       "      <td>0</td>\n",
       "      <td>1</td>\n",
       "      <td>1</td>\n",
       "      <td>1</td>\n",
       "      <td>1</td>\n",
       "      <td>1</td>\n",
       "      <td>0</td>\n",
       "      <td>0</td>\n",
       "      <td>0</td>\n",
       "    </tr>\n",
       "    <tr>\n",
       "      <th>Stardust</th>\n",
       "      <td>0</td>\n",
       "      <td>0</td>\n",
       "      <td>0</td>\n",
       "      <td>0</td>\n",
       "      <td>0</td>\n",
       "      <td>1</td>\n",
       "      <td>1</td>\n",
       "      <td>0</td>\n",
       "      <td>0</td>\n",
       "      <td>0</td>\n",
       "    </tr>\n",
       "    <tr>\n",
       "      <th>Quicksilver</th>\n",
       "      <td>1</td>\n",
       "      <td>0</td>\n",
       "      <td>0</td>\n",
       "      <td>1</td>\n",
       "      <td>1</td>\n",
       "      <td>1</td>\n",
       "      <td>1</td>\n",
       "      <td>1</td>\n",
       "      <td>1</td>\n",
       "      <td>1</td>\n",
       "    </tr>\n",
       "    <tr>\n",
       "      <th>Nova</th>\n",
       "      <td>1</td>\n",
       "      <td>0</td>\n",
       "      <td>1</td>\n",
       "      <td>0</td>\n",
       "      <td>1</td>\n",
       "      <td>1</td>\n",
       "      <td>1</td>\n",
       "      <td>0</td>\n",
       "      <td>1</td>\n",
       "      <td>0</td>\n",
       "    </tr>\n",
       "    <tr>\n",
       "      <th>Thor</th>\n",
       "      <td>1</td>\n",
       "      <td>0</td>\n",
       "      <td>1</td>\n",
       "      <td>1</td>\n",
       "      <td>0</td>\n",
       "      <td>1</td>\n",
       "      <td>1</td>\n",
       "      <td>1</td>\n",
       "      <td>1</td>\n",
       "      <td>1</td>\n",
       "    </tr>\n",
       "    <tr>\n",
       "      <th>Silver Surfer</th>\n",
       "      <td>1</td>\n",
       "      <td>1</td>\n",
       "      <td>1</td>\n",
       "      <td>1</td>\n",
       "      <td>1</td>\n",
       "      <td>0</td>\n",
       "      <td>1</td>\n",
       "      <td>1</td>\n",
       "      <td>1</td>\n",
       "      <td>0</td>\n",
       "    </tr>\n",
       "    <tr>\n",
       "      <th>Galactus</th>\n",
       "      <td>1</td>\n",
       "      <td>1</td>\n",
       "      <td>1</td>\n",
       "      <td>1</td>\n",
       "      <td>1</td>\n",
       "      <td>1</td>\n",
       "      <td>0</td>\n",
       "      <td>1</td>\n",
       "      <td>1</td>\n",
       "      <td>1</td>\n",
       "    </tr>\n",
       "    <tr>\n",
       "      <th>Dormammu</th>\n",
       "      <td>0</td>\n",
       "      <td>0</td>\n",
       "      <td>1</td>\n",
       "      <td>0</td>\n",
       "      <td>1</td>\n",
       "      <td>1</td>\n",
       "      <td>1</td>\n",
       "      <td>0</td>\n",
       "      <td>0</td>\n",
       "      <td>0</td>\n",
       "    </tr>\n",
       "    <tr>\n",
       "      <th>Ego</th>\n",
       "      <td>0</td>\n",
       "      <td>0</td>\n",
       "      <td>1</td>\n",
       "      <td>1</td>\n",
       "      <td>1</td>\n",
       "      <td>1</td>\n",
       "      <td>1</td>\n",
       "      <td>0</td>\n",
       "      <td>0</td>\n",
       "      <td>0</td>\n",
       "    </tr>\n",
       "    <tr>\n",
       "      <th>Northstar</th>\n",
       "      <td>0</td>\n",
       "      <td>0</td>\n",
       "      <td>1</td>\n",
       "      <td>0</td>\n",
       "      <td>1</td>\n",
       "      <td>0</td>\n",
       "      <td>1</td>\n",
       "      <td>0</td>\n",
       "      <td>0</td>\n",
       "      <td>0</td>\n",
       "    </tr>\n",
       "  </tbody>\n",
       "</table>\n",
       "</div>"
      ],
      "text/plain": [
       "               Black Bolt  Stardust  Quicksilver  Nova  Thor  Silver Surfer  \\\n",
       "Black Bolt              0         0            1     1     1              1   \n",
       "Stardust                0         0            0     0     0              1   \n",
       "Quicksilver             1         0            0     1     1              1   \n",
       "Nova                    1         0            1     0     1              1   \n",
       "Thor                    1         0            1     1     0              1   \n",
       "Silver Surfer           1         1            1     1     1              0   \n",
       "Galactus                1         1            1     1     1              1   \n",
       "Dormammu                0         0            1     0     1              1   \n",
       "Ego                     0         0            1     1     1              1   \n",
       "Northstar               0         0            1     0     1              0   \n",
       "\n",
       "               Galactus  Dormammu  Ego  Northstar  \n",
       "Black Bolt            1         0    0          0  \n",
       "Stardust              1         0    0          0  \n",
       "Quicksilver           1         1    1          1  \n",
       "Nova                  1         0    1          0  \n",
       "Thor                  1         1    1          1  \n",
       "Silver Surfer         1         1    1          0  \n",
       "Galactus              0         1    1          1  \n",
       "Dormammu              1         0    0          0  \n",
       "Ego                   1         0    0          0  \n",
       "Northstar             1         0    0          0  "
      ]
     },
     "execution_count": 57,
     "metadata": {},
     "output_type": "execute_result"
    }
   ],
   "source": [
    "#Produisons une matrice pour observons les relations\n",
    "matrix = pd.DataFrame(0, index=fastest_names, columns=fastest_names)\n",
    "\n",
    "for rel in relationships:\n",
    "    matrix.at[rel['source'], rel['target']] = 1\n",
    "    matrix.at[rel['target'], rel['source']] = 1  \n",
    "\n",
    "matrix"
   ]
  },
  {
   "cell_type": "markdown",
   "metadata": {},
   "source": [
    "**TODO 2**: How many have collaborated atleast more than 10 times with another superhero?\n",
    "\n"
   ]
  },
  {
   "cell_type": "code",
   "execution_count": 58,
   "metadata": {},
   "outputs": [
    {
     "data": {
      "text/plain": [
       "4907"
      ]
     },
     "execution_count": 58,
     "metadata": {},
     "output_type": "execute_result"
    }
   ],
   "source": [
    "query = \"\"\"\n",
    "MATCH (c1:Superhero)-[r:RELATION]-(c2:Superhero)\n",
    "RETURN count(DISTINCT c1.id_ + c2.id_) AS collaboration_count\n",
    "\"\"\"\n",
    "\n",
    "collaboration_count = graph.run(query).evaluate()\n",
    "collaboration_count"
   ]
  },
  {
   "cell_type": "markdown",
   "metadata": {},
   "source": [
    "**TODO 3**: Did the weakest of the MCU collaborated with the strongest ?\n"
   ]
  },
  {
   "cell_type": "code",
   "execution_count": 66,
   "metadata": {},
   "outputs": [
    {
     "name": "stdout",
     "output_type": "stream",
     "text": [
      "Galactus\n",
      "Lady Deathstrike\n",
      "False\n"
     ]
    }
   ],
   "source": [
    "#Pour déterminer le \"strongest\" nous nous baserons sur la caractéristique \"Strength\", nous pourrions cependant tout aussi bien nous\n",
    "#intéressé à la somme des caractéristiques du perso.\n",
    "query_strength = \"\"\"\n",
    "MATCH (c:Superhero)\n",
    "WHERE c.Strength IS NOT NULL\n",
    "RETURN c.name AS name, c.Strength AS strength\n",
    "ORDER BY c.Strength DESC\n",
    "LIMIT 1\n",
    "\"\"\"\n",
    "\n",
    "query_weakest = \"\"\"\n",
    "MATCH (c:Superhero)\n",
    "WHERE c.Strength IS NOT NULL\n",
    "RETURN c.name AS name, c.Strength AS strength\n",
    "ORDER BY c.Strength ASC\n",
    "LIMIT 1\n",
    "\"\"\"\n",
    "\n",
    "strongest_character = graph.run(query_strength).evaluate('name')\n",
    "weakest_character = graph.run(query_weakest).evaluate('name')\n",
    "\n",
    "query_collaboration = \"\"\"\n",
    "MATCH (c1:Superhero)-[r:RELATION]-(c2:Superhero)\n",
    "WHERE c1.name = $strongest AND c2.name = $weakest\n",
    "RETURN count(r) > 0 AS collaborated\n",
    "\"\"\"\n",
    "\n",
    "collaborated = graph.run(query_collaboration, strongest=strongest_character, weakest=weakest_character).evaluate()\n",
    "print(strongest_character)\n",
    "print(weakest_character)\n",
    "print(collaborated)\n"
   ]
  },
  {
   "cell_type": "markdown",
   "metadata": {},
   "source": [
    "        -> Non le plus fort et le plus faible n'ont pas collaboré ensemble"
   ]
  },
  {
   "cell_type": "markdown",
   "metadata": {},
   "source": [
    "**TODO 4**: Give a stats that interests you !\n"
   ]
  },
  {
   "cell_type": "markdown",
   "metadata": {},
   "source": [
    "Nous allons nous intéresser au perso ayant les stats les plus polyvalentes du MCU. Pour ce faire, nous allons étudier le coefficient de variation tq CV= \n",
    "σ/μ\n",
    "​\n",
    ", le perso ayant le plus bas score de coefficient de variation sera alors le plus polyvalent."
   ]
  },
  {
   "cell_type": "code",
   "execution_count": 72,
   "metadata": {},
   "outputs": [
    {
     "data": {
      "text/plain": [
       "name            Dormammu\n",
       "Intelligence        88.0\n",
       "Strength            95.0\n",
       "Speed               83.0\n",
       "Durability         100.0\n",
       "Power              100.0\n",
       "Combat              80.0\n",
       "Total              546.0\n",
       "CV              0.094786\n",
       "Name: 130, dtype: object"
      ]
     },
     "execution_count": 72,
     "metadata": {},
     "output_type": "execute_result"
    }
   ],
   "source": [
    "\n",
    "query_stats = \"\"\"\n",
    "MATCH (c:Superhero)\n",
    "RETURN c.name AS name, c.Intelligence AS Intelligence, c.Strength AS Strength, \n",
    "       c.Speed AS Speed, c.Durability AS Durability, c.Power AS Power, \n",
    "       c.Combat AS Combat, c.Total AS Total\n",
    "\"\"\"\n",
    "\n",
    "data = graph.run(query_stats).to_data_frame()\n",
    "\n",
    "\n",
    "data['CV'] = data[['Intelligence', 'Strength', 'Speed', 'Durability', 'Power', 'Combat']].std(axis=1) / data[['Intelligence', 'Strength', 'Speed', 'Durability', 'Power', 'Combat']].mean(axis=1)\n",
    "\n",
    "most_versatile = data.sort_values('CV').iloc[0]\n",
    "most_versatile\n"
   ]
  },
  {
   "cell_type": "markdown",
   "metadata": {},
   "source": [
    "**TODO 5**: Create a new db called \"master\". Create a graph from the M1 class with name and random age between 20 and 30, Group of 3 that collab (undirected relation).\n"
   ]
  },
  {
   "cell_type": "code",
   "execution_count": null,
   "metadata": {},
   "outputs": [],
   "source": []
  },
  {
   "cell_type": "markdown",
   "metadata": {},
   "source": [
    "**TODO 6**: Get the age for people YOU collaborate with.\n"
   ]
  },
  {
   "cell_type": "code",
   "execution_count": null,
   "metadata": {},
   "outputs": [],
   "source": []
  },
  {
   "cell_type": "markdown",
   "metadata": {},
   "source": [
    "**TODO 7**: Get nodes with age > 25."
   ]
  },
  {
   "cell_type": "code",
   "execution_count": null,
   "metadata": {},
   "outputs": [],
   "source": []
  },
  {
   "cell_type": "markdown",
   "metadata": {},
   "source": [
    "### Real world problem:\n",
    "\n",
    "**TODO 8**: Using the downloaded data in TODO 11 of chapter II, create a collaboration network between authors for papers after 2021 (same author if same name). Insert it in neo4j in a db called \"arxiv\".\n",
    "\n",
    "**TODO 9**: Get the density of degrees of the collaboration network\n",
    "\n",
    "**TODO 10**: Do a for loop for i in range(500) for each i remove nodes with a degree less than i."
   ]
  },
  {
   "cell_type": "markdown",
   "metadata": {},
   "source": [
    "### Homework 3\n",
    "\n",
    "You will work again on [pubmed_last_100k.json](https://we.tl/t-6afLCDGRsg). The goal in this homework is to insert collaboration data in Neo4j and then study it using cypher queries. The following questions are meant to guide you through the process."
   ]
  },
  {
   "cell_type": "markdown",
   "metadata": {},
   "source": [
    "1) Each paper has a list of author and affiliations. The first step is to create a node per author with a list of affiliation as attribute. If a name appears multiple times consider it as a single person. Create an edge between two authors if they are on the same paper. You can use any kind of operation to clean the data before inserting, you decide which preprocessing step is the most convenient."
   ]
  },
  {
   "cell_type": "code",
   "execution_count": 2,
   "metadata": {},
   "outputs": [
    {
     "ename": "KeyboardInterrupt",
     "evalue": "",
     "output_type": "error",
     "traceback": [
      "\u001b[1;31m---------------------------------------------------------------------------\u001b[0m",
      "\u001b[1;31mKeyboardInterrupt\u001b[0m                         Traceback (most recent call last)",
      "Cell \u001b[1;32mIn[2], line 18\u001b[0m\n\u001b[0;32m     15\u001b[0m \u001b[38;5;28;01mfor\u001b[39;00m i \u001b[38;5;129;01min\u001b[39;00m \u001b[38;5;28mrange\u001b[39m(\u001b[38;5;28mlen\u001b[39m(authors_affiliations)):\n\u001b[0;32m     16\u001b[0m     author1, affiliation1 \u001b[38;5;241m=\u001b[39m authors_affiliations[i]\n\u001b[1;32m---> 18\u001b[0m     \u001b[43mgraph\u001b[49m\u001b[38;5;241;43m.\u001b[39;49m\u001b[43mrun\u001b[49m\u001b[43m(\u001b[49m\n\u001b[0;32m     19\u001b[0m \u001b[43m        \u001b[49m\u001b[38;5;124;43m\"\u001b[39;49m\u001b[38;5;124;43mMERGE (a:Author \u001b[39;49m\u001b[38;5;124;43m{\u001b[39;49m\u001b[38;5;124;43mname: $name}) \u001b[39;49m\u001b[38;5;124;43m\"\u001b[39;49m\n\u001b[0;32m     20\u001b[0m \u001b[43m        \u001b[49m\u001b[38;5;124;43m\"\u001b[39;49m\u001b[38;5;124;43mSET a.affiliations = COALESCE(a.affiliations, []) + [$affiliation]\u001b[39;49m\u001b[38;5;124;43m\"\u001b[39;49m\u001b[43m,\u001b[49m\n\u001b[0;32m     21\u001b[0m \u001b[43m        \u001b[49m\u001b[43mname\u001b[49m\u001b[38;5;241;43m=\u001b[39;49m\u001b[43mauthor1\u001b[49m\u001b[43m,\u001b[49m\u001b[43m \u001b[49m\u001b[43maffiliation\u001b[49m\u001b[38;5;241;43m=\u001b[39;49m\u001b[43maffiliation1\u001b[49m\n\u001b[0;32m     22\u001b[0m \u001b[43m    \u001b[49m\u001b[43m)\u001b[49m\n\u001b[0;32m     24\u001b[0m     \u001b[38;5;28;01mfor\u001b[39;00m j \u001b[38;5;129;01min\u001b[39;00m \u001b[38;5;28mrange\u001b[39m(i \u001b[38;5;241m+\u001b[39m \u001b[38;5;241m1\u001b[39m, \u001b[38;5;28mlen\u001b[39m(authors_affiliations)):\n\u001b[0;32m     25\u001b[0m         author2, affiliation2 \u001b[38;5;241m=\u001b[39m authors_affiliations[j]\n",
      "File \u001b[1;32m~\\AppData\\Local\\Packages\\PythonSoftwareFoundation.Python.3.12_qbz5n2kfra8p0\\LocalCache\\local-packages\\Python312\\site-packages\\py2neo\\database.py:405\u001b[0m, in \u001b[0;36mGraph.run\u001b[1;34m(self, cypher, parameters, **kwparameters)\u001b[0m\n\u001b[0;32m    395\u001b[0m \u001b[38;5;28;01mdef\u001b[39;00m \u001b[38;5;21mrun\u001b[39m(\u001b[38;5;28mself\u001b[39m, cypher, parameters\u001b[38;5;241m=\u001b[39m\u001b[38;5;28;01mNone\u001b[39;00m, \u001b[38;5;241m*\u001b[39m\u001b[38;5;241m*\u001b[39mkwparameters):\n\u001b[0;32m    396\u001b[0m \u001b[38;5;250m    \u001b[39m\u001b[38;5;124;03m\"\"\" Run a single read/write query within an auto-commit\u001b[39;00m\n\u001b[0;32m    397\u001b[0m \u001b[38;5;124;03m    :class:`~py2neo.Transaction`.\u001b[39;00m\n\u001b[0;32m    398\u001b[0m \n\u001b[1;32m   (...)\u001b[0m\n\u001b[0;32m    403\u001b[0m \u001b[38;5;124;03m    :return:\u001b[39;00m\n\u001b[0;32m    404\u001b[0m \u001b[38;5;124;03m    \"\"\"\u001b[39;00m\n\u001b[1;32m--> 405\u001b[0m     \u001b[38;5;28;01mreturn\u001b[39;00m \u001b[38;5;28;43mself\u001b[39;49m\u001b[38;5;241;43m.\u001b[39;49m\u001b[43mauto\u001b[49m\u001b[43m(\u001b[49m\u001b[43m)\u001b[49m\u001b[38;5;241;43m.\u001b[39;49m\u001b[43mrun\u001b[49m\u001b[43m(\u001b[49m\u001b[43mcypher\u001b[49m\u001b[43m,\u001b[49m\u001b[43m \u001b[49m\u001b[43mparameters\u001b[49m\u001b[43m,\u001b[49m\u001b[43m \u001b[49m\u001b[38;5;241;43m*\u001b[39;49m\u001b[38;5;241;43m*\u001b[39;49m\u001b[43mkwparameters\u001b[49m\u001b[43m)\u001b[49m\n",
      "File \u001b[1;32m~\\AppData\\Local\\Packages\\PythonSoftwareFoundation.Python.3.12_qbz5n2kfra8p0\\LocalCache\\local-packages\\Python312\\site-packages\\py2neo\\database.py:992\u001b[0m, in \u001b[0;36mTransaction.run\u001b[1;34m(self, cypher, parameters, **kwparameters)\u001b[0m\n\u001b[0;32m    988\u001b[0m     \u001b[38;5;28;01melse\u001b[39;00m:\n\u001b[0;32m    989\u001b[0m         result \u001b[38;5;241m=\u001b[39m \u001b[38;5;28mself\u001b[39m\u001b[38;5;241m.\u001b[39m_connector\u001b[38;5;241m.\u001b[39mauto_run(cypher, parameters,\n\u001b[0;32m    990\u001b[0m                                           graph_name\u001b[38;5;241m=\u001b[39m\u001b[38;5;28mself\u001b[39m\u001b[38;5;241m.\u001b[39mgraph\u001b[38;5;241m.\u001b[39mname,\n\u001b[0;32m    991\u001b[0m                                           readonly\u001b[38;5;241m=\u001b[39m\u001b[38;5;28mself\u001b[39m\u001b[38;5;241m.\u001b[39mreadonly)\n\u001b[1;32m--> 992\u001b[0m     \u001b[38;5;28;43mself\u001b[39;49m\u001b[38;5;241;43m.\u001b[39;49m\u001b[43m_connector\u001b[49m\u001b[38;5;241;43m.\u001b[39;49m\u001b[43mpull\u001b[49m\u001b[43m(\u001b[49m\u001b[43mresult\u001b[49m\u001b[43m,\u001b[49m\u001b[43m \u001b[49m\u001b[38;5;241;43m-\u001b[39;49m\u001b[38;5;241;43m1\u001b[39;49m\u001b[43m)\u001b[49m\n\u001b[0;32m    993\u001b[0m     \u001b[38;5;28;01mreturn\u001b[39;00m Cursor(result, hydrant)\n\u001b[0;32m    994\u001b[0m \u001b[38;5;28;01mfinally\u001b[39;00m:\n",
      "File \u001b[1;32m~\\AppData\\Local\\Packages\\PythonSoftwareFoundation.Python.3.12_qbz5n2kfra8p0\\LocalCache\\local-packages\\Python312\\site-packages\\py2neo\\client\\__init__.py:1434\u001b[0m, in \u001b[0;36mConnector.pull\u001b[1;34m(self, result, n)\u001b[0m\n\u001b[0;32m   1432\u001b[0m cx \u001b[38;5;241m=\u001b[39m \u001b[38;5;28mself\u001b[39m\u001b[38;5;241m.\u001b[39m_reacquire(result\u001b[38;5;241m.\u001b[39mtransaction)\n\u001b[0;32m   1433\u001b[0m \u001b[38;5;28;01mtry\u001b[39;00m:\n\u001b[1;32m-> 1434\u001b[0m     \u001b[43mcx\u001b[49m\u001b[38;5;241;43m.\u001b[39;49m\u001b[43mpull\u001b[49m\u001b[43m(\u001b[49m\u001b[43mresult\u001b[49m\u001b[43m,\u001b[49m\u001b[43m \u001b[49m\u001b[43mn\u001b[49m\u001b[38;5;241;43m=\u001b[39;49m\u001b[43mn\u001b[49m\u001b[43m)\u001b[49m\n\u001b[0;32m   1435\u001b[0m \u001b[38;5;28;01mexcept\u001b[39;00m (ConnectionUnavailable, ConnectionBroken):\n\u001b[0;32m   1436\u001b[0m     \u001b[38;5;28mself\u001b[39m\u001b[38;5;241m.\u001b[39mprune(cx\u001b[38;5;241m.\u001b[39mprofile)\n",
      "File \u001b[1;32m~\\AppData\\Local\\Packages\\PythonSoftwareFoundation.Python.3.12_qbz5n2kfra8p0\\LocalCache\\local-packages\\Python312\\site-packages\\py2neo\\client\\bolt.py:995\u001b[0m, in \u001b[0;36mBolt4x0.pull\u001b[1;34m(self, result, n, capacity)\u001b[0m\n\u001b[0;32m    993\u001b[0m result\u001b[38;5;241m.\u001b[39mappend(response, final\u001b[38;5;241m=\u001b[39m(n \u001b[38;5;241m==\u001b[39m \u001b[38;5;241m-\u001b[39m\u001b[38;5;241m1\u001b[39m))\n\u001b[0;32m    994\u001b[0m \u001b[38;5;28;01mtry\u001b[39;00m:\n\u001b[1;32m--> 995\u001b[0m     \u001b[38;5;28;43mself\u001b[39;49m\u001b[38;5;241;43m.\u001b[39;49m\u001b[43m_sync\u001b[49m\u001b[43m(\u001b[49m\u001b[43mresponse\u001b[49m\u001b[43m)\u001b[49m\n\u001b[0;32m    996\u001b[0m \u001b[38;5;28;01mexcept\u001b[39;00m BrokenWireError \u001b[38;5;28;01mas\u001b[39;00m error:\n\u001b[0;32m    997\u001b[0m     result\u001b[38;5;241m.\u001b[39mtransaction\u001b[38;5;241m.\u001b[39mmark_broken()\n",
      "File \u001b[1;32m~\\AppData\\Local\\Packages\\PythonSoftwareFoundation.Python.3.12_qbz5n2kfra8p0\\LocalCache\\local-packages\\Python312\\site-packages\\py2neo\\client\\bolt.py:799\u001b[0m, in \u001b[0;36mBolt1._sync\u001b[1;34m(self, *responses)\u001b[0m\n\u001b[0;32m    797\u001b[0m \u001b[38;5;28mself\u001b[39m\u001b[38;5;241m.\u001b[39msend()\n\u001b[0;32m    798\u001b[0m \u001b[38;5;28;01mfor\u001b[39;00m response \u001b[38;5;129;01min\u001b[39;00m responses:\n\u001b[1;32m--> 799\u001b[0m     \u001b[38;5;28;43mself\u001b[39;49m\u001b[38;5;241;43m.\u001b[39;49m\u001b[43m_wait\u001b[49m\u001b[43m(\u001b[49m\u001b[43mresponse\u001b[49m\u001b[43m)\u001b[49m\n",
      "File \u001b[1;32m~\\AppData\\Local\\Packages\\PythonSoftwareFoundation.Python.3.12_qbz5n2kfra8p0\\LocalCache\\local-packages\\Python312\\site-packages\\py2neo\\client\\bolt.py:794\u001b[0m, in \u001b[0;36mBolt1._wait\u001b[1;34m(self, response)\u001b[0m\n\u001b[0;32m    787\u001b[0m \u001b[38;5;250m\u001b[39m\u001b[38;5;124;03m\"\"\" Read all incoming responses up to and including a\u001b[39;00m\n\u001b[0;32m    788\u001b[0m \u001b[38;5;124;03mparticular response.\u001b[39;00m\n\u001b[0;32m    789\u001b[0m \n\u001b[0;32m    790\u001b[0m \u001b[38;5;124;03mThis method calls fetch, but does not raise an exception on\u001b[39;00m\n\u001b[0;32m    791\u001b[0m \u001b[38;5;124;03mFAILURE.\u001b[39;00m\n\u001b[0;32m    792\u001b[0m \u001b[38;5;124;03m\"\"\"\u001b[39;00m\n\u001b[0;32m    793\u001b[0m \u001b[38;5;28;01mwhile\u001b[39;00m \u001b[38;5;129;01mnot\u001b[39;00m response\u001b[38;5;241m.\u001b[39mfull() \u001b[38;5;129;01mand\u001b[39;00m \u001b[38;5;129;01mnot\u001b[39;00m response\u001b[38;5;241m.\u001b[39mdone():\n\u001b[1;32m--> 794\u001b[0m     \u001b[38;5;28;43mself\u001b[39;49m\u001b[38;5;241;43m.\u001b[39;49m\u001b[43m_fetch\u001b[49m\u001b[43m(\u001b[49m\u001b[43m)\u001b[49m\n",
      "File \u001b[1;32m~\\AppData\\Local\\Packages\\PythonSoftwareFoundation.Python.3.12_qbz5n2kfra8p0\\LocalCache\\local-packages\\Python312\\site-packages\\py2neo\\client\\bolt.py:769\u001b[0m, in \u001b[0;36mBolt1._fetch\u001b[1;34m(self)\u001b[0m\n\u001b[0;32m    760\u001b[0m \u001b[38;5;28;01mdef\u001b[39;00m \u001b[38;5;21m_fetch\u001b[39m(\u001b[38;5;28mself\u001b[39m):\n\u001b[0;32m    761\u001b[0m \u001b[38;5;250m    \u001b[39m\u001b[38;5;124;03m\"\"\" Fetch and process the next incoming message.\u001b[39;00m\n\u001b[0;32m    762\u001b[0m \n\u001b[0;32m    763\u001b[0m \u001b[38;5;124;03m    This method does not raise an exception on receipt of a\u001b[39;00m\n\u001b[1;32m   (...)\u001b[0m\n\u001b[0;32m    767\u001b[0m \u001b[38;5;124;03m    failed state into an exception.\u001b[39;00m\n\u001b[0;32m    768\u001b[0m \u001b[38;5;124;03m    \"\"\"\u001b[39;00m\n\u001b[1;32m--> 769\u001b[0m     tag, fields \u001b[38;5;241m=\u001b[39m \u001b[38;5;28;43mself\u001b[39;49m\u001b[38;5;241;43m.\u001b[39;49m\u001b[43mread_message\u001b[49m\u001b[43m(\u001b[49m\u001b[43m)\u001b[49m\n\u001b[0;32m    770\u001b[0m     \u001b[38;5;28;01mif\u001b[39;00m tag \u001b[38;5;241m==\u001b[39m \u001b[38;5;241m0x70\u001b[39m:\n\u001b[0;32m    771\u001b[0m         \u001b[38;5;28mself\u001b[39m\u001b[38;5;241m.\u001b[39m_responses\u001b[38;5;241m.\u001b[39mpopleft()\u001b[38;5;241m.\u001b[39mset_success(\u001b[38;5;241m*\u001b[39m\u001b[38;5;241m*\u001b[39mfields[\u001b[38;5;241m0\u001b[39m])\n",
      "File \u001b[1;32m~\\AppData\\Local\\Packages\\PythonSoftwareFoundation.Python.3.12_qbz5n2kfra8p0\\LocalCache\\local-packages\\Python312\\site-packages\\py2neo\\client\\bolt.py:696\u001b[0m, in \u001b[0;36mBolt1.read_message\u001b[1;34m(self)\u001b[0m\n\u001b[0;32m    695\u001b[0m \u001b[38;5;28;01mdef\u001b[39;00m \u001b[38;5;21mread_message\u001b[39m(\u001b[38;5;28mself\u001b[39m):\n\u001b[1;32m--> 696\u001b[0m     tag, fields \u001b[38;5;241m=\u001b[39m \u001b[38;5;28;43mself\u001b[39;49m\u001b[38;5;241;43m.\u001b[39;49m\u001b[43m_reader\u001b[49m\u001b[38;5;241;43m.\u001b[39;49m\u001b[43mread_message\u001b[49m\u001b[43m(\u001b[49m\u001b[43m)\u001b[49m\n\u001b[0;32m    697\u001b[0m     \u001b[38;5;28;01mif\u001b[39;00m tag \u001b[38;5;241m==\u001b[39m \u001b[38;5;241m0x71\u001b[39m:\n\u001b[0;32m    698\u001b[0m         \u001b[38;5;66;03m# If a RECORD is received, check for more records\u001b[39;00m\n\u001b[0;32m    699\u001b[0m         \u001b[38;5;66;03m# in the buffer immediately following, and log and\u001b[39;00m\n\u001b[0;32m    700\u001b[0m         \u001b[38;5;66;03m# add them all at the same time\u001b[39;00m\n\u001b[0;32m    701\u001b[0m         \u001b[38;5;28;01mwhile\u001b[39;00m \u001b[38;5;28mself\u001b[39m\u001b[38;5;241m.\u001b[39m_reader\u001b[38;5;241m.\u001b[39mpeek_message() \u001b[38;5;241m==\u001b[39m \u001b[38;5;241m0x71\u001b[39m:\n",
      "File \u001b[1;32m~\\AppData\\Local\\Packages\\PythonSoftwareFoundation.Python.3.12_qbz5n2kfra8p0\\LocalCache\\local-packages\\Python312\\site-packages\\py2neo\\client\\bolt.py:156\u001b[0m, in \u001b[0;36mBoltMessageReader.read_message\u001b[1;34m(self)\u001b[0m\n\u001b[0;32m    154\u001b[0m \u001b[38;5;28;01mwhile\u001b[39;00m \u001b[38;5;28;01mTrue\u001b[39;00m:\n\u001b[0;32m    155\u001b[0m     \u001b[38;5;28;01mtry\u001b[39;00m:\n\u001b[1;32m--> 156\u001b[0m         hi, lo \u001b[38;5;241m=\u001b[39m \u001b[38;5;28;43mself\u001b[39;49m\u001b[38;5;241;43m.\u001b[39;49m\u001b[43mwire\u001b[49m\u001b[38;5;241;43m.\u001b[39;49m\u001b[43mread\u001b[49m\u001b[43m(\u001b[49m\u001b[38;5;241;43m2\u001b[39;49m\u001b[43m)\u001b[49m\n\u001b[0;32m    157\u001b[0m     \u001b[38;5;28;01mexcept\u001b[39;00m WireError \u001b[38;5;28;01mas\u001b[39;00m error:\n\u001b[0;32m    158\u001b[0m         raise_from(ConnectionBroken(\u001b[38;5;124m\"\u001b[39m\u001b[38;5;124mFailed to read message\u001b[39m\u001b[38;5;124m\"\u001b[39m), error)\n",
      "File \u001b[1;32m~\\AppData\\Local\\Packages\\PythonSoftwareFoundation.Python.3.12_qbz5n2kfra8p0\\LocalCache\\local-packages\\Python312\\site-packages\\py2neo\\wiring.py:117\u001b[0m, in \u001b[0;36mWire.read\u001b[1;34m(self, n)\u001b[0m\n\u001b[0;32m    115\u001b[0m requested \u001b[38;5;241m=\u001b[39m \u001b[38;5;28mmax\u001b[39m(required, \u001b[38;5;241m16384\u001b[39m)\n\u001b[0;32m    116\u001b[0m \u001b[38;5;28;01mtry\u001b[39;00m:\n\u001b[1;32m--> 117\u001b[0m     received \u001b[38;5;241m=\u001b[39m \u001b[38;5;28;43mself\u001b[39;49m\u001b[38;5;241;43m.\u001b[39;49m\u001b[43m__socket\u001b[49m\u001b[38;5;241;43m.\u001b[39;49m\u001b[43mrecv\u001b[49m\u001b[43m(\u001b[49m\u001b[43mrequested\u001b[49m\u001b[43m)\u001b[49m\n\u001b[0;32m    118\u001b[0m \u001b[38;5;28;01mexcept\u001b[39;00m (\u001b[38;5;167;01mIOError\u001b[39;00m, \u001b[38;5;167;01mOSError\u001b[39;00m):\n\u001b[0;32m    119\u001b[0m     \u001b[38;5;28mself\u001b[39m\u001b[38;5;241m.\u001b[39m__mark_broken(\u001b[38;5;124m\"\u001b[39m\u001b[38;5;124mWire broken\u001b[39m\u001b[38;5;124m\"\u001b[39m)\n",
      "\u001b[1;31mKeyboardInterrupt\u001b[0m: "
     ]
    }
   ],
   "source": [
    "import json\n",
    "import re\n",
    "from py2neo import Graph\n",
    "\n",
    "graph = Graph(\"bolt://localhost:7687\", auth=(\"neo4j\", \"password_tuts\"))\n",
    "\n",
    "json_fp = \"/Users/valen/Desktop/data/Chap3/pubmed_cleaned/pubmed_cleaned.json\"\n",
    "with open(json_fp, \"r\") as file:\n",
    "    data = json.load(file)\n",
    "\n",
    "for entry in data:\n",
    "    title = entry['title']\n",
    "    authors_affiliations = re.findall(r'name ml (.*?), affil str (.*?)\\.', entry['authors'])\n",
    "\n",
    "    for i in range(len(authors_affiliations)):\n",
    "        author1, affiliation1 = authors_affiliations[i]\n",
    "\n",
    "        graph.run(\n",
    "            \"MERGE (a:Author {name: $name}) \"\n",
    "            \"SET a.affiliations = COALESCE(a.affiliations, []) + [$affiliation]\",\n",
    "            name=author1, affiliation=affiliation1\n",
    "        )\n",
    "\n",
    "        for j in range(i + 1, len(authors_affiliations)):\n",
    "            author2, affiliation2 = authors_affiliations[j]\n",
    "\n",
    "            graph.run(\n",
    "                \"MERGE (b:Author {name: $name}) \"\n",
    "                \"SET b.affiliations = COALESCE(b.affiliations, []) + [$affiliation]\",\n",
    "                name=author2, affiliation=affiliation2\n",
    "            )\n",
    "\n",
    "            graph.run(\n",
    "                \"MATCH (a:Author {name: $name1}), (b:Author {name: $name2}) \"\n",
    "                \"MERGE (a)-[:SAME_TITLE]->(b)\",\n",
    "                name1=author1, name2=author2\n",
    "            )"
   ]
  },
  {
   "cell_type": "markdown",
   "metadata": {},
   "source": [
    "        -> Après près de 1min30 de chargement j'ai cut, nous exécuterons les questions suivantes avec le peu de données que nous possédons, risquant de ne pas avoir les bons output"
   ]
  },
  {
   "cell_type": "markdown",
   "metadata": {},
   "source": [
    "2) How many authors have more than 2 affiliations ?"
   ]
  },
  {
   "cell_type": "code",
   "execution_count": 4,
   "metadata": {},
   "outputs": [
    {
     "name": "stdout",
     "output_type": "stream",
     "text": [
      "Number of authors with more than 2 affiliations: 8316\n"
     ]
    }
   ],
   "source": [
    "from py2neo import Graph\n",
    "\n",
    "result = graph.run(\n",
    "    \"MATCH (a:Author) \"\n",
    "    \"WHERE size(a.affiliations) > 2 \"\n",
    "    \"RETURN count(a) AS authors_with_more_than_two_affiliations\"\n",
    ")\n",
    "\n",
    "count_result = result.next()\n",
    "if count_result:\n",
    "    count = count_result[\"authors_with_more_than_two_affiliations\"]\n",
    "    print(f\"Number of authors with more than 2 affiliations: {count}\")\n",
    "else:\n",
    "    print(\"No result found.\")\n"
   ]
  },
  {
   "cell_type": "markdown",
   "metadata": {},
   "source": [
    "3) Create a density of node degrees. Do you observe a power scale law ? What does it mean ?\n"
   ]
  },
  {
   "cell_type": "code",
   "execution_count": 5,
   "metadata": {},
   "outputs": [],
   "source": [
    "import matplotlib.pyplot as plt\n",
    "from collections import Counter"
   ]
  },
  {
   "cell_type": "code",
   "execution_count": 24,
   "metadata": {},
   "outputs": [
    {
     "data": {
      "image/png": "[encoded data removed]",
      "text/plain": [
       "<Figure size 1000x600 with 1 Axes>"
      ]
     },
     "metadata": {},
     "output_type": "display_data"
    }
   ],
   "source": [
    "query = \"\"\"\n",
    "MATCH (n:Author)-[r]-()\n",
    "RETURN n.name AS author, count(r) AS degree\n",
    "\"\"\"\n",
    "\n",
    "degrees = [record['degree'] for record in graph.run(query)]\n",
    "\n",
    "degree_counts = Counter(degrees)\n",
    "\n",
    "x, y = zip(*sorted(degree_counts.items()))\n",
    "\n",
    "plt.figure(figsize=(10, 6))\n",
    "plt.plot(x, y, marker='o')\n",
    "plt.xlabel(\"Degree\")\n",
    "plt.ylabel(\"Frequency\")\n",
    "plt.xscale('log')\n",
    "plt.title(\"Degree Distribution\")\n",
    "plt.grid(True)\n",
    "plt.show()"
   ]
  },
  {
   "cell_type": "markdown",
   "metadata": {},
   "source": [
    "        -> Nous observons plutôt une distribution binomiale négative au vu du sommet de la cloche en 10 du fait que la grand majorité des articles aient peu d'auteurs tandis que les papiers ayant le plus d'auteurs se font rare. Ce résultat est logique."
   ]
  },
  {
   "cell_type": "markdown",
   "metadata": {},
   "source": [
    "4) Which country has seen the most international collaboration ?"
   ]
  },
  {
   "cell_type": "code",
   "execution_count": 7,
   "metadata": {},
   "outputs": [
    {
     "data": {
      "text/plain": [
       "[{'country': ' USA', 'collaborations': 15180}]"
      ]
     },
     "execution_count": 7,
     "metadata": {},
     "output_type": "execute_result"
    }
   ],
   "source": [
    "result = graph.run(\n",
    "    \"MATCH (a:Author)-[:SAME_TITLE]-(b:Author) \"\n",
    "    \"WHERE size([aff IN a.affiliations WHERE aff =~ '.*, [A-Z]{2,}' ]) > 0 \"\n",
    "    \"AND size([aff IN b.affiliations WHERE aff =~ '.*, [A-Z]{2,}' ]) > 0 \"\n",
    "    \"AND ANY(aff1 IN a.affiliations WHERE ANY(aff2 IN b.affiliations WHERE aff1 <> aff2)) \"\n",
    "    \"WITH last(split(head([aff IN a.affiliations WHERE aff =~ '.*, [A-Z]{2,}' ]), ',')) AS country1, \"\n",
    "    \"     last(split(head([aff IN b.affiliations WHERE aff =~ '.*, [A-Z]{2,}' ]), ',')) AS country2 \"\n",
    "    \"WHERE country1 <> country2 \"\n",
    "    \"RETURN country1 AS country, COUNT(*) AS collaborations \"\n",
    "    \"ORDER BY collaborations DESC \"\n",
    "    \"LIMIT 1\"\n",
    ")\n",
    "\n",
    "result.data()"
   ]
  },
  {
   "cell_type": "markdown",
   "metadata": {},
   "source": [
    "5) Who are the top 10 collaborators and what is their affiliation ?"
   ]
  },
  {
   "cell_type": "code",
   "execution_count": 14,
   "metadata": {},
   "outputs": [
    {
     "data": {
      "text/html": [
       "<div>\n",
       "<style scoped>\n",
       "    .dataframe tbody tr th:only-of-type {\n",
       "        vertical-align: middle;\n",
       "    }\n",
       "\n",
       "    .dataframe tbody tr th {\n",
       "        vertical-align: top;\n",
       "    }\n",
       "\n",
       "    .dataframe thead th {\n",
       "        text-align: right;\n",
       "    }\n",
       "</style>\n",
       "<table border=\"1\" class=\"dataframe\">\n",
       "  <thead>\n",
       "    <tr style=\"text-align: right;\">\n",
       "      <th></th>\n",
       "      <th>author_name</th>\n",
       "      <th>affiliations</th>\n",
       "      <th>collaborations</th>\n",
       "    </tr>\n",
       "  </thead>\n",
       "  <tbody>\n",
       "    <tr>\n",
       "      <th>0</th>\n",
       "      <td>Tirant M</td>\n",
       "      <td>[University of Rome G, University of Rome G, U...</td>\n",
       "      <td>6044</td>\n",
       "    </tr>\n",
       "    <tr>\n",
       "      <th>1</th>\n",
       "      <td>Tirant M</td>\n",
       "      <td>[University of Rome G, University of Rome G, U...</td>\n",
       "      <td>6041</td>\n",
       "    </tr>\n",
       "    <tr>\n",
       "      <th>2</th>\n",
       "      <td>Tirant M</td>\n",
       "      <td>[University of Rome G, University of Rome G, U...</td>\n",
       "      <td>6024</td>\n",
       "    </tr>\n",
       "    <tr>\n",
       "      <th>3</th>\n",
       "      <td>Tirant M</td>\n",
       "      <td>[University of Rome G, University of Rome G, U...</td>\n",
       "      <td>5997</td>\n",
       "    </tr>\n",
       "    <tr>\n",
       "      <th>4</th>\n",
       "      <td>Tirant M</td>\n",
       "      <td>[University of Rome G, University of Rome G, U...</td>\n",
       "      <td>5960</td>\n",
       "    </tr>\n",
       "    <tr>\n",
       "      <th>5</th>\n",
       "      <td>Satolli F</td>\n",
       "      <td>[Unit of Dermatology, University of Parma, Par...</td>\n",
       "      <td>5953</td>\n",
       "    </tr>\n",
       "    <tr>\n",
       "      <th>6</th>\n",
       "      <td>Vojvodic A</td>\n",
       "      <td>[Department of Dermatology and Venereology, Mi...</td>\n",
       "      <td>5949</td>\n",
       "    </tr>\n",
       "    <tr>\n",
       "      <th>7</th>\n",
       "      <td>Satolli F</td>\n",
       "      <td>[Unit of Dermatology, University of Parma, Par...</td>\n",
       "      <td>5947</td>\n",
       "    </tr>\n",
       "    <tr>\n",
       "      <th>8</th>\n",
       "      <td>Gandolfi M</td>\n",
       "      <td>[Unit of Dermatology, University of Parma, Par...</td>\n",
       "      <td>5946</td>\n",
       "    </tr>\n",
       "    <tr>\n",
       "      <th>9</th>\n",
       "      <td>Vojvodic A</td>\n",
       "      <td>[Department of Dermatology and Venereology, Mi...</td>\n",
       "      <td>5942</td>\n",
       "    </tr>\n",
       "  </tbody>\n",
       "</table>\n",
       "</div>"
      ],
      "text/plain": [
       "  author_name                                       affiliations  \\\n",
       "0    Tirant M  [University of Rome G, University of Rome G, U...   \n",
       "1    Tirant M  [University of Rome G, University of Rome G, U...   \n",
       "2    Tirant M  [University of Rome G, University of Rome G, U...   \n",
       "3    Tirant M  [University of Rome G, University of Rome G, U...   \n",
       "4    Tirant M  [University of Rome G, University of Rome G, U...   \n",
       "5   Satolli F  [Unit of Dermatology, University of Parma, Par...   \n",
       "6  Vojvodic A  [Department of Dermatology and Venereology, Mi...   \n",
       "7   Satolli F  [Unit of Dermatology, University of Parma, Par...   \n",
       "8  Gandolfi M  [Unit of Dermatology, University of Parma, Par...   \n",
       "9  Vojvodic A  [Department of Dermatology and Venereology, Mi...   \n",
       "\n",
       "   collaborations  \n",
       "0            6044  \n",
       "1            6041  \n",
       "2            6024  \n",
       "3            5997  \n",
       "4            5960  \n",
       "5            5953  \n",
       "6            5949  \n",
       "7            5947  \n",
       "8            5946  \n",
       "9            5942  "
      ]
     },
     "execution_count": 14,
     "metadata": {},
     "output_type": "execute_result"
    }
   ],
   "source": [
    "import pandas as pd \n",
    "\n",
    "result = graph.run(\n",
    "    \"MATCH (a:Author)-[r:SAME_TITLE]-(b:Author) \"\n",
    "    \"WITH a, COUNT(r) AS collaborations \"\n",
    "    \"ORDER BY collaborations DESC \"\n",
    "    \"LIMIT 10 \"\n",
    "    \"RETURN a.name AS author_name, a.affiliations AS affiliations, collaborations\"\n",
    ")\n",
    "\n",
    "data = result.data()\n",
    "df = pd.DataFrame(data)\n",
    "df\n"
   ]
  },
  {
   "cell_type": "markdown",
   "metadata": {},
   "source": [
    "\n",
    "6) Sandbox exercise: think of a problematic and try to answer it."
   ]
  },
  {
   "cell_type": "markdown",
   "metadata": {},
   "source": [
    "        ->Déterminer les sujets de recherche les plus courants dans les documents de collaboration."
   ]
  },
  {
   "cell_type": "code",
   "execution_count": 20,
   "metadata": {},
   "outputs": [
    {
     "name": "stderr",
     "output_type": "stream",
     "text": [
      "[nltk_data] Downloading package stopwords to\n",
      "[nltk_data]     C:\\Users\\valen\\AppData\\Roaming\\nltk_data...\n",
      "[nltk_data]   Unzipping corpora\\stopwords.zip.\n",
      "[nltk_data] Downloading package punkt to\n",
      "[nltk_data]     C:\\Users\\valen\\AppData\\Roaming\\nltk_data...\n",
      "[nltk_data]   Unzipping tokenizers\\punkt.zip.\n",
      "[nltk_data] Downloading package wordnet to\n",
      "[nltk_data]     C:\\Users\\valen\\AppData\\Roaming\\nltk_data...\n"
     ]
    },
    {
     "name": "stdout",
     "output_type": "stream",
     "text": [
      "Top 10 Research Topics:\n",
      "cell: 151\n",
      "patient: 133\n",
      "cancer: 120\n",
      "study: 99\n",
      "treatment: 91\n",
      "effect: 89\n",
      "disease: 87\n",
      "using: 68\n",
      "response: 68\n",
      "new: 60\n"
     ]
    }
   ],
   "source": [
    "import pandas as pd\n",
    "from py2neo import Graph\n",
    "from collections import Counter\n",
    "import re\n",
    "from nltk.corpus import stopwords\n",
    "from nltk.tokenize import word_tokenize\n",
    "from nltk.stem import WordNetLemmatizer\n",
    "\n",
    "import nltk\n",
    "nltk.download('stopwords')\n",
    "nltk.download('punkt')\n",
    "nltk.download('wordnet')\n",
    "\n",
    "stop_words = set(stopwords.words('english'))\n",
    "lemmatizer = WordNetLemmatizer()\n",
    "\n",
    "graph = Graph(\"bolt://localhost:7687\", auth=(\"neo4j\", \"password_tuts\"))\n",
    "\n",
    "result = graph.run(\n",
    "    \"MATCH (a:Author)-[:SAME_TITLE]-(b:Author) \"\n",
    "    \"WITH COLLECT(DISTINCT a) + COLLECT(DISTINCT b) AS authors \"\n",
    "    \"UNWIND authors AS author \"\n",
    "    \"RETURN DISTINCT author.title AS title\"\n",
    ")\n",
    "\n",
    "data = result.data()\n",
    "titles = [entry['title'] for entry in data if entry['title']]\n",
    "\n",
    "tokens = []\n",
    "for title in titles:\n",
    "    words = word_tokenize(title.lower())\n",
    "    filtered_words = [lemmatizer.lemmatize(w) for w in words if w not in stop_words and w.isalpha()]\n",
    "    tokens.extend(filtered_words)\n",
    "\n",
    "top_topics = Counter(tokens).most_common(10)\n",
    "\n",
    "print(\"Top 10 Research Topics:\")\n",
    "for topic, freq in top_topics:\n",
    "    print(f\"{topic}: {freq}\")\n"
   ]
  },
  {
   "cell_type": "markdown",
   "metadata": {},
   "source": [
    "  -> Dans ce code nous avons utiliser une fonction classique pour rendre minuscule l'ensemble des mots, nous avons ensuite utilisé le package nltk pour procéder à une tokenisation pour fractionner le texte en mots. Nous avons retirer les mots courants (and, the, of, etc.) qui parasiterais les résultats et nous avons procédé à une Lemmatisation pour rendre uniformiser les mots et éviter d'avoir des mots à mêmes racines dans nos résultats. Suite à cela, nous avons compter les mots et obtenus les résultats ci-dessous, que nous allons représenter sous forme de fréquence dans un diagramme circulaire"
   ]
  },
  {
   "cell_type": "code",
   "execution_count": 22,
   "metadata": {},
   "outputs": [
    {
     "data": {
      "image/png": "[encoded data removed]",
      "text/plain": [
       "<Figure size 800x800 with 1 Axes>"
      ]
     },
     "metadata": {},
     "output_type": "display_data"
    }
   ],
   "source": [
    "import matplotlib.pyplot as plt\n",
    "\n",
    "labels, sizes = zip(*top_topics)\n",
    "\n",
    "# Create a pie chart\n",
    "plt.figure(figsize=(8, 8))\n",
    "plt.pie(sizes, labels=labels, autopct='%1.1f%%', startangle=140)\n",
    "plt.title('Top 10 Research Topics')\n",
    "plt.axis('equal')  # Equal aspect ratio ensures that the pie is drawn as a circle.\n",
    "plt.show()"
   ]
  },
  {
   "cell_type": "markdown",
   "metadata": {},
   "source": [
    "### Homework 4\n",
    "\n",
    "change the database \"neo4j\" to the database \"movie\". Go to the browser and run on the browser console :play movie-graph then copy the queries on the console and run it. Congrats you just imported a brand new sample of data. Answer the following questions with cypher queries.\n"
   ]
  },
  {
   "cell_type": "markdown",
   "metadata": {},
   "source": [
    "1) How many actors played in more than 2 movie ? Get their names and year they were born.\n"
   ]
  },
  {
   "cell_type": "markdown",
   "metadata": {},
   "source": [
    "2) In how many movies did Tom hanks play ?\n"
   ]
  },
  {
   "cell_type": "markdown",
   "metadata": {},
   "source": [
    "3) In average in how many movies do actors play in ?"
   ]
  },
  {
   "cell_type": "markdown",
   "metadata": {},
   "source": [
    "4) In average how many actors are there in a movie ?\n"
   ]
  },
  {
   "cell_type": "markdown",
   "metadata": {},
   "source": [
    "5) In average how many writers is needed to write a movie ?"
   ]
  },
  {
   "cell_type": "markdown",
   "metadata": {},
   "source": [
    "\n",
    "6) What is the proportion of writers that also directed the movie ?"
   ]
  },
  {
   "cell_type": "markdown",
   "metadata": {},
   "source": [
    "\n",
    "7) Do an histogram of the year of release for the movies."
   ]
  },
  {
   "cell_type": "markdown",
   "metadata": {},
   "source": [
    "\n",
    "8) Who are the 10 actors with the most movie played in\n"
   ]
  },
  {
   "cell_type": "markdown",
   "metadata": {},
   "source": [
    "9) Delete every movie made by a director of your choosing\n"
   ]
  },
  {
   "cell_type": "markdown",
   "metadata": {},
   "source": [
    "10) Give some statistics that you find interesting."
   ]
  },
  {
   "cell_type": "markdown",
   "metadata": {},
   "source": [
    "\n",
    "11) Sandbox exercise: think of a problematic and try to answer it."
   ]
  },
  {
   "cell_type": "markdown",
   "metadata": {},
   "source": [
    "## Homework 5\n",
    "\n",
    "You will work on a Twitch dataset found [here](https://www.kaggle.com/andreagarritano/twitch-social-networks). The goal is to learn more about the feat&fun on Twitch. First thing to do is create the network on Neo4j. Insert the node\n",
    "from Twitch/FR_target and then the edges from Twitch/FR_edges.csv in neo4j. Answer the following using cypher queries\n"
   ]
  },
  {
   "cell_type": "code",
   "execution_count": 26,
   "metadata": {},
   "outputs": [],
   "source": [
    "import pandas as pd\n",
    "from py2neo import Graph, Node, Relationship\n",
    "\n",
    "targets_fp = \"/Users/valen/Desktop/data/Twitch/FR_target.csv\"\n",
    "edges_fp = \"/Users/valen/Desktop/data/Twitch/FR_edges.csv\"\n",
    "\n",
    "target = pd.read_csv(targets_fp)\n",
    "edges = pd.read_csv(edges_fp)"
   ]
  },
  {
   "cell_type": "code",
   "execution_count": 29,
   "metadata": {},
   "outputs": [
    {
     "data": {
      "text/html": [
       "<div>\n",
       "<style scoped>\n",
       "    .dataframe tbody tr th:only-of-type {\n",
       "        vertical-align: middle;\n",
       "    }\n",
       "\n",
       "    .dataframe tbody tr th {\n",
       "        vertical-align: top;\n",
       "    }\n",
       "\n",
       "    .dataframe thead th {\n",
       "        text-align: right;\n",
       "    }\n",
       "</style>\n",
       "<table border=\"1\" class=\"dataframe\">\n",
       "  <thead>\n",
       "    <tr style=\"text-align: right;\">\n",
       "      <th></th>\n",
       "      <th>id</th>\n",
       "      <th>days</th>\n",
       "      <th>mature</th>\n",
       "      <th>views</th>\n",
       "      <th>partner</th>\n",
       "      <th>new_id</th>\n",
       "    </tr>\n",
       "  </thead>\n",
       "  <tbody>\n",
       "    <tr>\n",
       "      <th>0</th>\n",
       "      <td>150417538</td>\n",
       "      <td>577</td>\n",
       "      <td>True</td>\n",
       "      <td>775</td>\n",
       "      <td>False</td>\n",
       "      <td>4867</td>\n",
       "    </tr>\n",
       "    <tr>\n",
       "      <th>1</th>\n",
       "      <td>125723704</td>\n",
       "      <td>861</td>\n",
       "      <td>True</td>\n",
       "      <td>2585</td>\n",
       "      <td>False</td>\n",
       "      <td>3692</td>\n",
       "    </tr>\n",
       "    <tr>\n",
       "      <th>2</th>\n",
       "      <td>155971814</td>\n",
       "      <td>523</td>\n",
       "      <td>False</td>\n",
       "      <td>1566</td>\n",
       "      <td>False</td>\n",
       "      <td>3816</td>\n",
       "    </tr>\n",
       "    <tr>\n",
       "      <th>3</th>\n",
       "      <td>35832890</td>\n",
       "      <td>2234</td>\n",
       "      <td>False</td>\n",
       "      <td>9713</td>\n",
       "      <td>False</td>\n",
       "      <td>416</td>\n",
       "    </tr>\n",
       "    <tr>\n",
       "      <th>4</th>\n",
       "      <td>46787750</td>\n",
       "      <td>1896</td>\n",
       "      <td>True</td>\n",
       "      <td>44529</td>\n",
       "      <td>False</td>\n",
       "      <td>4502</td>\n",
       "    </tr>\n",
       "    <tr>\n",
       "      <th>...</th>\n",
       "      <td>...</td>\n",
       "      <td>...</td>\n",
       "      <td>...</td>\n",
       "      <td>...</td>\n",
       "      <td>...</td>\n",
       "      <td>...</td>\n",
       "    </tr>\n",
       "    <tr>\n",
       "      <th>6546</th>\n",
       "      <td>29196284</td>\n",
       "      <td>2061</td>\n",
       "      <td>False</td>\n",
       "      <td>3822</td>\n",
       "      <td>False</td>\n",
       "      <td>6546</td>\n",
       "    </tr>\n",
       "    <tr>\n",
       "      <th>6547</th>\n",
       "      <td>124327806</td>\n",
       "      <td>880</td>\n",
       "      <td>True</td>\n",
       "      <td>30313</td>\n",
       "      <td>False</td>\n",
       "      <td>2392</td>\n",
       "    </tr>\n",
       "    <tr>\n",
       "      <th>6548</th>\n",
       "      <td>144229380</td>\n",
       "      <td>640</td>\n",
       "      <td>True</td>\n",
       "      <td>5022</td>\n",
       "      <td>False</td>\n",
       "      <td>391</td>\n",
       "    </tr>\n",
       "    <tr>\n",
       "      <th>6549</th>\n",
       "      <td>131423064</td>\n",
       "      <td>736</td>\n",
       "      <td>False</td>\n",
       "      <td>2658</td>\n",
       "      <td>False</td>\n",
       "      <td>2793</td>\n",
       "    </tr>\n",
       "    <tr>\n",
       "      <th>6550</th>\n",
       "      <td>45419243</td>\n",
       "      <td>1929</td>\n",
       "      <td>True</td>\n",
       "      <td>3743</td>\n",
       "      <td>False</td>\n",
       "      <td>1092</td>\n",
       "    </tr>\n",
       "  </tbody>\n",
       "</table>\n",
       "<p>6551 rows × 6 columns</p>\n",
       "</div>"
      ],
      "text/plain": [
       "             id  days  mature  views  partner  new_id\n",
       "0     150417538   577    True    775    False    4867\n",
       "1     125723704   861    True   2585    False    3692\n",
       "2     155971814   523   False   1566    False    3816\n",
       "3      35832890  2234   False   9713    False     416\n",
       "4      46787750  1896    True  44529    False    4502\n",
       "...         ...   ...     ...    ...      ...     ...\n",
       "6546   29196284  2061   False   3822    False    6546\n",
       "6547  124327806   880    True  30313    False    2392\n",
       "6548  144229380   640    True   5022    False     391\n",
       "6549  131423064   736   False   2658    False    2793\n",
       "6550   45419243  1929    True   3743    False    1092\n",
       "\n",
       "[6551 rows x 6 columns]"
      ]
     },
     "execution_count": 29,
     "metadata": {},
     "output_type": "execute_result"
    }
   ],
   "source": [
    "target"
   ]
  },
  {
   "cell_type": "code",
   "execution_count": 30,
   "metadata": {},
   "outputs": [
    {
     "data": {
      "text/html": [
       "<div>\n",
       "<style scoped>\n",
       "    .dataframe tbody tr th:only-of-type {\n",
       "        vertical-align: middle;\n",
       "    }\n",
       "\n",
       "    .dataframe tbody tr th {\n",
       "        vertical-align: top;\n",
       "    }\n",
       "\n",
       "    .dataframe thead th {\n",
       "        text-align: right;\n",
       "    }\n",
       "</style>\n",
       "<table border=\"1\" class=\"dataframe\">\n",
       "  <thead>\n",
       "    <tr style=\"text-align: right;\">\n",
       "      <th></th>\n",
       "      <th>from</th>\n",
       "      <th>to</th>\n",
       "    </tr>\n",
       "  </thead>\n",
       "  <tbody>\n",
       "    <tr>\n",
       "      <th>0</th>\n",
       "      <td>0</td>\n",
       "      <td>6420</td>\n",
       "    </tr>\n",
       "    <tr>\n",
       "      <th>1</th>\n",
       "      <td>0</td>\n",
       "      <td>2941</td>\n",
       "    </tr>\n",
       "    <tr>\n",
       "      <th>2</th>\n",
       "      <td>0</td>\n",
       "      <td>3051</td>\n",
       "    </tr>\n",
       "    <tr>\n",
       "      <th>3</th>\n",
       "      <td>0</td>\n",
       "      <td>5511</td>\n",
       "    </tr>\n",
       "    <tr>\n",
       "      <th>4</th>\n",
       "      <td>0</td>\n",
       "      <td>1020</td>\n",
       "    </tr>\n",
       "    <tr>\n",
       "      <th>...</th>\n",
       "      <td>...</td>\n",
       "      <td>...</td>\n",
       "    </tr>\n",
       "    <tr>\n",
       "      <th>112661</th>\n",
       "      <td>77</td>\n",
       "      <td>6542</td>\n",
       "    </tr>\n",
       "    <tr>\n",
       "      <th>112662</th>\n",
       "      <td>6516</td>\n",
       "      <td>6527</td>\n",
       "    </tr>\n",
       "    <tr>\n",
       "      <th>112663</th>\n",
       "      <td>6520</td>\n",
       "      <td>6527</td>\n",
       "    </tr>\n",
       "    <tr>\n",
       "      <th>112664</th>\n",
       "      <td>6527</td>\n",
       "      <td>6542</td>\n",
       "    </tr>\n",
       "    <tr>\n",
       "      <th>112665</th>\n",
       "      <td>6527</td>\n",
       "      <td>6541</td>\n",
       "    </tr>\n",
       "  </tbody>\n",
       "</table>\n",
       "<p>112666 rows × 2 columns</p>\n",
       "</div>"
      ],
      "text/plain": [
       "        from    to\n",
       "0          0  6420\n",
       "1          0  2941\n",
       "2          0  3051\n",
       "3          0  5511\n",
       "4          0  1020\n",
       "...      ...   ...\n",
       "112661    77  6542\n",
       "112662  6516  6527\n",
       "112663  6520  6527\n",
       "112664  6527  6542\n",
       "112665  6527  6541\n",
       "\n",
       "[112666 rows x 2 columns]"
      ]
     },
     "execution_count": 30,
     "metadata": {},
     "output_type": "execute_result"
    }
   ],
   "source": [
    "edges"
   ]
  },
  {
   "cell_type": "code",
   "execution_count": 29,
   "metadata": {},
   "outputs": [],
   "source": [
    "from py2neo import Graph, Node, Relationship\n",
    "\n",
    "graph = Graph(\"bolt://localhost:7687\", auth=(\"neo4j\", \"password_tuts\"), name = \"twitch\")\n",
    "graph.delete_all()\n",
    "\n",
    "graph.run(\"CREATE INDEX FOR (u:TwitchUser) ON (u.id)\")\n",
    "graph.run(\"CREATE INDEX FOR (u:TwitchUser) ON (u.new_id)\")\n",
    "\n",
    "with open(targets_fp, 'r') as file:\n",
    "    next(file) \n",
    "    nodes_batch = []\n",
    "    for line in file:\n",
    "        id, days, mature, views, partner, new_id = line.strip().split(',')  \n",
    "        nodes_batch.append({\"id\": id, \"days\": days, \"mature\": mature, \"views\": views, \"partner\": partner, \"new_id\": new_id})\n",
    "    \n",
    "    graph.run(\n",
    "        \"UNWIND $nodes_batch AS row \"\n",
    "        \"CREATE (:TwitchUser {id: row.id, days: row.days, mature: row.mature, views: row.views, partner: row.partner, new_id: row.new_id})\",\n",
    "        {\"nodes_batch\": nodes_batch}\n",
    "    )\n",
    "\n",
    "with open(edges_fp, 'r') as file:\n",
    "    next(file)\n",
    "    edges_batch = []\n",
    "    for line in file:\n",
    "        source_id, target_id = line.strip().split(',')\n",
    "        edges_batch.append({\"source_id\": source_id, \"target_id\": target_id})\n",
    "    \n",
    "    graph.run(\n",
    "        \"UNWIND $edges_batch AS edge \"\n",
    "        \"MATCH (source:TwitchUser {new_id: edge.source_id}) \"\n",
    "        \"MATCH (target:TwitchUser {new_id: edge.target_id}) \"\n",
    "        \"CREATE (source)-[:FOLLOWS]->(target)\",\n",
    "        {\"edges_batch\": edges_batch}\n",
    "    )"
   ]
  },
  {
   "cell_type": "markdown",
   "metadata": {},
   "source": [
    "1) Give the IDs of the top 10 streamers that have atleast one collaboration.\n"
   ]
  },
  {
   "cell_type": "code",
   "execution_count": 38,
   "metadata": {},
   "outputs": [
    {
     "data": {
      "text/html": [
       "<div>\n",
       "<style scoped>\n",
       "    .dataframe tbody tr th:only-of-type {\n",
       "        vertical-align: middle;\n",
       "    }\n",
       "\n",
       "    .dataframe tbody tr th {\n",
       "        vertical-align: top;\n",
       "    }\n",
       "\n",
       "    .dataframe thead th {\n",
       "        text-align: right;\n",
       "    }\n",
       "</style>\n",
       "<table border=\"1\" class=\"dataframe\">\n",
       "  <thead>\n",
       "    <tr style=\"text-align: right;\">\n",
       "      <th></th>\n",
       "      <th>streamer_id</th>\n",
       "      <th>collaborations</th>\n",
       "    </tr>\n",
       "  </thead>\n",
       "  <tbody>\n",
       "    <tr>\n",
       "      <th>0</th>\n",
       "      <td>28575692</td>\n",
       "      <td>1491</td>\n",
       "    </tr>\n",
       "    <tr>\n",
       "      <th>1</th>\n",
       "      <td>41719107</td>\n",
       "      <td>1393</td>\n",
       "    </tr>\n",
       "    <tr>\n",
       "      <th>2</th>\n",
       "      <td>24147592</td>\n",
       "      <td>1350</td>\n",
       "    </tr>\n",
       "    <tr>\n",
       "      <th>3</th>\n",
       "      <td>89872865</td>\n",
       "      <td>673</td>\n",
       "    </tr>\n",
       "    <tr>\n",
       "      <th>4</th>\n",
       "      <td>4102418</td>\n",
       "      <td>656</td>\n",
       "    </tr>\n",
       "    <tr>\n",
       "      <th>5</th>\n",
       "      <td>42141251</td>\n",
       "      <td>615</td>\n",
       "    </tr>\n",
       "    <tr>\n",
       "      <th>6</th>\n",
       "      <td>84934385</td>\n",
       "      <td>611</td>\n",
       "    </tr>\n",
       "    <tr>\n",
       "      <th>7</th>\n",
       "      <td>135468063</td>\n",
       "      <td>560</td>\n",
       "    </tr>\n",
       "    <tr>\n",
       "      <th>8</th>\n",
       "      <td>40063341</td>\n",
       "      <td>549</td>\n",
       "    </tr>\n",
       "    <tr>\n",
       "      <th>9</th>\n",
       "      <td>30709418</td>\n",
       "      <td>511</td>\n",
       "    </tr>\n",
       "  </tbody>\n",
       "</table>\n",
       "</div>"
      ],
      "text/plain": [
       "  streamer_id  collaborations\n",
       "0    28575692            1491\n",
       "1    41719107            1393\n",
       "2    24147592            1350\n",
       "3    89872865             673\n",
       "4     4102418             656\n",
       "5    42141251             615\n",
       "6    84934385             611\n",
       "7   135468063             560\n",
       "8    40063341             549\n",
       "9    30709418             511"
      ]
     },
     "execution_count": 38,
     "metadata": {},
     "output_type": "execute_result"
    }
   ],
   "source": [
    "query = \"\"\"\n",
    "MATCH (streamer:TwitchUser)-[:FOLLOWS]->(:TwitchUser)\n",
    "WITH streamer, count(*) AS collaborations\n",
    "WHERE collaborations > 0\n",
    "RETURN streamer.id AS streamer_id, collaborations\n",
    "ORDER BY collaborations DESC\n",
    "LIMIT 10\n",
    "\"\"\"\n",
    "\n",
    "graph.run(query).to_data_frame()"
   ]
  },
  {
   "cell_type": "markdown",
   "metadata": {},
   "source": [
    "2) Create a density of node degrees. Do you observe a power scale law ? What does it mean ?"
   ]
  },
  {
   "cell_type": "code",
   "execution_count": 30,
   "metadata": {},
   "outputs": [
    {
     "data": {
      "image/png": "[encoded data removed]",
      "text/plain": [
       "<Figure size 1000x600 with 1 Axes>"
      ]
     },
     "metadata": {},
     "output_type": "display_data"
    }
   ],
   "source": [
    "from collections import Counter\n",
    "import matplotlib.pyplot as plt\n",
    "\n",
    "query = \"\"\"\n",
    "MATCH (n:TwitchUser)-[r]-()\n",
    "RETURN n.id AS id, count(r) AS degree\n",
    "\"\"\"\n",
    "\n",
    "degrees = [record['degree'] for record in graph.run(query)]\n",
    "\n",
    "degree_counts = Counter(degrees)\n",
    "\n",
    "x, y = zip(*sorted(degree_counts.items()))\n",
    "\n",
    "plt.figure(figsize=(10, 6))\n",
    "plt.plot(x, y, marker='o')\n",
    "plt.xlabel(\"Degree\")\n",
    "plt.ylabel(\"Frequency\")\n",
    "plt.xscale('log')\n",
    "plt.title(\"Degree Distribution\")\n",
    "plt.grid(True)\n",
    "plt.show()"
   ]
  },
  {
   "cell_type": "markdown",
   "metadata": {},
   "source": [
    "        -> La distribution en puissance est cette fois plus prononcée que dans l'exercice précédent. Ce résultat indique que la majorité des streamers collaborent peu tandis qu'une petite partie collaborent beaucoup plus."
   ]
  },
  {
   "cell_type": "markdown",
   "metadata": {},
   "source": [
    "\n",
    "3) How many streamers has the tag \"mature\" ?\n"
   ]
  },
  {
   "cell_type": "code",
   "execution_count": 61,
   "metadata": {},
   "outputs": [
    {
     "data": {
      "text/plain": [
       "2416"
      ]
     },
     "execution_count": 61,
     "metadata": {},
     "output_type": "execute_result"
    }
   ],
   "source": [
    "query = \"\"\"\n",
    "MATCH (s:TwitchUser)\n",
    "WHERE s.mature = 'True' \n",
    "RETURN count(s) AS mature_streamers_count\n",
    "\"\"\"\n",
    "\n",
    "graph.run(query).evaluate()"
   ]
  },
  {
   "cell_type": "markdown",
   "metadata": {},
   "source": [
    "4) Is the collaboration correlated to the \"mature\" tag ?"
   ]
  },
  {
   "cell_type": "code",
   "execution_count": 69,
   "metadata": {},
   "outputs": [
    {
     "name": "stdout",
     "output_type": "stream",
     "text": [
      "[[1.         0.03271063]\n",
      " [0.03271063 1.        ]]\n"
     ]
    }
   ],
   "source": [
    "import numpy as np\n",
    "\n",
    "query = \"\"\"\n",
    "MATCH (u:TwitchUser)-[r:FOLLOWS]-()\n",
    "WITH u, count(r) AS collaborations\n",
    "RETURN u.id AS id, u.mature AS mature, collaborations\n",
    "\"\"\"\n",
    "\n",
    "data = graph.run(query).to_data_frame()\n",
    "\n",
    "data['mature'] = data['mature'].map({'True': True, 'False': False})\n",
    "\n",
    "np.corrcoef(data['mature'], data['collaborations'])\n"
   ]
  },
  {
   "cell_type": "markdown",
   "metadata": {},
   "source": [
    "        -> Faible corrélation de 3% entre la corrélation et le tag \"mature\""
   ]
  },
  {
   "cell_type": "markdown",
   "metadata": {},
   "source": [
    "\n",
    "5) Do partners collaborate more than non partners ?"
   ]
  },
  {
   "cell_type": "code",
   "execution_count": 73,
   "metadata": {},
   "outputs": [
    {
     "name": "stdout",
     "output_type": "stream",
     "text": [
      "181.0\n",
      "24.715192965315094\n"
     ]
    }
   ],
   "source": [
    "from scipy.stats import ttest_ind\n",
    "\n",
    "query = \"\"\"\n",
    "MATCH (u:TwitchUser)-[r:FOLLOWS]-()\n",
    "WITH u, count(r) AS collaborations\n",
    "RETURN u.partner AS partner, collaborations\n",
    "\"\"\"\n",
    "\n",
    "data = graph.run(query).to_data_frame()\n",
    "\n",
    "partners = data[data['partner'] == 'True']['collaborations']\n",
    "non_partners = data[data['partner'] != 'True']['collaborations']\n",
    "\n",
    "print(partners.mean())\n",
    "print(non_partners.mean())\n"
   ]
  },
  {
   "cell_type": "markdown",
   "metadata": {},
   "source": [
    "        -> Les partenaires semblent collaborer en moyenne beaucoup plus que les non partenaires"
   ]
  },
  {
   "cell_type": "markdown",
   "metadata": {},
   "source": [
    "6) Sandbox exercise: think of a problematic and try to answer it."
   ]
  },
  {
   "cell_type": "markdown",
   "metadata": {},
   "source": [
    "## Homework 6 \n",
    "\n",
    "You will work on a stackoverflow dataset found [here](https://www.kaggle.com/stackoverflow/stack-overflow-tag-network). First thing to do is create the network on Neo4j. You can find the characteristics of the nodes in stack_network_nodes.csv.\n",
    "Once the node are create you can create the edges between them, you can find them in stack_network_links.csv. The weight of the edge is the column value. Answer the following making use of cypher queries.\n"
   ]
  },
  {
   "cell_type": "code",
   "execution_count": 33,
   "metadata": {},
   "outputs": [],
   "source": [
    "links_pf= \"/Users/valen/Desktop/data/Stackoverflow/stack_network_links.csv\"\n",
    "nodes_pf= \"/Users/valen/Desktop/data/Stackoverflow/stack_network_nodes.csv\"\n",
    "\n",
    "df_links = pd.read_csv(links_pf)\n",
    "df_nodes = pd.read_csv(nodes_pf)"
   ]
  },
  {
   "cell_type": "code",
   "execution_count": 34,
   "metadata": {},
   "outputs": [
    {
     "data": {
      "text/html": [
       "<div>\n",
       "<style scoped>\n",
       "    .dataframe tbody tr th:only-of-type {\n",
       "        vertical-align: middle;\n",
       "    }\n",
       "\n",
       "    .dataframe tbody tr th {\n",
       "        vertical-align: top;\n",
       "    }\n",
       "\n",
       "    .dataframe thead th {\n",
       "        text-align: right;\n",
       "    }\n",
       "</style>\n",
       "<table border=\"1\" class=\"dataframe\">\n",
       "  <thead>\n",
       "    <tr style=\"text-align: right;\">\n",
       "      <th></th>\n",
       "      <th>source</th>\n",
       "      <th>target</th>\n",
       "      <th>value</th>\n",
       "    </tr>\n",
       "  </thead>\n",
       "  <tbody>\n",
       "    <tr>\n",
       "      <th>0</th>\n",
       "      <td>azure</td>\n",
       "      <td>.net</td>\n",
       "      <td>20.933192</td>\n",
       "    </tr>\n",
       "    <tr>\n",
       "      <th>1</th>\n",
       "      <td>sql-server</td>\n",
       "      <td>.net</td>\n",
       "      <td>32.322524</td>\n",
       "    </tr>\n",
       "    <tr>\n",
       "      <th>2</th>\n",
       "      <td>asp.net</td>\n",
       "      <td>.net</td>\n",
       "      <td>48.407030</td>\n",
       "    </tr>\n",
       "    <tr>\n",
       "      <th>3</th>\n",
       "      <td>entity-framework</td>\n",
       "      <td>.net</td>\n",
       "      <td>24.370903</td>\n",
       "    </tr>\n",
       "    <tr>\n",
       "      <th>4</th>\n",
       "      <td>wpf</td>\n",
       "      <td>.net</td>\n",
       "      <td>32.350925</td>\n",
       "    </tr>\n",
       "    <tr>\n",
       "      <th>...</th>\n",
       "      <td>...</td>\n",
       "      <td>...</td>\n",
       "      <td>...</td>\n",
       "    </tr>\n",
       "    <tr>\n",
       "      <th>485</th>\n",
       "      <td>objective-c</td>\n",
       "      <td>xcode</td>\n",
       "      <td>43.418825</td>\n",
       "    </tr>\n",
       "    <tr>\n",
       "      <th>486</th>\n",
       "      <td>swift</td>\n",
       "      <td>xcode</td>\n",
       "      <td>48.620335</td>\n",
       "    </tr>\n",
       "    <tr>\n",
       "      <th>487</th>\n",
       "      <td>iphone</td>\n",
       "      <td>xcode</td>\n",
       "      <td>34.712865</td>\n",
       "    </tr>\n",
       "    <tr>\n",
       "      <th>488</th>\n",
       "      <td>ios</td>\n",
       "      <td>xcode</td>\n",
       "      <td>46.365091</td>\n",
       "    </tr>\n",
       "    <tr>\n",
       "      <th>489</th>\n",
       "      <td>json</td>\n",
       "      <td>xml</td>\n",
       "      <td>42.721668</td>\n",
       "    </tr>\n",
       "  </tbody>\n",
       "</table>\n",
       "<p>490 rows × 3 columns</p>\n",
       "</div>"
      ],
      "text/plain": [
       "               source target      value\n",
       "0               azure   .net  20.933192\n",
       "1          sql-server   .net  32.322524\n",
       "2             asp.net   .net  48.407030\n",
       "3    entity-framework   .net  24.370903\n",
       "4                 wpf   .net  32.350925\n",
       "..                ...    ...        ...\n",
       "485       objective-c  xcode  43.418825\n",
       "486             swift  xcode  48.620335\n",
       "487            iphone  xcode  34.712865\n",
       "488               ios  xcode  46.365091\n",
       "489              json    xml  42.721668\n",
       "\n",
       "[490 rows x 3 columns]"
      ]
     },
     "execution_count": 34,
     "metadata": {},
     "output_type": "execute_result"
    }
   ],
   "source": [
    "df_links"
   ]
  },
  {
   "cell_type": "code",
   "execution_count": 35,
   "metadata": {},
   "outputs": [
    {
     "data": {
      "text/html": [
       "<div>\n",
       "<style scoped>\n",
       "    .dataframe tbody tr th:only-of-type {\n",
       "        vertical-align: middle;\n",
       "    }\n",
       "\n",
       "    .dataframe tbody tr th {\n",
       "        vertical-align: top;\n",
       "    }\n",
       "\n",
       "    .dataframe thead th {\n",
       "        text-align: right;\n",
       "    }\n",
       "</style>\n",
       "<table border=\"1\" class=\"dataframe\">\n",
       "  <thead>\n",
       "    <tr style=\"text-align: right;\">\n",
       "      <th></th>\n",
       "      <th>name</th>\n",
       "      <th>group</th>\n",
       "      <th>nodesize</th>\n",
       "    </tr>\n",
       "  </thead>\n",
       "  <tbody>\n",
       "    <tr>\n",
       "      <th>0</th>\n",
       "      <td>html</td>\n",
       "      <td>6</td>\n",
       "      <td>272.45</td>\n",
       "    </tr>\n",
       "    <tr>\n",
       "      <th>1</th>\n",
       "      <td>css</td>\n",
       "      <td>6</td>\n",
       "      <td>341.17</td>\n",
       "    </tr>\n",
       "    <tr>\n",
       "      <th>2</th>\n",
       "      <td>hibernate</td>\n",
       "      <td>8</td>\n",
       "      <td>29.83</td>\n",
       "    </tr>\n",
       "    <tr>\n",
       "      <th>3</th>\n",
       "      <td>spring</td>\n",
       "      <td>8</td>\n",
       "      <td>52.84</td>\n",
       "    </tr>\n",
       "    <tr>\n",
       "      <th>4</th>\n",
       "      <td>ruby</td>\n",
       "      <td>3</td>\n",
       "      <td>70.14</td>\n",
       "    </tr>\n",
       "    <tr>\n",
       "      <th>...</th>\n",
       "      <td>...</td>\n",
       "      <td>...</td>\n",
       "      <td>...</td>\n",
       "    </tr>\n",
       "    <tr>\n",
       "      <th>110</th>\n",
       "      <td>perl</td>\n",
       "      <td>13</td>\n",
       "      <td>19.38</td>\n",
       "    </tr>\n",
       "    <tr>\n",
       "      <th>111</th>\n",
       "      <td>cloud</td>\n",
       "      <td>9</td>\n",
       "      <td>10.66</td>\n",
       "    </tr>\n",
       "    <tr>\n",
       "      <th>112</th>\n",
       "      <td>photoshop</td>\n",
       "      <td>6</td>\n",
       "      <td>12.62</td>\n",
       "    </tr>\n",
       "    <tr>\n",
       "      <th>113</th>\n",
       "      <td>powershell</td>\n",
       "      <td>5</td>\n",
       "      <td>9.85</td>\n",
       "    </tr>\n",
       "    <tr>\n",
       "      <th>114</th>\n",
       "      <td>matlab</td>\n",
       "      <td>1</td>\n",
       "      <td>27.21</td>\n",
       "    </tr>\n",
       "  </tbody>\n",
       "</table>\n",
       "<p>115 rows × 3 columns</p>\n",
       "</div>"
      ],
      "text/plain": [
       "           name  group  nodesize\n",
       "0          html      6    272.45\n",
       "1           css      6    341.17\n",
       "2     hibernate      8     29.83\n",
       "3        spring      8     52.84\n",
       "4          ruby      3     70.14\n",
       "..          ...    ...       ...\n",
       "110        perl     13     19.38\n",
       "111       cloud      9     10.66\n",
       "112   photoshop      6     12.62\n",
       "113  powershell      5      9.85\n",
       "114      matlab      1     27.21\n",
       "\n",
       "[115 rows x 3 columns]"
      ]
     },
     "execution_count": 35,
     "metadata": {},
     "output_type": "execute_result"
    }
   ],
   "source": [
    "df_nodes"
   ]
  },
  {
   "cell_type": "code",
   "execution_count": 50,
   "metadata": {},
   "outputs": [],
   "source": [
    "from py2neo import Graph, Node, Relationship, NodeMatcher\n",
    "import csv\n",
    "\n",
    "graph = Graph(\"bolt://localhost:7687\", auth=(\"neo4j\", \"password_tuts\"), name = \"sof\")\n",
    "graph.delete_all()\n",
    "\n",
    "with open(nodes_pf, newline='') as csvfile:\n",
    "    reader = csv.DictReader(csvfile)\n",
    "    for row in reader:\n",
    "        name = row['name']\n",
    "        group = row['group']\n",
    "        nodesize = float(row['nodesize'])\n",
    "       \n",
    "        node = Node(\"Node\", name=name, group=group, nodesize=nodesize)\n",
    "        \n",
    "        graph.create(node)\n",
    "\n",
    "nds_ids = {node[\"name\"]: node.identity for node in NodeMatcher(graph).match(\"Node\")}\n",
    "\n",
    "with open(links_pf, newline='') as csvfile:\n",
    "    reader = csv.DictReader(csvfile)\n",
    "    for row in reader:\n",
    "        source_name = row['source']\n",
    "        target_name = row['target']\n",
    "        value = float(row['value'])\n",
    "        \n",
    "        source_id = nds_ids.get(source_name)\n",
    "        target_id = nds_ids.get(target_name)\n",
    "        \n",
    "        if source_id is not None and target_id is not None:\n",
    "            relation = Relationship(graph.nodes[source_id], \"LINKS_TO\", graph.nodes[target_id], weight=value)\n",
    "            \n",
    "            graph.create(relation)\n"
   ]
  },
  {
   "cell_type": "markdown",
   "metadata": {},
   "source": [
    "1) What are the 10 most popular keywords ?"
   ]
  },
  {
   "cell_type": "code",
   "execution_count": 57,
   "metadata": {},
   "outputs": [
    {
     "name": "stdout",
     "output_type": "stream",
     "text": [
      "javascript: 649.16\n",
      "java: 610.65\n",
      "python: 438.67\n",
      "php: 361.22\n",
      "css: 341.17\n",
      "c#: 321.13\n",
      "html: 272.45\n",
      "c++: 268.11\n",
      "android: 229.86\n",
      "jquery: 208.29\n"
     ]
    }
   ],
   "source": [
    "query = \"\"\"\n",
    "MATCH (n:Node)\n",
    "RETURN n.name AS Keyword, n.nodesize AS Popularity\n",
    "ORDER BY n.nodesize DESC\n",
    "LIMIT 10\n",
    "\"\"\"\n",
    "\n",
    "results = graph.run(query)\n",
    "for record in results:\n",
    "    print(f\"{record['Keyword']}: {record['Popularity']}\")"
   ]
  },
  {
   "cell_type": "markdown",
   "metadata": {},
   "source": [
    "2) What are the top 10 Co-occurence ?\n"
   ]
  },
  {
   "cell_type": "code",
   "execution_count": 80,
   "metadata": {},
   "outputs": [
    {
     "name": "stdout",
     "output_type": "stream",
     "text": [
      "css - angularjs: 2\n",
      "css - bootstrap: 2\n",
      "css - ajax: 2\n",
      "spring - java: 2\n",
      "spring - jsp: 2\n",
      "spring - hibernate: 2\n",
      "spring - java-ee: 2\n",
      "spring - maven: 2\n",
      "spring - rest: 2\n",
      "html - css: 2\n"
     ]
    }
   ],
   "source": [
    "query = \"\"\"\n",
    "MATCH (a:Node)-[r:LINKS_TO]-(b:Node)\n",
    "WHERE b.name < a.name\n",
    "RETURN a.name AS Source, b.name AS Target, COUNT(*) AS co_occ\n",
    "ORDER BY co_occ DESC\n",
    "LIMIT 10\n",
    "\"\"\"\n",
    "\n",
    "results = graph.run(query)\n",
    "for record in results:\n",
    "    print(f\"{record['Source']} - {record['Target']}: {record['co_occ']}\")"
   ]
  },
  {
   "cell_type": "markdown",
   "metadata": {},
   "source": [
    "3) How many keywords are in group 1 ?\n"
   ]
  },
  {
   "cell_type": "code",
   "execution_count": 88,
   "metadata": {},
   "outputs": [
    {
     "data": {
      "text/plain": [
       "10"
      ]
     },
     "execution_count": 88,
     "metadata": {},
     "output_type": "execute_result"
    }
   ],
   "source": [
    "query = \"\"\"\n",
    "MATCH (n:Node {group: \"1\"})\n",
    "RETURN count(n) AS KeywordCount\n",
    "\"\"\"\n",
    "\n",
    "graph.run(query).evaluate()"
   ]
  },
  {
   "cell_type": "markdown",
   "metadata": {},
   "source": [
    "3) Is the Co-occurence correlated to the \"group\" of the keyword ?  "
   ]
  },
  {
   "cell_type": "markdown",
   "metadata": {},
   "source": [
    "4) Sandbox exercise: think of a problematic and try to answer it."
   ]
  }
 ],
 "metadata": {
  "kernelspec": {
   "display_name": "Python 3",
   "language": "python",
   "name": "python3"
  },
  "language_info": {
   "codemirror_mode": {
    "name": "ipython",
    "version": 3
   },
   "file_extension": ".py",
   "mimetype": "text/x-python",
   "name": "python",
   "nbconvert_exporter": "python",
   "pygments_lexer": "ipython3",
   "version": "3.12.3"
  }
 },
 "nbformat": 4,
 "nbformat_minor": 4
}
