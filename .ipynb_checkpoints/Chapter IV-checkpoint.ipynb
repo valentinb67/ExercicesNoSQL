{
 "cells": [
  {
   "cell_type": "markdown",
   "metadata": {},
   "source": [
    "# Alternatives\n",
    "\n",
    "MongoDB is the most popular Document oriented DB. But depending on the data you want to store and the project you are working on you might want to use other DBs. We will discuss different alternatives to MongoDB, their strengths and weaknesses. We wont go into to much details how to install every one of them and how to interact with them using python but feel free to try them on your own !"
   ]
  },
  {
   "cell_type": "markdown",
   "metadata": {},
   "source": [
    "## REDIS\n",
    "\n",
    "Redis is a key-value storage system. It is an open source (BSD licensed), in-memory data structure store, used as a database, cache and message broker (i.e it stores data on ram and save it on disk after a defined number of transaction or when you shut down the server.). This means that the database has a stockage limit which is your ram.\n",
    "read more on:\n",
    "https://redis.io/topics/faq\n",
    "https://redis.io/topics/persistence\n",
    "\n",
    "Easy install:\n",
    "- windows https://redislabs.com/ebook/appendix-a/a-3-installing-on-windows/a-3-2-installing-redis-on-window/\n",
    "- macos https://redislabs.com/ebook/appendix-a/a-2-installing-on-os-x/\n",
    "- linux https://redislabs.com/ebook/appendix-a/a-1-installation-on-debian-or-ubuntu-linux/\n",
    "\n",
    "once your redis-server is launched you can use python to interact with it"
   ]
  },
  {
   "cell_type": "code",
   "execution_count": null,
   "metadata": {},
   "outputs": [],
   "source": [
    "import redis\n",
    "import json\n",
    "redis_server = redis.Redis(\"localhost\", db=0)\n",
    "redis_server.set(\"name\", \"orkb\")\n",
    "redis_server.get(\"name\")\n",
    "\n",
    "user = {\"Name\":\"Pradeep\", \"Company\":\"SCTL\", \"Address\":\"Mumbai\", \"Location\":\"RCP\"}\n",
    "user_updated = {\"Name\":\"Pradeep\", \"Company\":\"Google\", \"Address\":\"Mumbai\", \"Location\":\"RCP\"}\n",
    "# create\n",
    "redis_server.set(\"pythonDict\", json.dumps(user))\n",
    "# read\n",
    "print(redis_server.get(\"pythonDict\"))\n",
    "# update\n",
    "redis_server.set(\"pythonDict\", json.dumps(user_updated))\n",
    "# delete\n",
    "redis_server.delete(\"pythonDict\")"
   ]
  },
  {
   "cell_type": "markdown",
   "metadata": {},
   "source": [
    "## Cassandra"
   ]
  }
 ],
 "metadata": {
  "kernelspec": {
   "display_name": "Python 3",
   "language": "python",
   "name": "python3"
  },
  "language_info": {
   "codemirror_mode": {
    "name": "ipython",
    "version": 3
   },
   "file_extension": ".py",
   "mimetype": "text/x-python",
   "name": "python",
   "nbconvert_exporter": "python",
   "pygments_lexer": "ipython3",
   "version": "3.8.3"
  }
 },
 "nbformat": 4,
 "nbformat_minor": 4
}
